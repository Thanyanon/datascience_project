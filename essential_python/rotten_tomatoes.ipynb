{
 "cells": [
  {
   "cell_type": "markdown",
   "source": [
    "# Rotten tomatoes top movies dataset from kaggle\n",
    "\n",
    "[Kaggle link](https://www.kaggle.com/datasets/thedevastator/rotten-tomatoes-top-movies-ratings-and-technical)\n",
    "\n",
    "Columns detail:\n",
    "\n",
    "- title: The title of the movie. (String)\n",
    "- year: The year the movie was released. (Integer)\n",
    "- synopsis: A brief summary of the movie. (String)\n",
    "- critic_score: The score given to the movie by critics. (Integer)\n",
    "- people_score: The score given to the movie by viewers. (Integer)\n",
    "- consensus: A summary of the reviews for the movie. (String)\n",
    "- total_reviews: The total number of reviews for the movie. (Integer)\n",
    "- total_ratings: The total number of ratings for the movie. (Integer)\n",
    "- type: The type of movie (e.g. feature film, documentary, etc.). (String)\n",
    "- genre: The genre of the movie (e.g. action, comedy, etc.). (String)\n",
    "- original_language: The original language of the movie. (String)\n",
    "- director: The director of the movie. (String)\n",
    "- producer: The producer of the movie. (String)\n",
    "- writer: The writer of the movie. (String)\n",
    "- release_date_(theaters): The date the movie was released in theaters. (Date)\n",
    "- release_date_(streaming): The date the movie was released for streaming. (Date)\n",
    "- box_office_(gross_usa): The total box office gross in the USA. (Integer)\n",
    "- runtime: The length of the movie in minutes. (Integer)\n",
    "- production_co: The production company of the movie. (String)\n",
    "- sound_mix: The sound mix used for the movie. (String)\n",
    "- aspect_ratio: The aspect ratio of the movie. (String)\n",
    "- view_the_collection: A link to the collection the movie is part of. (URL)\n",
    "- crew: The crew members involved in the movie. (String)"
   ],
   "metadata": {
    "collapsed": false
   }
  },
  {
   "cell_type": "code",
   "execution_count": 1,
   "outputs": [],
   "source": [
    "import pandas as pd\n",
    "import numpy as np\n",
    "from datetime import datetime\n",
    "# from pandas_profiling import ProfileReport"
   ],
   "metadata": {
    "collapsed": false
   }
  },
  {
   "cell_type": "code",
   "execution_count": 2,
   "outputs": [],
   "source": [
    "df = pd.read_csv('rotten_tomatoes_top_movies.csv', index_col= 0)"
   ],
   "metadata": {
    "collapsed": false
   }
  },
  {
   "cell_type": "code",
   "execution_count": 3,
   "outputs": [
    {
     "data": {
      "text/plain": "                                  title  year  \\\n0                         Black Panther  2018   \n1                     Avengers: Endgame  2019   \n2        Mission: Impossible -- Fallout  2018   \n3                    Mad Max: Fury Road  2015   \n4     Spider-Man: Into the Spider-Verse  2018   \n...                                 ...   ...   \n1605                             Priest  2011   \n1606                     September Dawn  2006   \n1607                   American Outlaws  2001   \n1608                          Jonah Hex  2010   \n1609                      Texas Rangers  2001   \n\n                                               synopsis  critic_score  \\\n0     After the death of his father, T'Challa return...            96   \n1     Adrift in space with no food or water, Tony St...            94   \n2     Ethan Hunt and the IMF team join forces with C...            97   \n3     Years after the collapse of civilization, the ...            97   \n4     Bitten by a radioactive spider in the subway, ...            97   \n...                                                 ...           ...   \n1605  In a society ravaged by centuries of war betwe...            15   \n1606  In 1857 Capt. Alexander Fancher leads a wagon ...            16   \n1607  After the Civil War ends, Confederate soldiers...            14   \n1608  Having cheated death, gunslinger and bounty hu...            12   \n1609  Texas, 1875. In a land without justice, where ...             2   \n\n      people_score                                          consensus  \\\n0             79.0  Black Panther elevates superhero cinema to thr...   \n1             90.0  Exciting, entertaining, and emotionally impact...   \n2             88.0  Fast, sleek, and fun, Mission: Impossible - Fa...   \n3             86.0  With exhilarating action and a surprising amou...   \n4             93.0  Spider-Man: Into the Spider-Verse matches bold...   \n...            ...                                                ...   \n1605          46.0  Sleek and stylish, but those qualities are was...   \n1606          49.0  With its jarring editing, dull love story, and...   \n1607          68.0  With corny dialogue, revisionist history, anac...   \n1608          20.0  Josh Brolin gives it his best shot, but he can...   \n1609          29.0  As far as westerns go, Texas Rangers is strict...   \n\n      total_reviews total_ratings                type  \\\n0               519       50,000+  Action & Adventure   \n1               538       50,000+  Action & Adventure   \n2               433       10,000+  Action & Adventure   \n3               427      100,000+  Action & Adventure   \n4               387       10,000+  Action & Adventure   \n...             ...           ...                 ...   \n1605            101       50,000+             Western   \n1606             55        5,000+             Western   \n1607            103       25,000+             Western   \n1608            152      100,000+             Western   \n1609             51        5,000+             Western   \n\n                                                 rating  ...  \\\n0     PG-13 (Sequences of Action Violence|A Brief Ru...  ...   \n1     PG-13 (Sequences of Sci-Fi Violence|Action|Som...  ...   \n2     PG-13 (Intense Sequences of Action|Brief Stron...  ...   \n3     R (Intense Sequences of Violence|Disturbing Im...  ...   \n4     PG (Mild Language|Frenetic Action Violence|The...  ...   \n...                                                 ...  ...   \n1605  PG-13 (Disturbing Images|Brief Strong Language...  ...   \n1606                                       R (Violence)  ...   \n1607                           PG-13 (Western Violence)  ...   \n1608  PG-13 (Intense Sequences of Action|Disturbing ...  ...   \n1609                           PG-13 (Western Violence)  ...   \n\n     release_date_(theaters) release_date_(streaming) box_office_(gross_usa)  \\\n0          Feb 16, 2018 wide              May 2, 2018                $700.2M   \n1          Apr 26, 2019 wide             Jul 30, 2019                $858.4M   \n2          Jul 27, 2018 wide             Nov 20, 2018                $220.1M   \n3          May 15, 2015 wide             Aug 10, 2016                $153.6M   \n4          Dec 14, 2018 wide              Mar 7, 2019                $190.2M   \n...                      ...                      ...                    ...   \n1605       May 13, 2011 wide             Apr 16, 2012                 $29.1M   \n1606       Jun 22, 2007 wide              Jan 1, 2008                  $1.1M   \n1607       Aug 17, 2001 wide              Dec 1, 2017                 $13.3M   \n1608       Jun 18, 2010 wide             Mar 30, 2012                 $10.5M   \n1609       Nov 30, 2001 wide              Oct 8, 2016                $623.4K   \n\n     runtime                                      production_co  \\\n0     2h 14m                               Walt Disney Pictures   \n1      3h 1m               Marvel Studios, Walt Disney Pictures   \n2     2h 27m                              Bad Robot, Tom Cruise   \n3         2h  Kennedy Miller Mitchell, Village Roadshow Pict...   \n4     1h 57m  Lord Miller, Sony Pictures Animation, Pascal P...   \n...      ...                                                ...   \n1605  1h 27m          Michael De Luca, Stars Road Entertainment   \n1606  1h 50m            Voice Pictures Inc., September Dawn LLC   \n1607  1h 33m                           Morgan Creek Productions   \n1608  1h 21m                     Mad Chance, Weed Road Pictures   \n1609  1h 30m  Greisman Productions, Price Entertainment, Lar...   \n\n                                              sound_mix    aspect_ratio  \\\n0                                      DTS, Dolby Atmos  Scope (2.35:1)   \n1                 Dolby Atmos, DTS, Dolby Digital, SDDS  Scope (2.35:1)   \n2                       DTS, Dolby Atmos, Dolby Digital  Scope (2.35:1)   \n3                                           Dolby Atmos  Scope (2.35:1)   \n4                 Dolby Atmos, DTS, Dolby Digital, SDDS  Scope (2.35:1)   \n...                                                 ...             ...   \n1605                                SDDS, Dolby Digital             NaN   \n1606                                                NaN             NaN   \n1607  Dolby Stereo, Dolby A, SDDS, DTS, Surround, Do...   Flat (1.85:1)   \n1608                                                NaN             NaN   \n1609  Dolby Stereo, Dolby Digital, Dolby A, Surround...  Scope (2.35:1)   \n\n            view_the_collection  \\\n0     Marvel Cinematic Universe   \n1     Marvel Cinematic Universe   \n2                           NaN   \n3                           NaN   \n4                           NaN   \n...                         ...   \n1605                        NaN   \n1606                        NaN   \n1607                        NaN   \n1608                        NaN   \n1609                        NaN   \n\n                                                   crew  \\\n0     Chadwick Boseman, Michael B. Jordan, Lupita Ny...   \n1     Robert Downey Jr., Chris Evans, Mark Ruffalo, ...   \n2     Tom Cruise, Henry Cavill, Ving Rhames, Simon P...   \n3     Tom Hardy, Charlize Theron, Nicholas Hoult, Hu...   \n4     Shameik Moore, Hailee Steinfeld, Mahershala Al...   \n...                                                 ...   \n1605  Paul Bettany, Karl Urban, Cam Gigandet, Maggie...   \n1606  Jon Voight, Trent Ford, Tamara Hope, Jon Gries...   \n1607  Colin Farrell, Scott Caan, Ali Larter, Gabriel...   \n1608  Josh Brolin, John Malkovich, Megan Fox, Michae...   \n1609  James Van Der Beek, Dylan McDermott, Usher Ray...   \n\n                                                   link  \n0     http://www.rottentomatoes.com/m/black_panther_...  \n1      http://www.rottentomatoes.com/m/avengers_endgame  \n2     http://www.rottentomatoes.com/m/mission_imposs...  \n3     http://www.rottentomatoes.com/m/mad_max_fury_road  \n4     http://www.rottentomatoes.com/m/spider_man_int...  \n...                                                 ...  \n1605    http://www.rottentomatoes.com/m/10009274-priest  \n1606     http://www.rottentomatoes.com/m/september_dawn  \n1607   http://www.rottentomatoes.com/m/american_outlaws  \n1608          http://www.rottentomatoes.com/m/jonah_hex  \n1609  http://www.rottentomatoes.com/m/1111103-texas_...  \n\n[1610 rows x 25 columns]",
      "text/html": "<div>\n<style scoped>\n    .dataframe tbody tr th:only-of-type {\n        vertical-align: middle;\n    }\n\n    .dataframe tbody tr th {\n        vertical-align: top;\n    }\n\n    .dataframe thead th {\n        text-align: right;\n    }\n</style>\n<table border=\"1\" class=\"dataframe\">\n  <thead>\n    <tr style=\"text-align: right;\">\n      <th></th>\n      <th>title</th>\n      <th>year</th>\n      <th>synopsis</th>\n      <th>critic_score</th>\n      <th>people_score</th>\n      <th>consensus</th>\n      <th>total_reviews</th>\n      <th>total_ratings</th>\n      <th>type</th>\n      <th>rating</th>\n      <th>...</th>\n      <th>release_date_(theaters)</th>\n      <th>release_date_(streaming)</th>\n      <th>box_office_(gross_usa)</th>\n      <th>runtime</th>\n      <th>production_co</th>\n      <th>sound_mix</th>\n      <th>aspect_ratio</th>\n      <th>view_the_collection</th>\n      <th>crew</th>\n      <th>link</th>\n    </tr>\n  </thead>\n  <tbody>\n    <tr>\n      <th>0</th>\n      <td>Black Panther</td>\n      <td>2018</td>\n      <td>After the death of his father, T'Challa return...</td>\n      <td>96</td>\n      <td>79.0</td>\n      <td>Black Panther elevates superhero cinema to thr...</td>\n      <td>519</td>\n      <td>50,000+</td>\n      <td>Action &amp; Adventure</td>\n      <td>PG-13 (Sequences of Action Violence|A Brief Ru...</td>\n      <td>...</td>\n      <td>Feb 16, 2018 wide</td>\n      <td>May 2, 2018</td>\n      <td>$700.2M</td>\n      <td>2h 14m</td>\n      <td>Walt Disney Pictures</td>\n      <td>DTS, Dolby Atmos</td>\n      <td>Scope (2.35:1)</td>\n      <td>Marvel Cinematic Universe</td>\n      <td>Chadwick Boseman, Michael B. Jordan, Lupita Ny...</td>\n      <td>http://www.rottentomatoes.com/m/black_panther_...</td>\n    </tr>\n    <tr>\n      <th>1</th>\n      <td>Avengers: Endgame</td>\n      <td>2019</td>\n      <td>Adrift in space with no food or water, Tony St...</td>\n      <td>94</td>\n      <td>90.0</td>\n      <td>Exciting, entertaining, and emotionally impact...</td>\n      <td>538</td>\n      <td>50,000+</td>\n      <td>Action &amp; Adventure</td>\n      <td>PG-13 (Sequences of Sci-Fi Violence|Action|Som...</td>\n      <td>...</td>\n      <td>Apr 26, 2019 wide</td>\n      <td>Jul 30, 2019</td>\n      <td>$858.4M</td>\n      <td>3h 1m</td>\n      <td>Marvel Studios, Walt Disney Pictures</td>\n      <td>Dolby Atmos, DTS, Dolby Digital, SDDS</td>\n      <td>Scope (2.35:1)</td>\n      <td>Marvel Cinematic Universe</td>\n      <td>Robert Downey Jr., Chris Evans, Mark Ruffalo, ...</td>\n      <td>http://www.rottentomatoes.com/m/avengers_endgame</td>\n    </tr>\n    <tr>\n      <th>2</th>\n      <td>Mission: Impossible -- Fallout</td>\n      <td>2018</td>\n      <td>Ethan Hunt and the IMF team join forces with C...</td>\n      <td>97</td>\n      <td>88.0</td>\n      <td>Fast, sleek, and fun, Mission: Impossible - Fa...</td>\n      <td>433</td>\n      <td>10,000+</td>\n      <td>Action &amp; Adventure</td>\n      <td>PG-13 (Intense Sequences of Action|Brief Stron...</td>\n      <td>...</td>\n      <td>Jul 27, 2018 wide</td>\n      <td>Nov 20, 2018</td>\n      <td>$220.1M</td>\n      <td>2h 27m</td>\n      <td>Bad Robot, Tom Cruise</td>\n      <td>DTS, Dolby Atmos, Dolby Digital</td>\n      <td>Scope (2.35:1)</td>\n      <td>NaN</td>\n      <td>Tom Cruise, Henry Cavill, Ving Rhames, Simon P...</td>\n      <td>http://www.rottentomatoes.com/m/mission_imposs...</td>\n    </tr>\n    <tr>\n      <th>3</th>\n      <td>Mad Max: Fury Road</td>\n      <td>2015</td>\n      <td>Years after the collapse of civilization, the ...</td>\n      <td>97</td>\n      <td>86.0</td>\n      <td>With exhilarating action and a surprising amou...</td>\n      <td>427</td>\n      <td>100,000+</td>\n      <td>Action &amp; Adventure</td>\n      <td>R (Intense Sequences of Violence|Disturbing Im...</td>\n      <td>...</td>\n      <td>May 15, 2015 wide</td>\n      <td>Aug 10, 2016</td>\n      <td>$153.6M</td>\n      <td>2h</td>\n      <td>Kennedy Miller Mitchell, Village Roadshow Pict...</td>\n      <td>Dolby Atmos</td>\n      <td>Scope (2.35:1)</td>\n      <td>NaN</td>\n      <td>Tom Hardy, Charlize Theron, Nicholas Hoult, Hu...</td>\n      <td>http://www.rottentomatoes.com/m/mad_max_fury_road</td>\n    </tr>\n    <tr>\n      <th>4</th>\n      <td>Spider-Man: Into the Spider-Verse</td>\n      <td>2018</td>\n      <td>Bitten by a radioactive spider in the subway, ...</td>\n      <td>97</td>\n      <td>93.0</td>\n      <td>Spider-Man: Into the Spider-Verse matches bold...</td>\n      <td>387</td>\n      <td>10,000+</td>\n      <td>Action &amp; Adventure</td>\n      <td>PG (Mild Language|Frenetic Action Violence|The...</td>\n      <td>...</td>\n      <td>Dec 14, 2018 wide</td>\n      <td>Mar 7, 2019</td>\n      <td>$190.2M</td>\n      <td>1h 57m</td>\n      <td>Lord Miller, Sony Pictures Animation, Pascal P...</td>\n      <td>Dolby Atmos, DTS, Dolby Digital, SDDS</td>\n      <td>Scope (2.35:1)</td>\n      <td>NaN</td>\n      <td>Shameik Moore, Hailee Steinfeld, Mahershala Al...</td>\n      <td>http://www.rottentomatoes.com/m/spider_man_int...</td>\n    </tr>\n    <tr>\n      <th>...</th>\n      <td>...</td>\n      <td>...</td>\n      <td>...</td>\n      <td>...</td>\n      <td>...</td>\n      <td>...</td>\n      <td>...</td>\n      <td>...</td>\n      <td>...</td>\n      <td>...</td>\n      <td>...</td>\n      <td>...</td>\n      <td>...</td>\n      <td>...</td>\n      <td>...</td>\n      <td>...</td>\n      <td>...</td>\n      <td>...</td>\n      <td>...</td>\n      <td>...</td>\n      <td>...</td>\n    </tr>\n    <tr>\n      <th>1605</th>\n      <td>Priest</td>\n      <td>2011</td>\n      <td>In a society ravaged by centuries of war betwe...</td>\n      <td>15</td>\n      <td>46.0</td>\n      <td>Sleek and stylish, but those qualities are was...</td>\n      <td>101</td>\n      <td>50,000+</td>\n      <td>Western</td>\n      <td>PG-13 (Disturbing Images|Brief Strong Language...</td>\n      <td>...</td>\n      <td>May 13, 2011 wide</td>\n      <td>Apr 16, 2012</td>\n      <td>$29.1M</td>\n      <td>1h 27m</td>\n      <td>Michael De Luca, Stars Road Entertainment</td>\n      <td>SDDS, Dolby Digital</td>\n      <td>NaN</td>\n      <td>NaN</td>\n      <td>Paul Bettany, Karl Urban, Cam Gigandet, Maggie...</td>\n      <td>http://www.rottentomatoes.com/m/10009274-priest</td>\n    </tr>\n    <tr>\n      <th>1606</th>\n      <td>September Dawn</td>\n      <td>2006</td>\n      <td>In 1857 Capt. Alexander Fancher leads a wagon ...</td>\n      <td>16</td>\n      <td>49.0</td>\n      <td>With its jarring editing, dull love story, and...</td>\n      <td>55</td>\n      <td>5,000+</td>\n      <td>Western</td>\n      <td>R (Violence)</td>\n      <td>...</td>\n      <td>Jun 22, 2007 wide</td>\n      <td>Jan 1, 2008</td>\n      <td>$1.1M</td>\n      <td>1h 50m</td>\n      <td>Voice Pictures Inc., September Dawn LLC</td>\n      <td>NaN</td>\n      <td>NaN</td>\n      <td>NaN</td>\n      <td>Jon Voight, Trent Ford, Tamara Hope, Jon Gries...</td>\n      <td>http://www.rottentomatoes.com/m/september_dawn</td>\n    </tr>\n    <tr>\n      <th>1607</th>\n      <td>American Outlaws</td>\n      <td>2001</td>\n      <td>After the Civil War ends, Confederate soldiers...</td>\n      <td>14</td>\n      <td>68.0</td>\n      <td>With corny dialogue, revisionist history, anac...</td>\n      <td>103</td>\n      <td>25,000+</td>\n      <td>Western</td>\n      <td>PG-13 (Western Violence)</td>\n      <td>...</td>\n      <td>Aug 17, 2001 wide</td>\n      <td>Dec 1, 2017</td>\n      <td>$13.3M</td>\n      <td>1h 33m</td>\n      <td>Morgan Creek Productions</td>\n      <td>Dolby Stereo, Dolby A, SDDS, DTS, Surround, Do...</td>\n      <td>Flat (1.85:1)</td>\n      <td>NaN</td>\n      <td>Colin Farrell, Scott Caan, Ali Larter, Gabriel...</td>\n      <td>http://www.rottentomatoes.com/m/american_outlaws</td>\n    </tr>\n    <tr>\n      <th>1608</th>\n      <td>Jonah Hex</td>\n      <td>2010</td>\n      <td>Having cheated death, gunslinger and bounty hu...</td>\n      <td>12</td>\n      <td>20.0</td>\n      <td>Josh Brolin gives it his best shot, but he can...</td>\n      <td>152</td>\n      <td>100,000+</td>\n      <td>Western</td>\n      <td>PG-13 (Intense Sequences of Action|Disturbing ...</td>\n      <td>...</td>\n      <td>Jun 18, 2010 wide</td>\n      <td>Mar 30, 2012</td>\n      <td>$10.5M</td>\n      <td>1h 21m</td>\n      <td>Mad Chance, Weed Road Pictures</td>\n      <td>NaN</td>\n      <td>NaN</td>\n      <td>NaN</td>\n      <td>Josh Brolin, John Malkovich, Megan Fox, Michae...</td>\n      <td>http://www.rottentomatoes.com/m/jonah_hex</td>\n    </tr>\n    <tr>\n      <th>1609</th>\n      <td>Texas Rangers</td>\n      <td>2001</td>\n      <td>Texas, 1875. In a land without justice, where ...</td>\n      <td>2</td>\n      <td>29.0</td>\n      <td>As far as westerns go, Texas Rangers is strict...</td>\n      <td>51</td>\n      <td>5,000+</td>\n      <td>Western</td>\n      <td>PG-13 (Western Violence)</td>\n      <td>...</td>\n      <td>Nov 30, 2001 wide</td>\n      <td>Oct 8, 2016</td>\n      <td>$623.4K</td>\n      <td>1h 30m</td>\n      <td>Greisman Productions, Price Entertainment, Lar...</td>\n      <td>Dolby Stereo, Dolby Digital, Dolby A, Surround...</td>\n      <td>Scope (2.35:1)</td>\n      <td>NaN</td>\n      <td>James Van Der Beek, Dylan McDermott, Usher Ray...</td>\n      <td>http://www.rottentomatoes.com/m/1111103-texas_...</td>\n    </tr>\n  </tbody>\n</table>\n<p>1610 rows × 25 columns</p>\n</div>"
     },
     "execution_count": 3,
     "metadata": {},
     "output_type": "execute_result"
    }
   ],
   "source": [
    "df"
   ],
   "metadata": {
    "collapsed": false
   }
  },
  {
   "cell_type": "code",
   "execution_count": 4,
   "outputs": [
    {
     "name": "stdout",
     "output_type": "stream",
     "text": [
      "<class 'pandas.core.frame.DataFrame'>\n",
      "Int64Index: 1610 entries, 0 to 1609\n",
      "Data columns (total 25 columns):\n",
      " #   Column                    Non-Null Count  Dtype  \n",
      "---  ------                    --------------  -----  \n",
      " 0   title                     1610 non-null   object \n",
      " 1   year                      1610 non-null   int64  \n",
      " 2   synopsis                  1602 non-null   object \n",
      " 3   critic_score              1610 non-null   int64  \n",
      " 4   people_score              1609 non-null   float64\n",
      " 5   consensus                 1593 non-null   object \n",
      " 6   total_reviews             1610 non-null   int64  \n",
      " 7   total_ratings             1610 non-null   object \n",
      " 8   type                      1610 non-null   object \n",
      " 9   rating                    1139 non-null   object \n",
      " 10  genre                     1603 non-null   object \n",
      " 11  original_language         1570 non-null   object \n",
      " 12  director                  1609 non-null   object \n",
      " 13  producer                  1490 non-null   object \n",
      " 14  writer                    1266 non-null   object \n",
      " 15  release_date_(theaters)   1103 non-null   object \n",
      " 16  release_date_(streaming)  1595 non-null   object \n",
      " 17  box_office_(gross_usa)    1102 non-null   object \n",
      " 18  runtime                   1603 non-null   object \n",
      " 19  production_co             1487 non-null   object \n",
      " 20  sound_mix                 925 non-null    object \n",
      " 21  aspect_ratio              664 non-null    object \n",
      " 22  view_the_collection       178 non-null    object \n",
      " 23  crew                      1610 non-null   object \n",
      " 24  link                      1610 non-null   object \n",
      "dtypes: float64(1), int64(3), object(21)\n",
      "memory usage: 327.0+ KB\n"
     ]
    }
   ],
   "source": [
    "df.info()"
   ],
   "metadata": {
    "collapsed": false
   }
  },
  {
   "cell_type": "code",
   "execution_count": 5,
   "outputs": [
    {
     "data": {
      "text/plain": "              year  critic_score  people_score  total_reviews\ncount  1610.000000   1610.000000   1609.000000    1610.000000\nmean   1991.745963     92.693789     83.405221     143.652174\nstd      28.054120     11.621759     11.263792     118.137144\nmin    1919.000000      2.000000     10.000000      39.000000\n25%    1969.000000     92.000000     80.000000      56.000000\n50%    2005.000000     96.000000     87.000000      90.000000\n75%    2014.000000     98.000000     91.000000     205.750000\nmax    2020.000000    100.000000     98.000000     561.000000",
      "text/html": "<div>\n<style scoped>\n    .dataframe tbody tr th:only-of-type {\n        vertical-align: middle;\n    }\n\n    .dataframe tbody tr th {\n        vertical-align: top;\n    }\n\n    .dataframe thead th {\n        text-align: right;\n    }\n</style>\n<table border=\"1\" class=\"dataframe\">\n  <thead>\n    <tr style=\"text-align: right;\">\n      <th></th>\n      <th>year</th>\n      <th>critic_score</th>\n      <th>people_score</th>\n      <th>total_reviews</th>\n    </tr>\n  </thead>\n  <tbody>\n    <tr>\n      <th>count</th>\n      <td>1610.000000</td>\n      <td>1610.000000</td>\n      <td>1609.000000</td>\n      <td>1610.000000</td>\n    </tr>\n    <tr>\n      <th>mean</th>\n      <td>1991.745963</td>\n      <td>92.693789</td>\n      <td>83.405221</td>\n      <td>143.652174</td>\n    </tr>\n    <tr>\n      <th>std</th>\n      <td>28.054120</td>\n      <td>11.621759</td>\n      <td>11.263792</td>\n      <td>118.137144</td>\n    </tr>\n    <tr>\n      <th>min</th>\n      <td>1919.000000</td>\n      <td>2.000000</td>\n      <td>10.000000</td>\n      <td>39.000000</td>\n    </tr>\n    <tr>\n      <th>25%</th>\n      <td>1969.000000</td>\n      <td>92.000000</td>\n      <td>80.000000</td>\n      <td>56.000000</td>\n    </tr>\n    <tr>\n      <th>50%</th>\n      <td>2005.000000</td>\n      <td>96.000000</td>\n      <td>87.000000</td>\n      <td>90.000000</td>\n    </tr>\n    <tr>\n      <th>75%</th>\n      <td>2014.000000</td>\n      <td>98.000000</td>\n      <td>91.000000</td>\n      <td>205.750000</td>\n    </tr>\n    <tr>\n      <th>max</th>\n      <td>2020.000000</td>\n      <td>100.000000</td>\n      <td>98.000000</td>\n      <td>561.000000</td>\n    </tr>\n  </tbody>\n</table>\n</div>"
     },
     "execution_count": 5,
     "metadata": {},
     "output_type": "execute_result"
    }
   ],
   "source": [
    "df.describe()"
   ],
   "metadata": {
    "collapsed": false
   }
  },
  {
   "cell_type": "markdown",
   "source": [
    "## Clean the data\n",
    "\n",
    "- Duplicated values\n",
    "- Missing values\n",
    "- Data validation"
   ],
   "metadata": {
    "collapsed": false
   }
  },
  {
   "cell_type": "markdown",
   "source": [
    "## Duplicated values"
   ],
   "metadata": {
    "collapsed": false
   }
  },
  {
   "cell_type": "code",
   "execution_count": 6,
   "outputs": [
    {
     "data": {
      "text/plain": "628"
     },
     "execution_count": 6,
     "metadata": {},
     "output_type": "execute_result"
    }
   ],
   "source": [
    "# duplicated value in title columns\n",
    "df['title'].duplicated().sum()"
   ],
   "metadata": {
    "collapsed": false
   }
  },
  {
   "cell_type": "code",
   "execution_count": 7,
   "outputs": [
    {
     "data": {
      "text/plain": "                                  title  year  \\\n101   Spider-Man: Into the Spider-Verse  2018   \n103                                Coco  2017   \n106                       Incredibles 2  2018   \n107                            Zootopia  2016   \n108                                  Up  2009   \n...                                 ...   ...   \n1543                      Johnny Guitar  1954   \n1546                          True Grit  1969   \n1550                      Bone Tomahawk  2015   \n1577              The Magnificent Seven  2016   \n1597                            The Kid  2019   \n\n                                               synopsis  critic_score  \\\n101   Bitten by a radioactive spider in the subway, ...            97   \n103   Despite his family's generations-old ban on mu...            97   \n106   Telecommunications guru Winston Deavor enlists...            93   \n107   From the largest elephant to the smallest shre...            98   \n108   Carl Fredricksen (Ed Asner), a 78-year-old bal...            98   \n...                                                 ...           ...   \n1543  On the outskirts of town, the hard-nosed Vienn...            93   \n1546  After hired hand Tom Chaney (Jeff Corey) murde...            89   \n1550  In the Old West, a sheriff (Kurt Russell), his...            91   \n1577  Looking to mine for gold, greedy industrialist...            64   \n1597  In 1879 Rio and his teenage sister go on the r...            44   \n\n      people_score                                          consensus  \\\n101           93.0  Spider-Man: Into the Spider-Verse matches bold...   \n103           94.0  Coco's rich visual pleasures are matched by a ...   \n106           84.0  Incredibles 2 reunites Pixar's family crimefig...   \n107           92.0  The brilliantly well-rounded Zootopia offers a...   \n108           90.0  An exciting, funny, and poignant adventure, Up...   \n...            ...                                                ...   \n1543          85.0  Johnny Guitar confidently strides through genr...   \n1546          84.0  True Grit rides along on the strength of a liv...   \n1550          73.0  Bone Tomahawk's peculiar genre blend won't be ...   \n1577          72.0  The Magnificent Seven never really lives up to...   \n1597          46.0  Well-framed, well-cast, and well-intentioned, ...   \n\n      total_reviews total_ratings       type  \\\n101             387       10,000+  Animation   \n103             347       25,000+  Animation   \n106             382       10,000+  Animation   \n107             293      100,000+  Animation   \n108             298      250,000+  Animation   \n...             ...           ...        ...   \n1543             46        2,500+    Western   \n1546             53       25,000+    Western   \n1550             95       10,000+    Western   \n1577            313       25,000+    Western   \n1597             45          250+    Western   \n\n                                                 rating  ...  \\\n101   PG (Mild Language|Frenetic Action Violence|The...  ...   \n103                              PG (Thematic Elements)  ...   \n106      PG (Some Brief Mild Language|Action Sequences)  ...   \n107       PG (Rude Humor|Action|Some Thematic Elements)  ...   \n108                              PG (Some Peril|Action)  ...   \n...                                                 ...  ...   \n1543                                                NaN  ...   \n1546                                                  G  ...   \n1550                                                NaN  ...   \n1577  PG-13 (Sequences of Western Violence|Historica...  ...   \n1597                          R (Violence and Language)  ...   \n\n     release_date_(theaters) release_date_(streaming) box_office_(gross_usa)  \\\n101        Dec 14, 2018 wide              Mar 7, 2019                $190.2M   \n103        Nov 22, 2017 wide             Feb 13, 2018                $210.5M   \n106        Jun 15, 2018 wide             Oct 23, 2018                $608.6M   \n107         Mar 4, 2016 wide              Jun 7, 2016                    NaN   \n108        May 29, 2009 wide             Nov 21, 2015                    NaN   \n...                      ...                      ...                    ...   \n1543                     NaN              Jan 6, 2017                    NaN   \n1546                     NaN              Aug 1, 2013                    NaN   \n1550    Oct 23, 2015 limited             Mar 11, 2017                    NaN   \n1577       Sep 23, 2016 wide             Dec 20, 2016                 $93.4M   \n1597     Mar 8, 2019 limited              Jun 4, 2019                  $1.5M   \n\n     runtime                                      production_co  \\\n101   1h 57m  Lord Miller, Sony Pictures Animation, Pascal P...   \n103   1h 49m                            Pixar Animation Studios   \n106   1h 58m      Walt Disney Pictures, Pixar Animation Studios   \n107   1h 48m                      Walt Disney Animation Studios   \n108   1h 29m                            Pixar Animation Studios   \n...      ...                                                ...   \n1543  1h 50m                      Republic Pictures Corporation   \n1546   2h 8m                                 Paramount Pictures   \n1550  2h 12m                              Caliber Media Company   \n1577   2h 8m  LStar Capital, Escape Artists, Fuqua Films, Vi...   \n1597  1h 40m           Mimran Schur Pictures, Suretone Pictures   \n\n                                  sound_mix    aspect_ratio  \\\n101   Dolby Atmos, DTS, Dolby Digital, SDDS  Scope (2.35:1)   \n103                             Dolby Atmos  Scope (2.35:1)   \n106         DTS, Dolby Digital, Dolby Atmos  Scope (2.35:1)   \n107                             Dolby Atmos             NaN   \n108                                     NaN             NaN   \n...                                     ...             ...   \n1543                                    NaN             NaN   \n1546                                    NaN             NaN   \n1550                                    NaN             NaN   \n1577                                    NaN  Scope (2.35:1)   \n1597                                    NaN             NaN   \n\n     view_the_collection                                               crew  \\\n101                  NaN  Shameik Moore, Hailee Steinfeld, Mahershala Al...   \n103                Pixar  Anthony Gonzalez, Benjamin Bratt, Alanna Ubach...   \n106                Pixar  Craig T. Nelson, Holly Hunter, Sarah Vowell, H...   \n107                  NaN  Ginnifer Goodwin, Jason Bateman, Shakira, Idri...   \n108                Pixar  Ed Asner, Christopher Plummer, Bob Peterson, D...   \n...                  ...                                                ...   \n1543                 NaN  Joan Crawford, Sterling Hayden, Mercedes McCam...   \n1546                 NaN  John Wayne, Glen Campbell, Kim Darby, Jeremy S...   \n1550                 NaN  Kurt Russell, Patrick Wilson, Richard Jenkins,...   \n1577                 NaN  Denzel Washington, Chris Pratt, Ethan Hawke, V...   \n1597                 NaN  Ethan Hawke, Dane DeHaan, Jake Schur, Leila Ge...   \n\n                                                   link  \n101   http://www.rottentomatoes.com/m/spider_man_int...  \n103           http://www.rottentomatoes.com/m/coco_2017  \n106       http://www.rottentomatoes.com/m/incredibles_2  \n107            http://www.rottentomatoes.com/m/zootopia  \n108                  http://www.rottentomatoes.com/m/up  \n...                                                 ...  \n1543      http://www.rottentomatoes.com/m/johnny_guitar  \n1546          http://www.rottentomatoes.com/m/true_grit  \n1550      http://www.rottentomatoes.com/m/bone_tomahawk  \n1577  http://www.rottentomatoes.com/m/the_magnificen...  \n1597       http://www.rottentomatoes.com/m/the_kid_2019  \n\n[628 rows x 25 columns]",
      "text/html": "<div>\n<style scoped>\n    .dataframe tbody tr th:only-of-type {\n        vertical-align: middle;\n    }\n\n    .dataframe tbody tr th {\n        vertical-align: top;\n    }\n\n    .dataframe thead th {\n        text-align: right;\n    }\n</style>\n<table border=\"1\" class=\"dataframe\">\n  <thead>\n    <tr style=\"text-align: right;\">\n      <th></th>\n      <th>title</th>\n      <th>year</th>\n      <th>synopsis</th>\n      <th>critic_score</th>\n      <th>people_score</th>\n      <th>consensus</th>\n      <th>total_reviews</th>\n      <th>total_ratings</th>\n      <th>type</th>\n      <th>rating</th>\n      <th>...</th>\n      <th>release_date_(theaters)</th>\n      <th>release_date_(streaming)</th>\n      <th>box_office_(gross_usa)</th>\n      <th>runtime</th>\n      <th>production_co</th>\n      <th>sound_mix</th>\n      <th>aspect_ratio</th>\n      <th>view_the_collection</th>\n      <th>crew</th>\n      <th>link</th>\n    </tr>\n  </thead>\n  <tbody>\n    <tr>\n      <th>101</th>\n      <td>Spider-Man: Into the Spider-Verse</td>\n      <td>2018</td>\n      <td>Bitten by a radioactive spider in the subway, ...</td>\n      <td>97</td>\n      <td>93.0</td>\n      <td>Spider-Man: Into the Spider-Verse matches bold...</td>\n      <td>387</td>\n      <td>10,000+</td>\n      <td>Animation</td>\n      <td>PG (Mild Language|Frenetic Action Violence|The...</td>\n      <td>...</td>\n      <td>Dec 14, 2018 wide</td>\n      <td>Mar 7, 2019</td>\n      <td>$190.2M</td>\n      <td>1h 57m</td>\n      <td>Lord Miller, Sony Pictures Animation, Pascal P...</td>\n      <td>Dolby Atmos, DTS, Dolby Digital, SDDS</td>\n      <td>Scope (2.35:1)</td>\n      <td>NaN</td>\n      <td>Shameik Moore, Hailee Steinfeld, Mahershala Al...</td>\n      <td>http://www.rottentomatoes.com/m/spider_man_int...</td>\n    </tr>\n    <tr>\n      <th>103</th>\n      <td>Coco</td>\n      <td>2017</td>\n      <td>Despite his family's generations-old ban on mu...</td>\n      <td>97</td>\n      <td>94.0</td>\n      <td>Coco's rich visual pleasures are matched by a ...</td>\n      <td>347</td>\n      <td>25,000+</td>\n      <td>Animation</td>\n      <td>PG (Thematic Elements)</td>\n      <td>...</td>\n      <td>Nov 22, 2017 wide</td>\n      <td>Feb 13, 2018</td>\n      <td>$210.5M</td>\n      <td>1h 49m</td>\n      <td>Pixar Animation Studios</td>\n      <td>Dolby Atmos</td>\n      <td>Scope (2.35:1)</td>\n      <td>Pixar</td>\n      <td>Anthony Gonzalez, Benjamin Bratt, Alanna Ubach...</td>\n      <td>http://www.rottentomatoes.com/m/coco_2017</td>\n    </tr>\n    <tr>\n      <th>106</th>\n      <td>Incredibles 2</td>\n      <td>2018</td>\n      <td>Telecommunications guru Winston Deavor enlists...</td>\n      <td>93</td>\n      <td>84.0</td>\n      <td>Incredibles 2 reunites Pixar's family crimefig...</td>\n      <td>382</td>\n      <td>10,000+</td>\n      <td>Animation</td>\n      <td>PG (Some Brief Mild Language|Action Sequences)</td>\n      <td>...</td>\n      <td>Jun 15, 2018 wide</td>\n      <td>Oct 23, 2018</td>\n      <td>$608.6M</td>\n      <td>1h 58m</td>\n      <td>Walt Disney Pictures, Pixar Animation Studios</td>\n      <td>DTS, Dolby Digital, Dolby Atmos</td>\n      <td>Scope (2.35:1)</td>\n      <td>Pixar</td>\n      <td>Craig T. Nelson, Holly Hunter, Sarah Vowell, H...</td>\n      <td>http://www.rottentomatoes.com/m/incredibles_2</td>\n    </tr>\n    <tr>\n      <th>107</th>\n      <td>Zootopia</td>\n      <td>2016</td>\n      <td>From the largest elephant to the smallest shre...</td>\n      <td>98</td>\n      <td>92.0</td>\n      <td>The brilliantly well-rounded Zootopia offers a...</td>\n      <td>293</td>\n      <td>100,000+</td>\n      <td>Animation</td>\n      <td>PG (Rude Humor|Action|Some Thematic Elements)</td>\n      <td>...</td>\n      <td>Mar 4, 2016 wide</td>\n      <td>Jun 7, 2016</td>\n      <td>NaN</td>\n      <td>1h 48m</td>\n      <td>Walt Disney Animation Studios</td>\n      <td>Dolby Atmos</td>\n      <td>NaN</td>\n      <td>NaN</td>\n      <td>Ginnifer Goodwin, Jason Bateman, Shakira, Idri...</td>\n      <td>http://www.rottentomatoes.com/m/zootopia</td>\n    </tr>\n    <tr>\n      <th>108</th>\n      <td>Up</td>\n      <td>2009</td>\n      <td>Carl Fredricksen (Ed Asner), a 78-year-old bal...</td>\n      <td>98</td>\n      <td>90.0</td>\n      <td>An exciting, funny, and poignant adventure, Up...</td>\n      <td>298</td>\n      <td>250,000+</td>\n      <td>Animation</td>\n      <td>PG (Some Peril|Action)</td>\n      <td>...</td>\n      <td>May 29, 2009 wide</td>\n      <td>Nov 21, 2015</td>\n      <td>NaN</td>\n      <td>1h 29m</td>\n      <td>Pixar Animation Studios</td>\n      <td>NaN</td>\n      <td>NaN</td>\n      <td>Pixar</td>\n      <td>Ed Asner, Christopher Plummer, Bob Peterson, D...</td>\n      <td>http://www.rottentomatoes.com/m/up</td>\n    </tr>\n    <tr>\n      <th>...</th>\n      <td>...</td>\n      <td>...</td>\n      <td>...</td>\n      <td>...</td>\n      <td>...</td>\n      <td>...</td>\n      <td>...</td>\n      <td>...</td>\n      <td>...</td>\n      <td>...</td>\n      <td>...</td>\n      <td>...</td>\n      <td>...</td>\n      <td>...</td>\n      <td>...</td>\n      <td>...</td>\n      <td>...</td>\n      <td>...</td>\n      <td>...</td>\n      <td>...</td>\n      <td>...</td>\n    </tr>\n    <tr>\n      <th>1543</th>\n      <td>Johnny Guitar</td>\n      <td>1954</td>\n      <td>On the outskirts of town, the hard-nosed Vienn...</td>\n      <td>93</td>\n      <td>85.0</td>\n      <td>Johnny Guitar confidently strides through genr...</td>\n      <td>46</td>\n      <td>2,500+</td>\n      <td>Western</td>\n      <td>NaN</td>\n      <td>...</td>\n      <td>NaN</td>\n      <td>Jan 6, 2017</td>\n      <td>NaN</td>\n      <td>1h 50m</td>\n      <td>Republic Pictures Corporation</td>\n      <td>NaN</td>\n      <td>NaN</td>\n      <td>NaN</td>\n      <td>Joan Crawford, Sterling Hayden, Mercedes McCam...</td>\n      <td>http://www.rottentomatoes.com/m/johnny_guitar</td>\n    </tr>\n    <tr>\n      <th>1546</th>\n      <td>True Grit</td>\n      <td>1969</td>\n      <td>After hired hand Tom Chaney (Jeff Corey) murde...</td>\n      <td>89</td>\n      <td>84.0</td>\n      <td>True Grit rides along on the strength of a liv...</td>\n      <td>53</td>\n      <td>25,000+</td>\n      <td>Western</td>\n      <td>G</td>\n      <td>...</td>\n      <td>NaN</td>\n      <td>Aug 1, 2013</td>\n      <td>NaN</td>\n      <td>2h 8m</td>\n      <td>Paramount Pictures</td>\n      <td>NaN</td>\n      <td>NaN</td>\n      <td>NaN</td>\n      <td>John Wayne, Glen Campbell, Kim Darby, Jeremy S...</td>\n      <td>http://www.rottentomatoes.com/m/true_grit</td>\n    </tr>\n    <tr>\n      <th>1550</th>\n      <td>Bone Tomahawk</td>\n      <td>2015</td>\n      <td>In the Old West, a sheriff (Kurt Russell), his...</td>\n      <td>91</td>\n      <td>73.0</td>\n      <td>Bone Tomahawk's peculiar genre blend won't be ...</td>\n      <td>95</td>\n      <td>10,000+</td>\n      <td>Western</td>\n      <td>NaN</td>\n      <td>...</td>\n      <td>Oct 23, 2015 limited</td>\n      <td>Mar 11, 2017</td>\n      <td>NaN</td>\n      <td>2h 12m</td>\n      <td>Caliber Media Company</td>\n      <td>NaN</td>\n      <td>NaN</td>\n      <td>NaN</td>\n      <td>Kurt Russell, Patrick Wilson, Richard Jenkins,...</td>\n      <td>http://www.rottentomatoes.com/m/bone_tomahawk</td>\n    </tr>\n    <tr>\n      <th>1577</th>\n      <td>The Magnificent Seven</td>\n      <td>2016</td>\n      <td>Looking to mine for gold, greedy industrialist...</td>\n      <td>64</td>\n      <td>72.0</td>\n      <td>The Magnificent Seven never really lives up to...</td>\n      <td>313</td>\n      <td>25,000+</td>\n      <td>Western</td>\n      <td>PG-13 (Sequences of Western Violence|Historica...</td>\n      <td>...</td>\n      <td>Sep 23, 2016 wide</td>\n      <td>Dec 20, 2016</td>\n      <td>$93.4M</td>\n      <td>2h 8m</td>\n      <td>LStar Capital, Escape Artists, Fuqua Films, Vi...</td>\n      <td>NaN</td>\n      <td>Scope (2.35:1)</td>\n      <td>NaN</td>\n      <td>Denzel Washington, Chris Pratt, Ethan Hawke, V...</td>\n      <td>http://www.rottentomatoes.com/m/the_magnificen...</td>\n    </tr>\n    <tr>\n      <th>1597</th>\n      <td>The Kid</td>\n      <td>2019</td>\n      <td>In 1879 Rio and his teenage sister go on the r...</td>\n      <td>44</td>\n      <td>46.0</td>\n      <td>Well-framed, well-cast, and well-intentioned, ...</td>\n      <td>45</td>\n      <td>250+</td>\n      <td>Western</td>\n      <td>R (Violence and Language)</td>\n      <td>...</td>\n      <td>Mar 8, 2019 limited</td>\n      <td>Jun 4, 2019</td>\n      <td>$1.5M</td>\n      <td>1h 40m</td>\n      <td>Mimran Schur Pictures, Suretone Pictures</td>\n      <td>NaN</td>\n      <td>NaN</td>\n      <td>NaN</td>\n      <td>Ethan Hawke, Dane DeHaan, Jake Schur, Leila Ge...</td>\n      <td>http://www.rottentomatoes.com/m/the_kid_2019</td>\n    </tr>\n  </tbody>\n</table>\n<p>628 rows × 25 columns</p>\n</div>"
     },
     "execution_count": 7,
     "metadata": {},
     "output_type": "execute_result"
    }
   ],
   "source": [
    "# investigate duplicated value\n",
    "df[df['title'].duplicated()]"
   ],
   "metadata": {
    "collapsed": false
   }
  },
  {
   "cell_type": "code",
   "execution_count": 8,
   "outputs": [
    {
     "data": {
      "text/plain": "                                  title  year  \\\n4     Spider-Man: Into the Spider-Verse  2018   \n101   Spider-Man: Into the Spider-Verse  2018   \n802   Spider-Man: Into the Spider-Verse  2018   \n1205  Spider-Man: Into the Spider-Verse  2018   \n\n                                               synopsis  critic_score  \\\n4     Bitten by a radioactive spider in the subway, ...            97   \n101   Bitten by a radioactive spider in the subway, ...            97   \n802   Bitten by a radioactive spider in the subway, ...            97   \n1205  Bitten by a radioactive spider in the subway, ...            97   \n\n      people_score                                          consensus  \\\n4             93.0  Spider-Man: Into the Spider-Verse matches bold...   \n101           93.0  Spider-Man: Into the Spider-Verse matches bold...   \n802           93.0  Spider-Man: Into the Spider-Verse matches bold...   \n1205          93.0  Spider-Man: Into the Spider-Verse matches bold...   \n\n      total_reviews total_ratings                       type  \\\n4               387       10,000+         Action & Adventure   \n101             387       10,000+                  Animation   \n802             387       10,000+              Kids & Family   \n1205            387       10,000+  Science Fiction & Fantasy   \n\n                                                 rating  ...  \\\n4     PG (Mild Language|Frenetic Action Violence|The...  ...   \n101   PG (Mild Language|Frenetic Action Violence|The...  ...   \n802   PG (Mild Language|Frenetic Action Violence|The...  ...   \n1205  PG (Mild Language|Frenetic Action Violence|The...  ...   \n\n     release_date_(theaters) release_date_(streaming) box_office_(gross_usa)  \\\n4          Dec 14, 2018 wide              Mar 7, 2019                $190.2M   \n101        Dec 14, 2018 wide              Mar 7, 2019                $190.2M   \n802        Dec 14, 2018 wide              Mar 7, 2019                $190.2M   \n1205       Dec 14, 2018 wide              Mar 7, 2019                $190.2M   \n\n     runtime                                      production_co  \\\n4     1h 57m  Lord Miller, Sony Pictures Animation, Pascal P...   \n101   1h 57m  Lord Miller, Sony Pictures Animation, Pascal P...   \n802   1h 57m  Lord Miller, Sony Pictures Animation, Pascal P...   \n1205  1h 57m  Lord Miller, Sony Pictures Animation, Pascal P...   \n\n                                  sound_mix    aspect_ratio  \\\n4     Dolby Atmos, DTS, Dolby Digital, SDDS  Scope (2.35:1)   \n101   Dolby Atmos, DTS, Dolby Digital, SDDS  Scope (2.35:1)   \n802   Dolby Atmos, DTS, Dolby Digital, SDDS  Scope (2.35:1)   \n1205  Dolby Atmos, DTS, Dolby Digital, SDDS  Scope (2.35:1)   \n\n     view_the_collection                                               crew  \\\n4                    NaN  Shameik Moore, Hailee Steinfeld, Mahershala Al...   \n101                  NaN  Shameik Moore, Hailee Steinfeld, Mahershala Al...   \n802                  NaN  Shameik Moore, Hailee Steinfeld, Mahershala Al...   \n1205                 NaN  Shameik Moore, Hailee Steinfeld, Mahershala Al...   \n\n                                                   link  \n4     http://www.rottentomatoes.com/m/spider_man_int...  \n101   http://www.rottentomatoes.com/m/spider_man_int...  \n802   http://www.rottentomatoes.com/m/spider_man_int...  \n1205  http://www.rottentomatoes.com/m/spider_man_int...  \n\n[4 rows x 25 columns]",
      "text/html": "<div>\n<style scoped>\n    .dataframe tbody tr th:only-of-type {\n        vertical-align: middle;\n    }\n\n    .dataframe tbody tr th {\n        vertical-align: top;\n    }\n\n    .dataframe thead th {\n        text-align: right;\n    }\n</style>\n<table border=\"1\" class=\"dataframe\">\n  <thead>\n    <tr style=\"text-align: right;\">\n      <th></th>\n      <th>title</th>\n      <th>year</th>\n      <th>synopsis</th>\n      <th>critic_score</th>\n      <th>people_score</th>\n      <th>consensus</th>\n      <th>total_reviews</th>\n      <th>total_ratings</th>\n      <th>type</th>\n      <th>rating</th>\n      <th>...</th>\n      <th>release_date_(theaters)</th>\n      <th>release_date_(streaming)</th>\n      <th>box_office_(gross_usa)</th>\n      <th>runtime</th>\n      <th>production_co</th>\n      <th>sound_mix</th>\n      <th>aspect_ratio</th>\n      <th>view_the_collection</th>\n      <th>crew</th>\n      <th>link</th>\n    </tr>\n  </thead>\n  <tbody>\n    <tr>\n      <th>4</th>\n      <td>Spider-Man: Into the Spider-Verse</td>\n      <td>2018</td>\n      <td>Bitten by a radioactive spider in the subway, ...</td>\n      <td>97</td>\n      <td>93.0</td>\n      <td>Spider-Man: Into the Spider-Verse matches bold...</td>\n      <td>387</td>\n      <td>10,000+</td>\n      <td>Action &amp; Adventure</td>\n      <td>PG (Mild Language|Frenetic Action Violence|The...</td>\n      <td>...</td>\n      <td>Dec 14, 2018 wide</td>\n      <td>Mar 7, 2019</td>\n      <td>$190.2M</td>\n      <td>1h 57m</td>\n      <td>Lord Miller, Sony Pictures Animation, Pascal P...</td>\n      <td>Dolby Atmos, DTS, Dolby Digital, SDDS</td>\n      <td>Scope (2.35:1)</td>\n      <td>NaN</td>\n      <td>Shameik Moore, Hailee Steinfeld, Mahershala Al...</td>\n      <td>http://www.rottentomatoes.com/m/spider_man_int...</td>\n    </tr>\n    <tr>\n      <th>101</th>\n      <td>Spider-Man: Into the Spider-Verse</td>\n      <td>2018</td>\n      <td>Bitten by a radioactive spider in the subway, ...</td>\n      <td>97</td>\n      <td>93.0</td>\n      <td>Spider-Man: Into the Spider-Verse matches bold...</td>\n      <td>387</td>\n      <td>10,000+</td>\n      <td>Animation</td>\n      <td>PG (Mild Language|Frenetic Action Violence|The...</td>\n      <td>...</td>\n      <td>Dec 14, 2018 wide</td>\n      <td>Mar 7, 2019</td>\n      <td>$190.2M</td>\n      <td>1h 57m</td>\n      <td>Lord Miller, Sony Pictures Animation, Pascal P...</td>\n      <td>Dolby Atmos, DTS, Dolby Digital, SDDS</td>\n      <td>Scope (2.35:1)</td>\n      <td>NaN</td>\n      <td>Shameik Moore, Hailee Steinfeld, Mahershala Al...</td>\n      <td>http://www.rottentomatoes.com/m/spider_man_int...</td>\n    </tr>\n    <tr>\n      <th>802</th>\n      <td>Spider-Man: Into the Spider-Verse</td>\n      <td>2018</td>\n      <td>Bitten by a radioactive spider in the subway, ...</td>\n      <td>97</td>\n      <td>93.0</td>\n      <td>Spider-Man: Into the Spider-Verse matches bold...</td>\n      <td>387</td>\n      <td>10,000+</td>\n      <td>Kids &amp; Family</td>\n      <td>PG (Mild Language|Frenetic Action Violence|The...</td>\n      <td>...</td>\n      <td>Dec 14, 2018 wide</td>\n      <td>Mar 7, 2019</td>\n      <td>$190.2M</td>\n      <td>1h 57m</td>\n      <td>Lord Miller, Sony Pictures Animation, Pascal P...</td>\n      <td>Dolby Atmos, DTS, Dolby Digital, SDDS</td>\n      <td>Scope (2.35:1)</td>\n      <td>NaN</td>\n      <td>Shameik Moore, Hailee Steinfeld, Mahershala Al...</td>\n      <td>http://www.rottentomatoes.com/m/spider_man_int...</td>\n    </tr>\n    <tr>\n      <th>1205</th>\n      <td>Spider-Man: Into the Spider-Verse</td>\n      <td>2018</td>\n      <td>Bitten by a radioactive spider in the subway, ...</td>\n      <td>97</td>\n      <td>93.0</td>\n      <td>Spider-Man: Into the Spider-Verse matches bold...</td>\n      <td>387</td>\n      <td>10,000+</td>\n      <td>Science Fiction &amp; Fantasy</td>\n      <td>PG (Mild Language|Frenetic Action Violence|The...</td>\n      <td>...</td>\n      <td>Dec 14, 2018 wide</td>\n      <td>Mar 7, 2019</td>\n      <td>$190.2M</td>\n      <td>1h 57m</td>\n      <td>Lord Miller, Sony Pictures Animation, Pascal P...</td>\n      <td>Dolby Atmos, DTS, Dolby Digital, SDDS</td>\n      <td>Scope (2.35:1)</td>\n      <td>NaN</td>\n      <td>Shameik Moore, Hailee Steinfeld, Mahershala Al...</td>\n      <td>http://www.rottentomatoes.com/m/spider_man_int...</td>\n    </tr>\n  </tbody>\n</table>\n<p>4 rows × 25 columns</p>\n</div>"
     },
     "execution_count": 8,
     "metadata": {},
     "output_type": "execute_result"
    }
   ],
   "source": [
    "# title have 4 spider-man Into the Spider-Verse but different type of movie, which also already included in genre\n",
    "df[df['title'] == 'Spider-Man: Into the Spider-Verse']"
   ],
   "metadata": {
    "collapsed": false
   }
  },
  {
   "cell_type": "code",
   "execution_count": 9,
   "outputs": [],
   "source": [
    "# filter out duplicated\n",
    "df2 = df[~df['title'].duplicated()]"
   ],
   "metadata": {
    "collapsed": false
   }
  },
  {
   "cell_type": "code",
   "execution_count": 10,
   "outputs": [
    {
     "data": {
      "text/plain": "0"
     },
     "execution_count": 10,
     "metadata": {},
     "output_type": "execute_result"
    }
   ],
   "source": [
    "df2.duplicated().sum()"
   ],
   "metadata": {
    "collapsed": false
   }
  },
  {
   "cell_type": "code",
   "execution_count": 11,
   "outputs": [],
   "source": [
    "# drop columns\n",
    "# df2 = df2.drop(columns = ['synopsis', 'consensus', 'type', 'producer', 'writer', 'sound_mix', 'aspect_ratio', 'view_the_collection'])\n",
    "df2 = df2.drop(columns = ['type', 'sound_mix', 'aspect_ratio', 'view_the_collection'])"
   ],
   "metadata": {
    "collapsed": false
   }
  },
  {
   "cell_type": "code",
   "execution_count": 12,
   "outputs": [
    {
     "name": "stdout",
     "output_type": "stream",
     "text": [
      "<class 'pandas.core.frame.DataFrame'>\n",
      "Int64Index: 982 entries, 0 to 1609\n",
      "Data columns (total 21 columns):\n",
      " #   Column                    Non-Null Count  Dtype  \n",
      "---  ------                    --------------  -----  \n",
      " 0   title                     982 non-null    object \n",
      " 1   year                      982 non-null    int64  \n",
      " 2   synopsis                  977 non-null    object \n",
      " 3   critic_score              982 non-null    int64  \n",
      " 4   people_score              981 non-null    float64\n",
      " 5   consensus                 970 non-null    object \n",
      " 6   total_reviews             982 non-null    int64  \n",
      " 7   total_ratings             982 non-null    object \n",
      " 8   rating                    706 non-null    object \n",
      " 9   genre                     978 non-null    object \n",
      " 10  original_language         965 non-null    object \n",
      " 11  director                  981 non-null    object \n",
      " 12  producer                  908 non-null    object \n",
      " 13  writer                    780 non-null    object \n",
      " 14  release_date_(theaters)   671 non-null    object \n",
      " 15  release_date_(streaming)  972 non-null    object \n",
      " 16  box_office_(gross_usa)    690 non-null    object \n",
      " 17  runtime                   978 non-null    object \n",
      " 18  production_co             896 non-null    object \n",
      " 19  crew                      982 non-null    object \n",
      " 20  link                      982 non-null    object \n",
      "dtypes: float64(1), int64(3), object(17)\n",
      "memory usage: 168.8+ KB\n"
     ]
    }
   ],
   "source": [
    "df2.info()"
   ],
   "metadata": {
    "collapsed": false
   }
  },
  {
   "cell_type": "code",
   "execution_count": 13,
   "outputs": [
    {
     "data": {
      "text/plain": "                               title  year  \\\n0                      Black Panther  2018   \n1                  Avengers: Endgame  2019   \n2     Mission: Impossible -- Fallout  2018   \n3                 Mad Max: Fury Road  2015   \n4  Spider-Man: Into the Spider-Verse  2018   \n5                       Wonder Woman  2017   \n6                            Dunkirk  2017   \n7                               Coco  2017   \n8                     Thor: Ragnarok  2017   \n9                              Logan  2017   \n\n                                            synopsis  critic_score  \\\n0  After the death of his father, T'Challa return...            96   \n1  Adrift in space with no food or water, Tony St...            94   \n2  Ethan Hunt and the IMF team join forces with C...            97   \n3  Years after the collapse of civilization, the ...            97   \n4  Bitten by a radioactive spider in the subway, ...            97   \n5  Before she was Wonder Woman (Gal Gadot), she w...            93   \n6  In May 1940, Germany advanced into France, tra...            92   \n7  Despite his family's generations-old ban on mu...            97   \n8  Imprisoned on the other side of the universe, ...            93   \n9  In the near future, a weary Logan (Hugh Jackma...            93   \n\n   people_score                                          consensus  \\\n0          79.0  Black Panther elevates superhero cinema to thr...   \n1          90.0  Exciting, entertaining, and emotionally impact...   \n2          88.0  Fast, sleek, and fun, Mission: Impossible - Fa...   \n3          86.0  With exhilarating action and a surprising amou...   \n4          93.0  Spider-Man: Into the Spider-Verse matches bold...   \n5          83.0  Thrilling, earnest, and buoyed by Gal Gadot's ...   \n6          81.0  Dunkirk serves up emotionally satisfying spect...   \n7          94.0  Coco's rich visual pleasures are matched by a ...   \n8          87.0  Exciting, funny, and above all fun, Thor: Ragn...   \n9          90.0  Hugh Jackman makes the most of his final outin...   \n\n   total_reviews total_ratings  \\\n0            519       50,000+   \n1            538       50,000+   \n2            433       10,000+   \n3            427      100,000+   \n4            387       10,000+   \n5            463      100,000+   \n6            458       50,000+   \n7            347       25,000+   \n8            430       50,000+   \n9            418       50,000+   \n\n                                              rating  \\\n0  PG-13 (Sequences of Action Violence|A Brief Ru...   \n1  PG-13 (Sequences of Sci-Fi Violence|Action|Som...   \n2  PG-13 (Intense Sequences of Action|Brief Stron...   \n3  R (Intense Sequences of Violence|Disturbing Im...   \n4  PG (Mild Language|Frenetic Action Violence|The...   \n5  PG-13 (Sequences of Violence|Action|Some Sugge...   \n6       PG-13 (Some Language|Intense War Experience)   \n7                             PG (Thematic Elements)   \n8  PG-13 (Brief Suggestive Material|Action|Intens...   \n9  R (Language Throughout|Brief Nudity|Strong Bru...   \n\n                                               genre  ...  \\\n0                         adventure, action, fantasy  ...   \n1                 sci fi, adventure, action, fantasy  ...   \n2            action, mystery and thriller, adventure  ...   \n3                                  adventure, action  ...   \n4  action, adventure, fantasy, comedy, kids and f...  ...   \n5                         adventure, fantasy, action  ...   \n6                                drama, history, war  ...   \n7  comedy, music, animation, kids and family, adv...  ...   \n8         comedy, fantasy, sci fi, action, adventure  ...   \n9                         adventure, action, fantasy  ...   \n\n                                        director  \\\n0                                   Ryan Coogler   \n1                       Anthony Russo, Joe Russo   \n2                          Christopher McQuarrie   \n3                                  George Miller   \n4  Bob Persichetti, Peter Ramsey, Rodney Rothman   \n5                                  Patty Jenkins   \n6                              Christopher Nolan   \n7                                    Lee Unkrich   \n8                                  Taika Waititi   \n9                                  James Mangold   \n\n                                            producer  \\\n0                                        Kevin Feige   \n1                                        Kevin Feige   \n2  Tom Cruise, Christopher McQuarrie, Jake Myers,...   \n3          Doug Mitchell, George Miller, P.J. Voeten   \n4  Avi Arad, Amy Pascal, Phil Lord, Christopher M...   \n5  Charles Roven, Deborah Snyder, Zack Snyder, Ri...   \n6                     Emma Thomas, Christopher Nolan   \n7                                  Darla K. Anderson   \n8                                        Kevin Feige   \n9  Hutch Parker, Simon Kinberg, Lauren Shuler Donner   \n\n                                            writer release_date_(theaters)  \\\n0                    Ryan Coogler, Joe Robert Cole       Feb 16, 2018 wide   \n1              Christopher Markus, Stephen McFeely       Apr 26, 2019 wide   \n2                            Christopher McQuarrie       Jul 27, 2018 wide   \n3  George Miller, Brendan McCarthy, Nick Lathouris       May 15, 2015 wide   \n4                        Phil Lord, Rodney Rothman       Dec 14, 2018 wide   \n5                                   Allan Heinberg        Jun 2, 2017 wide   \n6                                Christopher Nolan       Jul 21, 2017 wide   \n7                   Adrian Molina, Matthew Aldrich       Nov 22, 2017 wide   \n8    Eric Pearson, Craig Kyle, Christopher L. Yost        Nov 3, 2017 wide   \n9        James Mangold, Michael Green, Scott Frank        Mar 3, 2017 wide   \n\n  release_date_(streaming) box_office_(gross_usa) runtime  \\\n0              May 2, 2018                $700.2M  2h 14m   \n1             Jul 30, 2019                $858.4M   3h 1m   \n2             Nov 20, 2018                $220.1M  2h 27m   \n3             Aug 10, 2016                $153.6M      2h   \n4              Mar 7, 2019                $190.2M  1h 57m   \n5             Jul 10, 2017                $412.8M  2h 21m   \n6             Dec 12, 2017                $188.0M  1h 47m   \n7             Feb 13, 2018                $210.5M  1h 49m   \n8             Feb 17, 2018                $315.0M  2h 10m   \n9             May 16, 2017                $226.3M  2h 17m   \n\n                                       production_co  \\\n0                               Walt Disney Pictures   \n1               Marvel Studios, Walt Disney Pictures   \n2                              Bad Robot, Tom Cruise   \n3  Kennedy Miller Mitchell, Village Roadshow Pict...   \n4  Lord Miller, Sony Pictures Animation, Pascal P...   \n5             Atlas Entertainment, Cruel and Unusual   \n6            Warner Bros. Pictures, IMAX Corporation   \n7                            Pixar Animation Studios   \n8                                     Marvel Studios   \n9  Marvel Entertainment, 20th Century Fox, Hutch ...   \n\n                                                crew  \\\n0  Chadwick Boseman, Michael B. Jordan, Lupita Ny...   \n1  Robert Downey Jr., Chris Evans, Mark Ruffalo, ...   \n2  Tom Cruise, Henry Cavill, Ving Rhames, Simon P...   \n3  Tom Hardy, Charlize Theron, Nicholas Hoult, Hu...   \n4  Shameik Moore, Hailee Steinfeld, Mahershala Al...   \n5  Gal Gadot, Chris Pine, Connie Nielsen, Robin W...   \n6  Fionn Whitehead, Tom Glynn-Carney, Jack Lowden...   \n7  Anthony Gonzalez, Benjamin Bratt, Alanna Ubach...   \n8  Chris Hemsworth, Tom Hiddleston, Cate Blanchet...   \n9  Hugh Jackman, Patrick Stewart, Dafne Keen, Ric...   \n\n                                                link  \n0  http://www.rottentomatoes.com/m/black_panther_...  \n1   http://www.rottentomatoes.com/m/avengers_endgame  \n2  http://www.rottentomatoes.com/m/mission_imposs...  \n3  http://www.rottentomatoes.com/m/mad_max_fury_road  \n4  http://www.rottentomatoes.com/m/spider_man_int...  \n5  http://www.rottentomatoes.com/m/wonder_woman_2017  \n6       http://www.rottentomatoes.com/m/dunkirk_2017  \n7          http://www.rottentomatoes.com/m/coco_2017  \n8  http://www.rottentomatoes.com/m/thor_ragnarok_...  \n9         http://www.rottentomatoes.com/m/logan_2017  \n\n[10 rows x 21 columns]",
      "text/html": "<div>\n<style scoped>\n    .dataframe tbody tr th:only-of-type {\n        vertical-align: middle;\n    }\n\n    .dataframe tbody tr th {\n        vertical-align: top;\n    }\n\n    .dataframe thead th {\n        text-align: right;\n    }\n</style>\n<table border=\"1\" class=\"dataframe\">\n  <thead>\n    <tr style=\"text-align: right;\">\n      <th></th>\n      <th>title</th>\n      <th>year</th>\n      <th>synopsis</th>\n      <th>critic_score</th>\n      <th>people_score</th>\n      <th>consensus</th>\n      <th>total_reviews</th>\n      <th>total_ratings</th>\n      <th>rating</th>\n      <th>genre</th>\n      <th>...</th>\n      <th>director</th>\n      <th>producer</th>\n      <th>writer</th>\n      <th>release_date_(theaters)</th>\n      <th>release_date_(streaming)</th>\n      <th>box_office_(gross_usa)</th>\n      <th>runtime</th>\n      <th>production_co</th>\n      <th>crew</th>\n      <th>link</th>\n    </tr>\n  </thead>\n  <tbody>\n    <tr>\n      <th>0</th>\n      <td>Black Panther</td>\n      <td>2018</td>\n      <td>After the death of his father, T'Challa return...</td>\n      <td>96</td>\n      <td>79.0</td>\n      <td>Black Panther elevates superhero cinema to thr...</td>\n      <td>519</td>\n      <td>50,000+</td>\n      <td>PG-13 (Sequences of Action Violence|A Brief Ru...</td>\n      <td>adventure, action, fantasy</td>\n      <td>...</td>\n      <td>Ryan Coogler</td>\n      <td>Kevin Feige</td>\n      <td>Ryan Coogler, Joe Robert Cole</td>\n      <td>Feb 16, 2018 wide</td>\n      <td>May 2, 2018</td>\n      <td>$700.2M</td>\n      <td>2h 14m</td>\n      <td>Walt Disney Pictures</td>\n      <td>Chadwick Boseman, Michael B. Jordan, Lupita Ny...</td>\n      <td>http://www.rottentomatoes.com/m/black_panther_...</td>\n    </tr>\n    <tr>\n      <th>1</th>\n      <td>Avengers: Endgame</td>\n      <td>2019</td>\n      <td>Adrift in space with no food or water, Tony St...</td>\n      <td>94</td>\n      <td>90.0</td>\n      <td>Exciting, entertaining, and emotionally impact...</td>\n      <td>538</td>\n      <td>50,000+</td>\n      <td>PG-13 (Sequences of Sci-Fi Violence|Action|Som...</td>\n      <td>sci fi, adventure, action, fantasy</td>\n      <td>...</td>\n      <td>Anthony Russo, Joe Russo</td>\n      <td>Kevin Feige</td>\n      <td>Christopher Markus, Stephen McFeely</td>\n      <td>Apr 26, 2019 wide</td>\n      <td>Jul 30, 2019</td>\n      <td>$858.4M</td>\n      <td>3h 1m</td>\n      <td>Marvel Studios, Walt Disney Pictures</td>\n      <td>Robert Downey Jr., Chris Evans, Mark Ruffalo, ...</td>\n      <td>http://www.rottentomatoes.com/m/avengers_endgame</td>\n    </tr>\n    <tr>\n      <th>2</th>\n      <td>Mission: Impossible -- Fallout</td>\n      <td>2018</td>\n      <td>Ethan Hunt and the IMF team join forces with C...</td>\n      <td>97</td>\n      <td>88.0</td>\n      <td>Fast, sleek, and fun, Mission: Impossible - Fa...</td>\n      <td>433</td>\n      <td>10,000+</td>\n      <td>PG-13 (Intense Sequences of Action|Brief Stron...</td>\n      <td>action, mystery and thriller, adventure</td>\n      <td>...</td>\n      <td>Christopher McQuarrie</td>\n      <td>Tom Cruise, Christopher McQuarrie, Jake Myers,...</td>\n      <td>Christopher McQuarrie</td>\n      <td>Jul 27, 2018 wide</td>\n      <td>Nov 20, 2018</td>\n      <td>$220.1M</td>\n      <td>2h 27m</td>\n      <td>Bad Robot, Tom Cruise</td>\n      <td>Tom Cruise, Henry Cavill, Ving Rhames, Simon P...</td>\n      <td>http://www.rottentomatoes.com/m/mission_imposs...</td>\n    </tr>\n    <tr>\n      <th>3</th>\n      <td>Mad Max: Fury Road</td>\n      <td>2015</td>\n      <td>Years after the collapse of civilization, the ...</td>\n      <td>97</td>\n      <td>86.0</td>\n      <td>With exhilarating action and a surprising amou...</td>\n      <td>427</td>\n      <td>100,000+</td>\n      <td>R (Intense Sequences of Violence|Disturbing Im...</td>\n      <td>adventure, action</td>\n      <td>...</td>\n      <td>George Miller</td>\n      <td>Doug Mitchell, George Miller, P.J. Voeten</td>\n      <td>George Miller, Brendan McCarthy, Nick Lathouris</td>\n      <td>May 15, 2015 wide</td>\n      <td>Aug 10, 2016</td>\n      <td>$153.6M</td>\n      <td>2h</td>\n      <td>Kennedy Miller Mitchell, Village Roadshow Pict...</td>\n      <td>Tom Hardy, Charlize Theron, Nicholas Hoult, Hu...</td>\n      <td>http://www.rottentomatoes.com/m/mad_max_fury_road</td>\n    </tr>\n    <tr>\n      <th>4</th>\n      <td>Spider-Man: Into the Spider-Verse</td>\n      <td>2018</td>\n      <td>Bitten by a radioactive spider in the subway, ...</td>\n      <td>97</td>\n      <td>93.0</td>\n      <td>Spider-Man: Into the Spider-Verse matches bold...</td>\n      <td>387</td>\n      <td>10,000+</td>\n      <td>PG (Mild Language|Frenetic Action Violence|The...</td>\n      <td>action, adventure, fantasy, comedy, kids and f...</td>\n      <td>...</td>\n      <td>Bob Persichetti, Peter Ramsey, Rodney Rothman</td>\n      <td>Avi Arad, Amy Pascal, Phil Lord, Christopher M...</td>\n      <td>Phil Lord, Rodney Rothman</td>\n      <td>Dec 14, 2018 wide</td>\n      <td>Mar 7, 2019</td>\n      <td>$190.2M</td>\n      <td>1h 57m</td>\n      <td>Lord Miller, Sony Pictures Animation, Pascal P...</td>\n      <td>Shameik Moore, Hailee Steinfeld, Mahershala Al...</td>\n      <td>http://www.rottentomatoes.com/m/spider_man_int...</td>\n    </tr>\n    <tr>\n      <th>5</th>\n      <td>Wonder Woman</td>\n      <td>2017</td>\n      <td>Before she was Wonder Woman (Gal Gadot), she w...</td>\n      <td>93</td>\n      <td>83.0</td>\n      <td>Thrilling, earnest, and buoyed by Gal Gadot's ...</td>\n      <td>463</td>\n      <td>100,000+</td>\n      <td>PG-13 (Sequences of Violence|Action|Some Sugge...</td>\n      <td>adventure, fantasy, action</td>\n      <td>...</td>\n      <td>Patty Jenkins</td>\n      <td>Charles Roven, Deborah Snyder, Zack Snyder, Ri...</td>\n      <td>Allan Heinberg</td>\n      <td>Jun 2, 2017 wide</td>\n      <td>Jul 10, 2017</td>\n      <td>$412.8M</td>\n      <td>2h 21m</td>\n      <td>Atlas Entertainment, Cruel and Unusual</td>\n      <td>Gal Gadot, Chris Pine, Connie Nielsen, Robin W...</td>\n      <td>http://www.rottentomatoes.com/m/wonder_woman_2017</td>\n    </tr>\n    <tr>\n      <th>6</th>\n      <td>Dunkirk</td>\n      <td>2017</td>\n      <td>In May 1940, Germany advanced into France, tra...</td>\n      <td>92</td>\n      <td>81.0</td>\n      <td>Dunkirk serves up emotionally satisfying spect...</td>\n      <td>458</td>\n      <td>50,000+</td>\n      <td>PG-13 (Some Language|Intense War Experience)</td>\n      <td>drama, history, war</td>\n      <td>...</td>\n      <td>Christopher Nolan</td>\n      <td>Emma Thomas, Christopher Nolan</td>\n      <td>Christopher Nolan</td>\n      <td>Jul 21, 2017 wide</td>\n      <td>Dec 12, 2017</td>\n      <td>$188.0M</td>\n      <td>1h 47m</td>\n      <td>Warner Bros. Pictures, IMAX Corporation</td>\n      <td>Fionn Whitehead, Tom Glynn-Carney, Jack Lowden...</td>\n      <td>http://www.rottentomatoes.com/m/dunkirk_2017</td>\n    </tr>\n    <tr>\n      <th>7</th>\n      <td>Coco</td>\n      <td>2017</td>\n      <td>Despite his family's generations-old ban on mu...</td>\n      <td>97</td>\n      <td>94.0</td>\n      <td>Coco's rich visual pleasures are matched by a ...</td>\n      <td>347</td>\n      <td>25,000+</td>\n      <td>PG (Thematic Elements)</td>\n      <td>comedy, music, animation, kids and family, adv...</td>\n      <td>...</td>\n      <td>Lee Unkrich</td>\n      <td>Darla K. Anderson</td>\n      <td>Adrian Molina, Matthew Aldrich</td>\n      <td>Nov 22, 2017 wide</td>\n      <td>Feb 13, 2018</td>\n      <td>$210.5M</td>\n      <td>1h 49m</td>\n      <td>Pixar Animation Studios</td>\n      <td>Anthony Gonzalez, Benjamin Bratt, Alanna Ubach...</td>\n      <td>http://www.rottentomatoes.com/m/coco_2017</td>\n    </tr>\n    <tr>\n      <th>8</th>\n      <td>Thor: Ragnarok</td>\n      <td>2017</td>\n      <td>Imprisoned on the other side of the universe, ...</td>\n      <td>93</td>\n      <td>87.0</td>\n      <td>Exciting, funny, and above all fun, Thor: Ragn...</td>\n      <td>430</td>\n      <td>50,000+</td>\n      <td>PG-13 (Brief Suggestive Material|Action|Intens...</td>\n      <td>comedy, fantasy, sci fi, action, adventure</td>\n      <td>...</td>\n      <td>Taika Waititi</td>\n      <td>Kevin Feige</td>\n      <td>Eric Pearson, Craig Kyle, Christopher L. Yost</td>\n      <td>Nov 3, 2017 wide</td>\n      <td>Feb 17, 2018</td>\n      <td>$315.0M</td>\n      <td>2h 10m</td>\n      <td>Marvel Studios</td>\n      <td>Chris Hemsworth, Tom Hiddleston, Cate Blanchet...</td>\n      <td>http://www.rottentomatoes.com/m/thor_ragnarok_...</td>\n    </tr>\n    <tr>\n      <th>9</th>\n      <td>Logan</td>\n      <td>2017</td>\n      <td>In the near future, a weary Logan (Hugh Jackma...</td>\n      <td>93</td>\n      <td>90.0</td>\n      <td>Hugh Jackman makes the most of his final outin...</td>\n      <td>418</td>\n      <td>50,000+</td>\n      <td>R (Language Throughout|Brief Nudity|Strong Bru...</td>\n      <td>adventure, action, fantasy</td>\n      <td>...</td>\n      <td>James Mangold</td>\n      <td>Hutch Parker, Simon Kinberg, Lauren Shuler Donner</td>\n      <td>James Mangold, Michael Green, Scott Frank</td>\n      <td>Mar 3, 2017 wide</td>\n      <td>May 16, 2017</td>\n      <td>$226.3M</td>\n      <td>2h 17m</td>\n      <td>Marvel Entertainment, 20th Century Fox, Hutch ...</td>\n      <td>Hugh Jackman, Patrick Stewart, Dafne Keen, Ric...</td>\n      <td>http://www.rottentomatoes.com/m/logan_2017</td>\n    </tr>\n  </tbody>\n</table>\n<p>10 rows × 21 columns</p>\n</div>"
     },
     "execution_count": 13,
     "metadata": {},
     "output_type": "execute_result"
    }
   ],
   "source": [
    "df2.head(10)"
   ],
   "metadata": {
    "collapsed": false
   }
  },
  {
   "cell_type": "code",
   "execution_count": 14,
   "outputs": [
    {
     "name": "stdout",
     "output_type": "stream",
     "text": [
      "title                         0\n",
      "year                          0\n",
      "synopsis                      5\n",
      "critic_score                  0\n",
      "people_score                  1\n",
      "consensus                    12\n",
      "total_reviews                 0\n",
      "total_ratings                 0\n",
      "rating                      276\n",
      "genre                         4\n",
      "original_language            17\n",
      "director                      1\n",
      "producer                     74\n",
      "writer                      202\n",
      "release_date_(theaters)     311\n",
      "release_date_(streaming)     10\n",
      "box_office_(gross_usa)      292\n",
      "runtime                       4\n",
      "production_co                86\n",
      "crew                          0\n",
      "link                          0\n",
      "dtype: int64\n"
     ]
    }
   ],
   "source": [
    "print(df2.isna().sum())"
   ],
   "metadata": {
    "collapsed": false
   }
  },
  {
   "cell_type": "markdown",
   "source": [
    "## Replace missing values\n",
    "\n",
    "replace missing values with\n",
    "- people_score, genre = drop\n",
    "- synopsis, consensus = 'none'\n",
    "- rating, original_language, director, producer, writer, production_co = 'unknown'\n",
    "- release_date_(theaters), release_date_(streaming), box_office_(gross_usa), runtime = N/A"
   ],
   "metadata": {
    "collapsed": false
   }
  },
  {
   "cell_type": "code",
   "execution_count": 15,
   "outputs": [
    {
     "data": {
      "text/plain": "      people_score                                              genre\n0             79.0                         adventure, action, fantasy\n1             90.0                 sci fi, adventure, action, fantasy\n2             88.0            action, mystery and thriller, adventure\n3             86.0                                  adventure, action\n4             93.0  action, adventure, fantasy, comedy, kids and f...\n...            ...                                                ...\n1605          46.0                            horror, action, fantasy\n1606          49.0                            drama, history, western\n1607          68.0                                    western, action\n1608          20.0  mystery and thriller, fantasy, action, western...\n1609          29.0                                 western, adventure\n\n[1610 rows x 2 columns]",
      "text/html": "<div>\n<style scoped>\n    .dataframe tbody tr th:only-of-type {\n        vertical-align: middle;\n    }\n\n    .dataframe tbody tr th {\n        vertical-align: top;\n    }\n\n    .dataframe thead th {\n        text-align: right;\n    }\n</style>\n<table border=\"1\" class=\"dataframe\">\n  <thead>\n    <tr style=\"text-align: right;\">\n      <th></th>\n      <th>people_score</th>\n      <th>genre</th>\n    </tr>\n  </thead>\n  <tbody>\n    <tr>\n      <th>0</th>\n      <td>79.0</td>\n      <td>adventure, action, fantasy</td>\n    </tr>\n    <tr>\n      <th>1</th>\n      <td>90.0</td>\n      <td>sci fi, adventure, action, fantasy</td>\n    </tr>\n    <tr>\n      <th>2</th>\n      <td>88.0</td>\n      <td>action, mystery and thriller, adventure</td>\n    </tr>\n    <tr>\n      <th>3</th>\n      <td>86.0</td>\n      <td>adventure, action</td>\n    </tr>\n    <tr>\n      <th>4</th>\n      <td>93.0</td>\n      <td>action, adventure, fantasy, comedy, kids and f...</td>\n    </tr>\n    <tr>\n      <th>...</th>\n      <td>...</td>\n      <td>...</td>\n    </tr>\n    <tr>\n      <th>1605</th>\n      <td>46.0</td>\n      <td>horror, action, fantasy</td>\n    </tr>\n    <tr>\n      <th>1606</th>\n      <td>49.0</td>\n      <td>drama, history, western</td>\n    </tr>\n    <tr>\n      <th>1607</th>\n      <td>68.0</td>\n      <td>western, action</td>\n    </tr>\n    <tr>\n      <th>1608</th>\n      <td>20.0</td>\n      <td>mystery and thriller, fantasy, action, western...</td>\n    </tr>\n    <tr>\n      <th>1609</th>\n      <td>29.0</td>\n      <td>western, adventure</td>\n    </tr>\n  </tbody>\n</table>\n<p>1610 rows × 2 columns</p>\n</div>"
     },
     "execution_count": 15,
     "metadata": {},
     "output_type": "execute_result"
    }
   ],
   "source": [
    "df[['people_score', 'genre']]"
   ],
   "metadata": {
    "collapsed": false
   }
  },
  {
   "cell_type": "code",
   "execution_count": 16,
   "outputs": [],
   "source": [
    "# drop missing value from people_score, genre\n",
    "df2 = df2[~df2['people_score'].isna()]\n",
    "df2 = df2[~df2['genre'].isna()]"
   ],
   "metadata": {
    "collapsed": false
   }
  },
  {
   "cell_type": "code",
   "execution_count": 17,
   "outputs": [],
   "source": [
    "# replace synopsis, consensus missing values with 'none'\n",
    "df2[['synopsis', 'consensus']] = df2[['synopsis', 'consensus']].apply(lambda x: x.fillna('none'))"
   ],
   "metadata": {
    "collapsed": false
   }
  },
  {
   "cell_type": "code",
   "execution_count": 18,
   "outputs": [],
   "source": [
    "# replace rating, original_language, director, producer, writer, production_co with 'unknown'\n",
    "df2[['rating', 'original_language', 'director', 'producer', 'writer', 'production_co']] = df2[['rating', 'original_language', 'director', 'producer', 'writer', 'production_co']].apply(lambda x: x.fillna('unknown'))"
   ],
   "metadata": {
    "collapsed": false
   }
  },
  {
   "cell_type": "markdown",
   "source": [
    "## Data validation\n",
    "\n",
    "- Data types\n",
    "- Incorrect data"
   ],
   "metadata": {
    "collapsed": false
   }
  },
  {
   "cell_type": "code",
   "execution_count": 19,
   "outputs": [
    {
     "name": "stdout",
     "output_type": "stream",
     "text": [
      "title                         0\n",
      "year                          0\n",
      "synopsis                      0\n",
      "critic_score                  0\n",
      "people_score                  0\n",
      "consensus                     0\n",
      "total_reviews                 0\n",
      "total_ratings                 0\n",
      "rating                        0\n",
      "genre                         0\n",
      "original_language             0\n",
      "director                      0\n",
      "producer                      0\n",
      "writer                        0\n",
      "release_date_(theaters)     307\n",
      "release_date_(streaming)      6\n",
      "box_office_(gross_usa)      288\n",
      "runtime                       0\n",
      "production_co                 0\n",
      "crew                          0\n",
      "link                          0\n",
      "dtype: int64\n"
     ]
    }
   ],
   "source": [
    "print(df2.isna().sum())"
   ],
   "metadata": {
    "collapsed": false
   }
  },
  {
   "cell_type": "code",
   "execution_count": 20,
   "outputs": [
    {
     "name": "stdout",
     "output_type": "stream",
     "text": [
      "<class 'pandas.core.frame.DataFrame'>\n",
      "Int64Index: 977 entries, 0 to 1609\n",
      "Data columns (total 21 columns):\n",
      " #   Column                    Non-Null Count  Dtype  \n",
      "---  ------                    --------------  -----  \n",
      " 0   title                     977 non-null    object \n",
      " 1   year                      977 non-null    int64  \n",
      " 2   synopsis                  977 non-null    object \n",
      " 3   critic_score              977 non-null    int64  \n",
      " 4   people_score              977 non-null    float64\n",
      " 5   consensus                 977 non-null    object \n",
      " 6   total_reviews             977 non-null    int64  \n",
      " 7   total_ratings             977 non-null    object \n",
      " 8   rating                    977 non-null    object \n",
      " 9   genre                     977 non-null    object \n",
      " 10  original_language         977 non-null    object \n",
      " 11  director                  977 non-null    object \n",
      " 12  producer                  977 non-null    object \n",
      " 13  writer                    977 non-null    object \n",
      " 14  release_date_(theaters)   670 non-null    object \n",
      " 15  release_date_(streaming)  971 non-null    object \n",
      " 16  box_office_(gross_usa)    689 non-null    object \n",
      " 17  runtime                   977 non-null    object \n",
      " 18  production_co             977 non-null    object \n",
      " 19  crew                      977 non-null    object \n",
      " 20  link                      977 non-null    object \n",
      "dtypes: float64(1), int64(3), object(17)\n",
      "memory usage: 167.9+ KB\n"
     ]
    }
   ],
   "source": [
    "df2.info()"
   ],
   "metadata": {
    "collapsed": false
   }
  },
  {
   "cell_type": "code",
   "execution_count": 21,
   "outputs": [
    {
     "data": {
      "text/plain": "              year  critic_score  people_score  total_reviews\ncount   977.000000    977.000000    977.000000     977.000000\nmean   1996.137155     90.654043     81.435005     137.486182\nstd      25.178454     14.172353     12.577225     110.364569\nmin    1919.000000      2.000000     10.000000      39.000000\n25%    1985.000000     90.000000     77.000000      56.000000\n50%    2007.000000     95.000000     85.000000      91.000000\n75%    2014.000000     98.000000     90.000000     189.000000\nmax    2020.000000    100.000000     98.000000     561.000000",
      "text/html": "<div>\n<style scoped>\n    .dataframe tbody tr th:only-of-type {\n        vertical-align: middle;\n    }\n\n    .dataframe tbody tr th {\n        vertical-align: top;\n    }\n\n    .dataframe thead th {\n        text-align: right;\n    }\n</style>\n<table border=\"1\" class=\"dataframe\">\n  <thead>\n    <tr style=\"text-align: right;\">\n      <th></th>\n      <th>year</th>\n      <th>critic_score</th>\n      <th>people_score</th>\n      <th>total_reviews</th>\n    </tr>\n  </thead>\n  <tbody>\n    <tr>\n      <th>count</th>\n      <td>977.000000</td>\n      <td>977.000000</td>\n      <td>977.000000</td>\n      <td>977.000000</td>\n    </tr>\n    <tr>\n      <th>mean</th>\n      <td>1996.137155</td>\n      <td>90.654043</td>\n      <td>81.435005</td>\n      <td>137.486182</td>\n    </tr>\n    <tr>\n      <th>std</th>\n      <td>25.178454</td>\n      <td>14.172353</td>\n      <td>12.577225</td>\n      <td>110.364569</td>\n    </tr>\n    <tr>\n      <th>min</th>\n      <td>1919.000000</td>\n      <td>2.000000</td>\n      <td>10.000000</td>\n      <td>39.000000</td>\n    </tr>\n    <tr>\n      <th>25%</th>\n      <td>1985.000000</td>\n      <td>90.000000</td>\n      <td>77.000000</td>\n      <td>56.000000</td>\n    </tr>\n    <tr>\n      <th>50%</th>\n      <td>2007.000000</td>\n      <td>95.000000</td>\n      <td>85.000000</td>\n      <td>91.000000</td>\n    </tr>\n    <tr>\n      <th>75%</th>\n      <td>2014.000000</td>\n      <td>98.000000</td>\n      <td>90.000000</td>\n      <td>189.000000</td>\n    </tr>\n    <tr>\n      <th>max</th>\n      <td>2020.000000</td>\n      <td>100.000000</td>\n      <td>98.000000</td>\n      <td>561.000000</td>\n    </tr>\n  </tbody>\n</table>\n</div>"
     },
     "execution_count": 21,
     "metadata": {},
     "output_type": "execute_result"
    }
   ],
   "source": [
    "df2.describe()"
   ],
   "metadata": {
    "collapsed": false
   }
  },
  {
   "cell_type": "code",
   "execution_count": 22,
   "outputs": [
    {
     "data": {
      "text/plain": "                                  title  year  \\\n0                         Black Panther  2018   \n1                     Avengers: Endgame  2019   \n2        Mission: Impossible -- Fallout  2018   \n3                    Mad Max: Fury Road  2015   \n4     Spider-Man: Into the Spider-Verse  2018   \n...                                 ...   ...   \n1605                             Priest  2011   \n1606                     September Dawn  2006   \n1607                   American Outlaws  2001   \n1608                          Jonah Hex  2010   \n1609                      Texas Rangers  2001   \n\n                                               synopsis  critic_score  \\\n0     After the death of his father, T'Challa return...            96   \n1     Adrift in space with no food or water, Tony St...            94   \n2     Ethan Hunt and the IMF team join forces with C...            97   \n3     Years after the collapse of civilization, the ...            97   \n4     Bitten by a radioactive spider in the subway, ...            97   \n...                                                 ...           ...   \n1605  In a society ravaged by centuries of war betwe...            15   \n1606  In 1857 Capt. Alexander Fancher leads a wagon ...            16   \n1607  After the Civil War ends, Confederate soldiers...            14   \n1608  Having cheated death, gunslinger and bounty hu...            12   \n1609  Texas, 1875. In a land without justice, where ...             2   \n\n      people_score                                          consensus  \\\n0             79.0  Black Panther elevates superhero cinema to thr...   \n1             90.0  Exciting, entertaining, and emotionally impact...   \n2             88.0  Fast, sleek, and fun, Mission: Impossible - Fa...   \n3             86.0  With exhilarating action and a surprising amou...   \n4             93.0  Spider-Man: Into the Spider-Verse matches bold...   \n...            ...                                                ...   \n1605          46.0  Sleek and stylish, but those qualities are was...   \n1606          49.0  With its jarring editing, dull love story, and...   \n1607          68.0  With corny dialogue, revisionist history, anac...   \n1608          20.0  Josh Brolin gives it his best shot, but he can...   \n1609          29.0  As far as westerns go, Texas Rangers is strict...   \n\n      total_reviews total_ratings  \\\n0               519       50,000+   \n1               538       50,000+   \n2               433       10,000+   \n3               427      100,000+   \n4               387       10,000+   \n...             ...           ...   \n1605            101       50,000+   \n1606             55        5,000+   \n1607            103       25,000+   \n1608            152      100,000+   \n1609             51        5,000+   \n\n                                                 rating  \\\n0     PG-13 (Sequences of Action Violence|A Brief Ru...   \n1     PG-13 (Sequences of Sci-Fi Violence|Action|Som...   \n2     PG-13 (Intense Sequences of Action|Brief Stron...   \n3     R (Intense Sequences of Violence|Disturbing Im...   \n4     PG (Mild Language|Frenetic Action Violence|The...   \n...                                                 ...   \n1605  PG-13 (Disturbing Images|Brief Strong Language...   \n1606                                       R (Violence)   \n1607                           PG-13 (Western Violence)   \n1608  PG-13 (Intense Sequences of Action|Disturbing ...   \n1609                           PG-13 (Western Violence)   \n\n                                                  genre  ...  \\\n0                            adventure, action, fantasy  ...   \n1                    sci fi, adventure, action, fantasy  ...   \n2               action, mystery and thriller, adventure  ...   \n3                                     adventure, action  ...   \n4     action, adventure, fantasy, comedy, kids and f...  ...   \n...                                                 ...  ...   \n1605                            horror, action, fantasy  ...   \n1606                            drama, history, western  ...   \n1607                                    western, action  ...   \n1608  mystery and thriller, fantasy, action, western...  ...   \n1609                                 western, adventure  ...   \n\n                                           director  \\\n0                                      Ryan Coogler   \n1                          Anthony Russo, Joe Russo   \n2                             Christopher McQuarrie   \n3                                     George Miller   \n4     Bob Persichetti, Peter Ramsey, Rodney Rothman   \n...                                             ...   \n1605                                  Scott Stewart   \n1606                               Christopher Cain   \n1607                                   Les Mayfield   \n1608                                  Jimmy Hayward   \n1609                                    Steve Miner   \n\n                                               producer  \\\n0                                           Kevin Feige   \n1                                           Kevin Feige   \n2     Tom Cruise, Christopher McQuarrie, Jake Myers,...   \n3             Doug Mitchell, George Miller, P.J. Voeten   \n4     Avi Arad, Amy Pascal, Phil Lord, Christopher M...   \n...                                                 ...   \n1605       Michael De Luca, Joshua Donen, Mitchell Peck   \n1606    Scott Duthie, Christopher Cain, Kevin Matossian   \n1607                     James G. Robinson, Bill Gerber   \n1608                       Akiva Goldsman, Andrew Lazar   \n1609                         Alan Greisman, Frank Price   \n\n                                               writer release_date_(theaters)  \\\n0                       Ryan Coogler, Joe Robert Cole       Feb 16, 2018 wide   \n1                 Christopher Markus, Stephen McFeely       Apr 26, 2019 wide   \n2                               Christopher McQuarrie       Jul 27, 2018 wide   \n3     George Miller, Brendan McCarthy, Nick Lathouris       May 15, 2015 wide   \n4                           Phil Lord, Rodney Rothman       Dec 14, 2018 wide   \n...                                               ...                     ...   \n1605                                     Cory Goodman       May 13, 2011 wide   \n1606          Christopher Cain, Carole Whang Schutter       Jun 22, 2007 wide   \n1607                     John Rogers, Roderick Taylor       Aug 17, 2001 wide   \n1608                     Mark Neveldine, Brian Taylor       Jun 18, 2010 wide   \n1609                     Scott Busby, Martin Copeland       Nov 30, 2001 wide   \n\n     release_date_(streaming) box_office_(gross_usa) runtime  \\\n0                 May 2, 2018                $700.2M  2h 14m   \n1                Jul 30, 2019                $858.4M   3h 1m   \n2                Nov 20, 2018                $220.1M  2h 27m   \n3                Aug 10, 2016                $153.6M      2h   \n4                 Mar 7, 2019                $190.2M  1h 57m   \n...                       ...                    ...     ...   \n1605             Apr 16, 2012                 $29.1M  1h 27m   \n1606              Jan 1, 2008                  $1.1M  1h 50m   \n1607              Dec 1, 2017                 $13.3M  1h 33m   \n1608             Mar 30, 2012                 $10.5M  1h 21m   \n1609              Oct 8, 2016                $623.4K  1h 30m   \n\n                                          production_co  \\\n0                                  Walt Disney Pictures   \n1                  Marvel Studios, Walt Disney Pictures   \n2                                 Bad Robot, Tom Cruise   \n3     Kennedy Miller Mitchell, Village Roadshow Pict...   \n4     Lord Miller, Sony Pictures Animation, Pascal P...   \n...                                                 ...   \n1605          Michael De Luca, Stars Road Entertainment   \n1606            Voice Pictures Inc., September Dawn LLC   \n1607                           Morgan Creek Productions   \n1608                     Mad Chance, Weed Road Pictures   \n1609  Greisman Productions, Price Entertainment, Lar...   \n\n                                                   crew  \\\n0     Chadwick Boseman, Michael B. Jordan, Lupita Ny...   \n1     Robert Downey Jr., Chris Evans, Mark Ruffalo, ...   \n2     Tom Cruise, Henry Cavill, Ving Rhames, Simon P...   \n3     Tom Hardy, Charlize Theron, Nicholas Hoult, Hu...   \n4     Shameik Moore, Hailee Steinfeld, Mahershala Al...   \n...                                                 ...   \n1605  Paul Bettany, Karl Urban, Cam Gigandet, Maggie...   \n1606  Jon Voight, Trent Ford, Tamara Hope, Jon Gries...   \n1607  Colin Farrell, Scott Caan, Ali Larter, Gabriel...   \n1608  Josh Brolin, John Malkovich, Megan Fox, Michae...   \n1609  James Van Der Beek, Dylan McDermott, Usher Ray...   \n\n                                                   link  \n0     http://www.rottentomatoes.com/m/black_panther_...  \n1      http://www.rottentomatoes.com/m/avengers_endgame  \n2     http://www.rottentomatoes.com/m/mission_imposs...  \n3     http://www.rottentomatoes.com/m/mad_max_fury_road  \n4     http://www.rottentomatoes.com/m/spider_man_int...  \n...                                                 ...  \n1605    http://www.rottentomatoes.com/m/10009274-priest  \n1606     http://www.rottentomatoes.com/m/september_dawn  \n1607   http://www.rottentomatoes.com/m/american_outlaws  \n1608          http://www.rottentomatoes.com/m/jonah_hex  \n1609  http://www.rottentomatoes.com/m/1111103-texas_...  \n\n[977 rows x 21 columns]",
      "text/html": "<div>\n<style scoped>\n    .dataframe tbody tr th:only-of-type {\n        vertical-align: middle;\n    }\n\n    .dataframe tbody tr th {\n        vertical-align: top;\n    }\n\n    .dataframe thead th {\n        text-align: right;\n    }\n</style>\n<table border=\"1\" class=\"dataframe\">\n  <thead>\n    <tr style=\"text-align: right;\">\n      <th></th>\n      <th>title</th>\n      <th>year</th>\n      <th>synopsis</th>\n      <th>critic_score</th>\n      <th>people_score</th>\n      <th>consensus</th>\n      <th>total_reviews</th>\n      <th>total_ratings</th>\n      <th>rating</th>\n      <th>genre</th>\n      <th>...</th>\n      <th>director</th>\n      <th>producer</th>\n      <th>writer</th>\n      <th>release_date_(theaters)</th>\n      <th>release_date_(streaming)</th>\n      <th>box_office_(gross_usa)</th>\n      <th>runtime</th>\n      <th>production_co</th>\n      <th>crew</th>\n      <th>link</th>\n    </tr>\n  </thead>\n  <tbody>\n    <tr>\n      <th>0</th>\n      <td>Black Panther</td>\n      <td>2018</td>\n      <td>After the death of his father, T'Challa return...</td>\n      <td>96</td>\n      <td>79.0</td>\n      <td>Black Panther elevates superhero cinema to thr...</td>\n      <td>519</td>\n      <td>50,000+</td>\n      <td>PG-13 (Sequences of Action Violence|A Brief Ru...</td>\n      <td>adventure, action, fantasy</td>\n      <td>...</td>\n      <td>Ryan Coogler</td>\n      <td>Kevin Feige</td>\n      <td>Ryan Coogler, Joe Robert Cole</td>\n      <td>Feb 16, 2018 wide</td>\n      <td>May 2, 2018</td>\n      <td>$700.2M</td>\n      <td>2h 14m</td>\n      <td>Walt Disney Pictures</td>\n      <td>Chadwick Boseman, Michael B. Jordan, Lupita Ny...</td>\n      <td>http://www.rottentomatoes.com/m/black_panther_...</td>\n    </tr>\n    <tr>\n      <th>1</th>\n      <td>Avengers: Endgame</td>\n      <td>2019</td>\n      <td>Adrift in space with no food or water, Tony St...</td>\n      <td>94</td>\n      <td>90.0</td>\n      <td>Exciting, entertaining, and emotionally impact...</td>\n      <td>538</td>\n      <td>50,000+</td>\n      <td>PG-13 (Sequences of Sci-Fi Violence|Action|Som...</td>\n      <td>sci fi, adventure, action, fantasy</td>\n      <td>...</td>\n      <td>Anthony Russo, Joe Russo</td>\n      <td>Kevin Feige</td>\n      <td>Christopher Markus, Stephen McFeely</td>\n      <td>Apr 26, 2019 wide</td>\n      <td>Jul 30, 2019</td>\n      <td>$858.4M</td>\n      <td>3h 1m</td>\n      <td>Marvel Studios, Walt Disney Pictures</td>\n      <td>Robert Downey Jr., Chris Evans, Mark Ruffalo, ...</td>\n      <td>http://www.rottentomatoes.com/m/avengers_endgame</td>\n    </tr>\n    <tr>\n      <th>2</th>\n      <td>Mission: Impossible -- Fallout</td>\n      <td>2018</td>\n      <td>Ethan Hunt and the IMF team join forces with C...</td>\n      <td>97</td>\n      <td>88.0</td>\n      <td>Fast, sleek, and fun, Mission: Impossible - Fa...</td>\n      <td>433</td>\n      <td>10,000+</td>\n      <td>PG-13 (Intense Sequences of Action|Brief Stron...</td>\n      <td>action, mystery and thriller, adventure</td>\n      <td>...</td>\n      <td>Christopher McQuarrie</td>\n      <td>Tom Cruise, Christopher McQuarrie, Jake Myers,...</td>\n      <td>Christopher McQuarrie</td>\n      <td>Jul 27, 2018 wide</td>\n      <td>Nov 20, 2018</td>\n      <td>$220.1M</td>\n      <td>2h 27m</td>\n      <td>Bad Robot, Tom Cruise</td>\n      <td>Tom Cruise, Henry Cavill, Ving Rhames, Simon P...</td>\n      <td>http://www.rottentomatoes.com/m/mission_imposs...</td>\n    </tr>\n    <tr>\n      <th>3</th>\n      <td>Mad Max: Fury Road</td>\n      <td>2015</td>\n      <td>Years after the collapse of civilization, the ...</td>\n      <td>97</td>\n      <td>86.0</td>\n      <td>With exhilarating action and a surprising amou...</td>\n      <td>427</td>\n      <td>100,000+</td>\n      <td>R (Intense Sequences of Violence|Disturbing Im...</td>\n      <td>adventure, action</td>\n      <td>...</td>\n      <td>George Miller</td>\n      <td>Doug Mitchell, George Miller, P.J. Voeten</td>\n      <td>George Miller, Brendan McCarthy, Nick Lathouris</td>\n      <td>May 15, 2015 wide</td>\n      <td>Aug 10, 2016</td>\n      <td>$153.6M</td>\n      <td>2h</td>\n      <td>Kennedy Miller Mitchell, Village Roadshow Pict...</td>\n      <td>Tom Hardy, Charlize Theron, Nicholas Hoult, Hu...</td>\n      <td>http://www.rottentomatoes.com/m/mad_max_fury_road</td>\n    </tr>\n    <tr>\n      <th>4</th>\n      <td>Spider-Man: Into the Spider-Verse</td>\n      <td>2018</td>\n      <td>Bitten by a radioactive spider in the subway, ...</td>\n      <td>97</td>\n      <td>93.0</td>\n      <td>Spider-Man: Into the Spider-Verse matches bold...</td>\n      <td>387</td>\n      <td>10,000+</td>\n      <td>PG (Mild Language|Frenetic Action Violence|The...</td>\n      <td>action, adventure, fantasy, comedy, kids and f...</td>\n      <td>...</td>\n      <td>Bob Persichetti, Peter Ramsey, Rodney Rothman</td>\n      <td>Avi Arad, Amy Pascal, Phil Lord, Christopher M...</td>\n      <td>Phil Lord, Rodney Rothman</td>\n      <td>Dec 14, 2018 wide</td>\n      <td>Mar 7, 2019</td>\n      <td>$190.2M</td>\n      <td>1h 57m</td>\n      <td>Lord Miller, Sony Pictures Animation, Pascal P...</td>\n      <td>Shameik Moore, Hailee Steinfeld, Mahershala Al...</td>\n      <td>http://www.rottentomatoes.com/m/spider_man_int...</td>\n    </tr>\n    <tr>\n      <th>...</th>\n      <td>...</td>\n      <td>...</td>\n      <td>...</td>\n      <td>...</td>\n      <td>...</td>\n      <td>...</td>\n      <td>...</td>\n      <td>...</td>\n      <td>...</td>\n      <td>...</td>\n      <td>...</td>\n      <td>...</td>\n      <td>...</td>\n      <td>...</td>\n      <td>...</td>\n      <td>...</td>\n      <td>...</td>\n      <td>...</td>\n      <td>...</td>\n      <td>...</td>\n      <td>...</td>\n    </tr>\n    <tr>\n      <th>1605</th>\n      <td>Priest</td>\n      <td>2011</td>\n      <td>In a society ravaged by centuries of war betwe...</td>\n      <td>15</td>\n      <td>46.0</td>\n      <td>Sleek and stylish, but those qualities are was...</td>\n      <td>101</td>\n      <td>50,000+</td>\n      <td>PG-13 (Disturbing Images|Brief Strong Language...</td>\n      <td>horror, action, fantasy</td>\n      <td>...</td>\n      <td>Scott Stewart</td>\n      <td>Michael De Luca, Joshua Donen, Mitchell Peck</td>\n      <td>Cory Goodman</td>\n      <td>May 13, 2011 wide</td>\n      <td>Apr 16, 2012</td>\n      <td>$29.1M</td>\n      <td>1h 27m</td>\n      <td>Michael De Luca, Stars Road Entertainment</td>\n      <td>Paul Bettany, Karl Urban, Cam Gigandet, Maggie...</td>\n      <td>http://www.rottentomatoes.com/m/10009274-priest</td>\n    </tr>\n    <tr>\n      <th>1606</th>\n      <td>September Dawn</td>\n      <td>2006</td>\n      <td>In 1857 Capt. Alexander Fancher leads a wagon ...</td>\n      <td>16</td>\n      <td>49.0</td>\n      <td>With its jarring editing, dull love story, and...</td>\n      <td>55</td>\n      <td>5,000+</td>\n      <td>R (Violence)</td>\n      <td>drama, history, western</td>\n      <td>...</td>\n      <td>Christopher Cain</td>\n      <td>Scott Duthie, Christopher Cain, Kevin Matossian</td>\n      <td>Christopher Cain, Carole Whang Schutter</td>\n      <td>Jun 22, 2007 wide</td>\n      <td>Jan 1, 2008</td>\n      <td>$1.1M</td>\n      <td>1h 50m</td>\n      <td>Voice Pictures Inc., September Dawn LLC</td>\n      <td>Jon Voight, Trent Ford, Tamara Hope, Jon Gries...</td>\n      <td>http://www.rottentomatoes.com/m/september_dawn</td>\n    </tr>\n    <tr>\n      <th>1607</th>\n      <td>American Outlaws</td>\n      <td>2001</td>\n      <td>After the Civil War ends, Confederate soldiers...</td>\n      <td>14</td>\n      <td>68.0</td>\n      <td>With corny dialogue, revisionist history, anac...</td>\n      <td>103</td>\n      <td>25,000+</td>\n      <td>PG-13 (Western Violence)</td>\n      <td>western, action</td>\n      <td>...</td>\n      <td>Les Mayfield</td>\n      <td>James G. Robinson, Bill Gerber</td>\n      <td>John Rogers, Roderick Taylor</td>\n      <td>Aug 17, 2001 wide</td>\n      <td>Dec 1, 2017</td>\n      <td>$13.3M</td>\n      <td>1h 33m</td>\n      <td>Morgan Creek Productions</td>\n      <td>Colin Farrell, Scott Caan, Ali Larter, Gabriel...</td>\n      <td>http://www.rottentomatoes.com/m/american_outlaws</td>\n    </tr>\n    <tr>\n      <th>1608</th>\n      <td>Jonah Hex</td>\n      <td>2010</td>\n      <td>Having cheated death, gunslinger and bounty hu...</td>\n      <td>12</td>\n      <td>20.0</td>\n      <td>Josh Brolin gives it his best shot, but he can...</td>\n      <td>152</td>\n      <td>100,000+</td>\n      <td>PG-13 (Intense Sequences of Action|Disturbing ...</td>\n      <td>mystery and thriller, fantasy, action, western...</td>\n      <td>...</td>\n      <td>Jimmy Hayward</td>\n      <td>Akiva Goldsman, Andrew Lazar</td>\n      <td>Mark Neveldine, Brian Taylor</td>\n      <td>Jun 18, 2010 wide</td>\n      <td>Mar 30, 2012</td>\n      <td>$10.5M</td>\n      <td>1h 21m</td>\n      <td>Mad Chance, Weed Road Pictures</td>\n      <td>Josh Brolin, John Malkovich, Megan Fox, Michae...</td>\n      <td>http://www.rottentomatoes.com/m/jonah_hex</td>\n    </tr>\n    <tr>\n      <th>1609</th>\n      <td>Texas Rangers</td>\n      <td>2001</td>\n      <td>Texas, 1875. In a land without justice, where ...</td>\n      <td>2</td>\n      <td>29.0</td>\n      <td>As far as westerns go, Texas Rangers is strict...</td>\n      <td>51</td>\n      <td>5,000+</td>\n      <td>PG-13 (Western Violence)</td>\n      <td>western, adventure</td>\n      <td>...</td>\n      <td>Steve Miner</td>\n      <td>Alan Greisman, Frank Price</td>\n      <td>Scott Busby, Martin Copeland</td>\n      <td>Nov 30, 2001 wide</td>\n      <td>Oct 8, 2016</td>\n      <td>$623.4K</td>\n      <td>1h 30m</td>\n      <td>Greisman Productions, Price Entertainment, Lar...</td>\n      <td>James Van Der Beek, Dylan McDermott, Usher Ray...</td>\n      <td>http://www.rottentomatoes.com/m/1111103-texas_...</td>\n    </tr>\n  </tbody>\n</table>\n<p>977 rows × 21 columns</p>\n</div>"
     },
     "execution_count": 22,
     "metadata": {},
     "output_type": "execute_result"
    }
   ],
   "source": [
    "df2"
   ],
   "metadata": {
    "collapsed": false
   }
  },
  {
   "cell_type": "code",
   "execution_count": 23,
   "outputs": [],
   "source": [
    "# change people_score data type to numeric\n",
    "df2['people_score'] = df2['people_score'].astype(int)"
   ],
   "metadata": {
    "collapsed": false
   }
  },
  {
   "cell_type": "code",
   "execution_count": 24,
   "outputs": [
    {
     "name": "stdout",
     "output_type": "stream",
     "text": [
      "['50,000+' '10,000+' '100,000+' '25,000+' '50,000+ Verified' '250,000+'\n",
      " '5,000+' '2,500+' '2,500+ Verified' '5,000+ Verified' '100+' '1,000+'\n",
      " '500+' '250+' '1,000+ Verified' '25,000+ Verified' '100+ Verified' '50+'\n",
      " 'Fewer than 50' '250+ Verified' '50+ Verified']\n"
     ]
    }
   ],
   "source": [
    "# delete \" Verified\" text from total_rating\n",
    "print(df2['total_ratings'].unique())"
   ],
   "metadata": {
    "collapsed": false
   }
  },
  {
   "cell_type": "code",
   "execution_count": 25,
   "outputs": [
    {
     "name": "stdout",
     "output_type": "stream",
     "text": [
      "['50,000+' '10,000+' '100,000+' '25,000+' '250,000+' '5,000+' '2,500+'\n",
      " '100+' '1,000+' '500+' '250+' '50+' 'Fewer than 50']\n"
     ]
    }
   ],
   "source": [
    "df2['total_ratings'] = df2['total_ratings'].apply(lambda x : x.replace(\" Verified\",\"\"))\n",
    "print(df2['total_ratings'].unique())"
   ],
   "metadata": {
    "collapsed": false
   }
  },
  {
   "cell_type": "code",
   "execution_count": 26,
   "outputs": [
    {
     "name": "stdout",
     "output_type": "stream",
     "text": [
      "['PG-13' 'R' 'PG' 'unknown' 'G' 'TV14' 'NC-17' 'TVMA' 'TVPG']\n"
     ]
    }
   ],
   "source": [
    "# extract rating out from description\n",
    "df2['rating'] = df2['rating'].apply(lambda x: x.split(\" (\")[0])\n",
    "print(df2['rating'].unique())"
   ],
   "metadata": {
    "collapsed": false
   }
  },
  {
   "cell_type": "code",
   "execution_count": 27,
   "outputs": [
    {
     "name": "stdout",
     "output_type": "stream",
     "text": [
      "['adventure' 'action' 'fantasy' 'sci fi' 'mystery and thriller' 'comedy'\n",
      " 'kids and family' 'animation' 'drama' 'history' 'war' 'music' 'horror'\n",
      " 'western' 'biography' 'musical' 'crime' 'sports and fitness' 'anime'\n",
      " 'other' 'romance' 'documentary' 'gay and lesbian']\n"
     ]
    }
   ],
   "source": [
    "# All unique genre in this dataset\n",
    "unique_genre = df2['genre'].str.split(', ').explode().unique()\n",
    "print(unique_genre)"
   ],
   "metadata": {
    "collapsed": false
   }
  },
  {
   "cell_type": "code",
   "execution_count": 28,
   "outputs": [
    {
     "name": "stdout",
     "output_type": "stream",
     "text": [
      "['English' 'Japanese' 'unknown' 'Russian' 'Italian' 'Chinese' 'French'\n",
      " 'Hebrew' 'Portuguese' 'Korean' 'Arabic' 'German' 'Swedish' 'Persian'\n",
      " 'Bangla' 'Spanish' 'Dutch' 'Indonesian' 'Bambara' 'Romanian' 'Turkish'\n",
      " 'Hindi' 'Polish' 'Wolof' 'Tibetan' 'Nepali' 'Danish' 'Czech' 'Thai']\n"
     ]
    }
   ],
   "source": [
    "# correct the value in \"original_language\" columns\n",
    "df2['original_language'] = df2['original_language'].apply(lambda x: x.split(\" \")[0])\n",
    "df2['original_language'] = df2['original_language'].replace('Unknown', 'unknown')\n",
    "print(df2['original_language'].unique())"
   ],
   "metadata": {
    "collapsed": false
   }
  },
  {
   "cell_type": "code",
   "execution_count": 29,
   "outputs": [
    {
     "data": {
      "text/plain": "                                  title  year  \\\n0                         Black Panther  2018   \n1                     Avengers: Endgame  2019   \n2        Mission: Impossible -- Fallout  2018   \n3                    Mad Max: Fury Road  2015   \n4     Spider-Man: Into the Spider-Verse  2018   \n...                                 ...   ...   \n1605                             Priest  2011   \n1606                     September Dawn  2006   \n1607                   American Outlaws  2001   \n1608                          Jonah Hex  2010   \n1609                      Texas Rangers  2001   \n\n                                               synopsis  critic_score  \\\n0     After the death of his father, T'Challa return...            96   \n1     Adrift in space with no food or water, Tony St...            94   \n2     Ethan Hunt and the IMF team join forces with C...            97   \n3     Years after the collapse of civilization, the ...            97   \n4     Bitten by a radioactive spider in the subway, ...            97   \n...                                                 ...           ...   \n1605  In a society ravaged by centuries of war betwe...            15   \n1606  In 1857 Capt. Alexander Fancher leads a wagon ...            16   \n1607  After the Civil War ends, Confederate soldiers...            14   \n1608  Having cheated death, gunslinger and bounty hu...            12   \n1609  Texas, 1875. In a land without justice, where ...             2   \n\n      people_score                                          consensus  \\\n0               79  Black Panther elevates superhero cinema to thr...   \n1               90  Exciting, entertaining, and emotionally impact...   \n2               88  Fast, sleek, and fun, Mission: Impossible - Fa...   \n3               86  With exhilarating action and a surprising amou...   \n4               93  Spider-Man: Into the Spider-Verse matches bold...   \n...            ...                                                ...   \n1605            46  Sleek and stylish, but those qualities are was...   \n1606            49  With its jarring editing, dull love story, and...   \n1607            68  With corny dialogue, revisionist history, anac...   \n1608            20  Josh Brolin gives it his best shot, but he can...   \n1609            29  As far as westerns go, Texas Rangers is strict...   \n\n      total_reviews total_ratings rating  \\\n0               519       50,000+  PG-13   \n1               538       50,000+  PG-13   \n2               433       10,000+  PG-13   \n3               427      100,000+      R   \n4               387       10,000+     PG   \n...             ...           ...    ...   \n1605            101       50,000+  PG-13   \n1606             55        5,000+      R   \n1607            103       25,000+  PG-13   \n1608            152      100,000+  PG-13   \n1609             51        5,000+  PG-13   \n\n                                                  genre  ...  \\\n0                            adventure, action, fantasy  ...   \n1                    sci fi, adventure, action, fantasy  ...   \n2               action, mystery and thriller, adventure  ...   \n3                                     adventure, action  ...   \n4     action, adventure, fantasy, comedy, kids and f...  ...   \n...                                                 ...  ...   \n1605                            horror, action, fantasy  ...   \n1606                            drama, history, western  ...   \n1607                                    western, action  ...   \n1608  mystery and thriller, fantasy, action, western...  ...   \n1609                                 western, adventure  ...   \n\n                                           director  \\\n0                                      Ryan Coogler   \n1                          Anthony Russo, Joe Russo   \n2                             Christopher McQuarrie   \n3                                     George Miller   \n4     Bob Persichetti, Peter Ramsey, Rodney Rothman   \n...                                             ...   \n1605                                  Scott Stewart   \n1606                               Christopher Cain   \n1607                                   Les Mayfield   \n1608                                  Jimmy Hayward   \n1609                                    Steve Miner   \n\n                                               producer  \\\n0                                           Kevin Feige   \n1                                           Kevin Feige   \n2     Tom Cruise, Christopher McQuarrie, Jake Myers,...   \n3             Doug Mitchell, George Miller, P.J. Voeten   \n4     Avi Arad, Amy Pascal, Phil Lord, Christopher M...   \n...                                                 ...   \n1605       Michael De Luca, Joshua Donen, Mitchell Peck   \n1606    Scott Duthie, Christopher Cain, Kevin Matossian   \n1607                     James G. Robinson, Bill Gerber   \n1608                       Akiva Goldsman, Andrew Lazar   \n1609                         Alan Greisman, Frank Price   \n\n                                               writer release_date_(theaters)  \\\n0                       Ryan Coogler, Joe Robert Cole       Feb 16, 2018 wide   \n1                 Christopher Markus, Stephen McFeely       Apr 26, 2019 wide   \n2                               Christopher McQuarrie       Jul 27, 2018 wide   \n3     George Miller, Brendan McCarthy, Nick Lathouris       May 15, 2015 wide   \n4                           Phil Lord, Rodney Rothman       Dec 14, 2018 wide   \n...                                               ...                     ...   \n1605                                     Cory Goodman       May 13, 2011 wide   \n1606          Christopher Cain, Carole Whang Schutter       Jun 22, 2007 wide   \n1607                     John Rogers, Roderick Taylor       Aug 17, 2001 wide   \n1608                     Mark Neveldine, Brian Taylor       Jun 18, 2010 wide   \n1609                     Scott Busby, Martin Copeland       Nov 30, 2001 wide   \n\n     release_date_(streaming) box_office_(gross_usa) runtime  \\\n0                 May 2, 2018                $700.2M  2h 14m   \n1                Jul 30, 2019                $858.4M   3h 1m   \n2                Nov 20, 2018                $220.1M  2h 27m   \n3                Aug 10, 2016                $153.6M      2h   \n4                 Mar 7, 2019                $190.2M  1h 57m   \n...                       ...                    ...     ...   \n1605             Apr 16, 2012                 $29.1M  1h 27m   \n1606              Jan 1, 2008                  $1.1M  1h 50m   \n1607              Dec 1, 2017                 $13.3M  1h 33m   \n1608             Mar 30, 2012                 $10.5M  1h 21m   \n1609              Oct 8, 2016                $623.4K  1h 30m   \n\n                                          production_co  \\\n0                                  Walt Disney Pictures   \n1                  Marvel Studios, Walt Disney Pictures   \n2                                 Bad Robot, Tom Cruise   \n3     Kennedy Miller Mitchell, Village Roadshow Pict...   \n4     Lord Miller, Sony Pictures Animation, Pascal P...   \n...                                                 ...   \n1605          Michael De Luca, Stars Road Entertainment   \n1606            Voice Pictures Inc., September Dawn LLC   \n1607                           Morgan Creek Productions   \n1608                     Mad Chance, Weed Road Pictures   \n1609  Greisman Productions, Price Entertainment, Lar...   \n\n                                                   crew  \\\n0     Chadwick Boseman, Michael B. Jordan, Lupita Ny...   \n1     Robert Downey Jr., Chris Evans, Mark Ruffalo, ...   \n2     Tom Cruise, Henry Cavill, Ving Rhames, Simon P...   \n3     Tom Hardy, Charlize Theron, Nicholas Hoult, Hu...   \n4     Shameik Moore, Hailee Steinfeld, Mahershala Al...   \n...                                                 ...   \n1605  Paul Bettany, Karl Urban, Cam Gigandet, Maggie...   \n1606  Jon Voight, Trent Ford, Tamara Hope, Jon Gries...   \n1607  Colin Farrell, Scott Caan, Ali Larter, Gabriel...   \n1608  Josh Brolin, John Malkovich, Megan Fox, Michae...   \n1609  James Van Der Beek, Dylan McDermott, Usher Ray...   \n\n                                                   link  \n0     http://www.rottentomatoes.com/m/black_panther_...  \n1      http://www.rottentomatoes.com/m/avengers_endgame  \n2     http://www.rottentomatoes.com/m/mission_imposs...  \n3     http://www.rottentomatoes.com/m/mad_max_fury_road  \n4     http://www.rottentomatoes.com/m/spider_man_int...  \n...                                                 ...  \n1605    http://www.rottentomatoes.com/m/10009274-priest  \n1606     http://www.rottentomatoes.com/m/september_dawn  \n1607   http://www.rottentomatoes.com/m/american_outlaws  \n1608          http://www.rottentomatoes.com/m/jonah_hex  \n1609  http://www.rottentomatoes.com/m/1111103-texas_...  \n\n[977 rows x 21 columns]",
      "text/html": "<div>\n<style scoped>\n    .dataframe tbody tr th:only-of-type {\n        vertical-align: middle;\n    }\n\n    .dataframe tbody tr th {\n        vertical-align: top;\n    }\n\n    .dataframe thead th {\n        text-align: right;\n    }\n</style>\n<table border=\"1\" class=\"dataframe\">\n  <thead>\n    <tr style=\"text-align: right;\">\n      <th></th>\n      <th>title</th>\n      <th>year</th>\n      <th>synopsis</th>\n      <th>critic_score</th>\n      <th>people_score</th>\n      <th>consensus</th>\n      <th>total_reviews</th>\n      <th>total_ratings</th>\n      <th>rating</th>\n      <th>genre</th>\n      <th>...</th>\n      <th>director</th>\n      <th>producer</th>\n      <th>writer</th>\n      <th>release_date_(theaters)</th>\n      <th>release_date_(streaming)</th>\n      <th>box_office_(gross_usa)</th>\n      <th>runtime</th>\n      <th>production_co</th>\n      <th>crew</th>\n      <th>link</th>\n    </tr>\n  </thead>\n  <tbody>\n    <tr>\n      <th>0</th>\n      <td>Black Panther</td>\n      <td>2018</td>\n      <td>After the death of his father, T'Challa return...</td>\n      <td>96</td>\n      <td>79</td>\n      <td>Black Panther elevates superhero cinema to thr...</td>\n      <td>519</td>\n      <td>50,000+</td>\n      <td>PG-13</td>\n      <td>adventure, action, fantasy</td>\n      <td>...</td>\n      <td>Ryan Coogler</td>\n      <td>Kevin Feige</td>\n      <td>Ryan Coogler, Joe Robert Cole</td>\n      <td>Feb 16, 2018 wide</td>\n      <td>May 2, 2018</td>\n      <td>$700.2M</td>\n      <td>2h 14m</td>\n      <td>Walt Disney Pictures</td>\n      <td>Chadwick Boseman, Michael B. Jordan, Lupita Ny...</td>\n      <td>http://www.rottentomatoes.com/m/black_panther_...</td>\n    </tr>\n    <tr>\n      <th>1</th>\n      <td>Avengers: Endgame</td>\n      <td>2019</td>\n      <td>Adrift in space with no food or water, Tony St...</td>\n      <td>94</td>\n      <td>90</td>\n      <td>Exciting, entertaining, and emotionally impact...</td>\n      <td>538</td>\n      <td>50,000+</td>\n      <td>PG-13</td>\n      <td>sci fi, adventure, action, fantasy</td>\n      <td>...</td>\n      <td>Anthony Russo, Joe Russo</td>\n      <td>Kevin Feige</td>\n      <td>Christopher Markus, Stephen McFeely</td>\n      <td>Apr 26, 2019 wide</td>\n      <td>Jul 30, 2019</td>\n      <td>$858.4M</td>\n      <td>3h 1m</td>\n      <td>Marvel Studios, Walt Disney Pictures</td>\n      <td>Robert Downey Jr., Chris Evans, Mark Ruffalo, ...</td>\n      <td>http://www.rottentomatoes.com/m/avengers_endgame</td>\n    </tr>\n    <tr>\n      <th>2</th>\n      <td>Mission: Impossible -- Fallout</td>\n      <td>2018</td>\n      <td>Ethan Hunt and the IMF team join forces with C...</td>\n      <td>97</td>\n      <td>88</td>\n      <td>Fast, sleek, and fun, Mission: Impossible - Fa...</td>\n      <td>433</td>\n      <td>10,000+</td>\n      <td>PG-13</td>\n      <td>action, mystery and thriller, adventure</td>\n      <td>...</td>\n      <td>Christopher McQuarrie</td>\n      <td>Tom Cruise, Christopher McQuarrie, Jake Myers,...</td>\n      <td>Christopher McQuarrie</td>\n      <td>Jul 27, 2018 wide</td>\n      <td>Nov 20, 2018</td>\n      <td>$220.1M</td>\n      <td>2h 27m</td>\n      <td>Bad Robot, Tom Cruise</td>\n      <td>Tom Cruise, Henry Cavill, Ving Rhames, Simon P...</td>\n      <td>http://www.rottentomatoes.com/m/mission_imposs...</td>\n    </tr>\n    <tr>\n      <th>3</th>\n      <td>Mad Max: Fury Road</td>\n      <td>2015</td>\n      <td>Years after the collapse of civilization, the ...</td>\n      <td>97</td>\n      <td>86</td>\n      <td>With exhilarating action and a surprising amou...</td>\n      <td>427</td>\n      <td>100,000+</td>\n      <td>R</td>\n      <td>adventure, action</td>\n      <td>...</td>\n      <td>George Miller</td>\n      <td>Doug Mitchell, George Miller, P.J. Voeten</td>\n      <td>George Miller, Brendan McCarthy, Nick Lathouris</td>\n      <td>May 15, 2015 wide</td>\n      <td>Aug 10, 2016</td>\n      <td>$153.6M</td>\n      <td>2h</td>\n      <td>Kennedy Miller Mitchell, Village Roadshow Pict...</td>\n      <td>Tom Hardy, Charlize Theron, Nicholas Hoult, Hu...</td>\n      <td>http://www.rottentomatoes.com/m/mad_max_fury_road</td>\n    </tr>\n    <tr>\n      <th>4</th>\n      <td>Spider-Man: Into the Spider-Verse</td>\n      <td>2018</td>\n      <td>Bitten by a radioactive spider in the subway, ...</td>\n      <td>97</td>\n      <td>93</td>\n      <td>Spider-Man: Into the Spider-Verse matches bold...</td>\n      <td>387</td>\n      <td>10,000+</td>\n      <td>PG</td>\n      <td>action, adventure, fantasy, comedy, kids and f...</td>\n      <td>...</td>\n      <td>Bob Persichetti, Peter Ramsey, Rodney Rothman</td>\n      <td>Avi Arad, Amy Pascal, Phil Lord, Christopher M...</td>\n      <td>Phil Lord, Rodney Rothman</td>\n      <td>Dec 14, 2018 wide</td>\n      <td>Mar 7, 2019</td>\n      <td>$190.2M</td>\n      <td>1h 57m</td>\n      <td>Lord Miller, Sony Pictures Animation, Pascal P...</td>\n      <td>Shameik Moore, Hailee Steinfeld, Mahershala Al...</td>\n      <td>http://www.rottentomatoes.com/m/spider_man_int...</td>\n    </tr>\n    <tr>\n      <th>...</th>\n      <td>...</td>\n      <td>...</td>\n      <td>...</td>\n      <td>...</td>\n      <td>...</td>\n      <td>...</td>\n      <td>...</td>\n      <td>...</td>\n      <td>...</td>\n      <td>...</td>\n      <td>...</td>\n      <td>...</td>\n      <td>...</td>\n      <td>...</td>\n      <td>...</td>\n      <td>...</td>\n      <td>...</td>\n      <td>...</td>\n      <td>...</td>\n      <td>...</td>\n      <td>...</td>\n    </tr>\n    <tr>\n      <th>1605</th>\n      <td>Priest</td>\n      <td>2011</td>\n      <td>In a society ravaged by centuries of war betwe...</td>\n      <td>15</td>\n      <td>46</td>\n      <td>Sleek and stylish, but those qualities are was...</td>\n      <td>101</td>\n      <td>50,000+</td>\n      <td>PG-13</td>\n      <td>horror, action, fantasy</td>\n      <td>...</td>\n      <td>Scott Stewart</td>\n      <td>Michael De Luca, Joshua Donen, Mitchell Peck</td>\n      <td>Cory Goodman</td>\n      <td>May 13, 2011 wide</td>\n      <td>Apr 16, 2012</td>\n      <td>$29.1M</td>\n      <td>1h 27m</td>\n      <td>Michael De Luca, Stars Road Entertainment</td>\n      <td>Paul Bettany, Karl Urban, Cam Gigandet, Maggie...</td>\n      <td>http://www.rottentomatoes.com/m/10009274-priest</td>\n    </tr>\n    <tr>\n      <th>1606</th>\n      <td>September Dawn</td>\n      <td>2006</td>\n      <td>In 1857 Capt. Alexander Fancher leads a wagon ...</td>\n      <td>16</td>\n      <td>49</td>\n      <td>With its jarring editing, dull love story, and...</td>\n      <td>55</td>\n      <td>5,000+</td>\n      <td>R</td>\n      <td>drama, history, western</td>\n      <td>...</td>\n      <td>Christopher Cain</td>\n      <td>Scott Duthie, Christopher Cain, Kevin Matossian</td>\n      <td>Christopher Cain, Carole Whang Schutter</td>\n      <td>Jun 22, 2007 wide</td>\n      <td>Jan 1, 2008</td>\n      <td>$1.1M</td>\n      <td>1h 50m</td>\n      <td>Voice Pictures Inc., September Dawn LLC</td>\n      <td>Jon Voight, Trent Ford, Tamara Hope, Jon Gries...</td>\n      <td>http://www.rottentomatoes.com/m/september_dawn</td>\n    </tr>\n    <tr>\n      <th>1607</th>\n      <td>American Outlaws</td>\n      <td>2001</td>\n      <td>After the Civil War ends, Confederate soldiers...</td>\n      <td>14</td>\n      <td>68</td>\n      <td>With corny dialogue, revisionist history, anac...</td>\n      <td>103</td>\n      <td>25,000+</td>\n      <td>PG-13</td>\n      <td>western, action</td>\n      <td>...</td>\n      <td>Les Mayfield</td>\n      <td>James G. Robinson, Bill Gerber</td>\n      <td>John Rogers, Roderick Taylor</td>\n      <td>Aug 17, 2001 wide</td>\n      <td>Dec 1, 2017</td>\n      <td>$13.3M</td>\n      <td>1h 33m</td>\n      <td>Morgan Creek Productions</td>\n      <td>Colin Farrell, Scott Caan, Ali Larter, Gabriel...</td>\n      <td>http://www.rottentomatoes.com/m/american_outlaws</td>\n    </tr>\n    <tr>\n      <th>1608</th>\n      <td>Jonah Hex</td>\n      <td>2010</td>\n      <td>Having cheated death, gunslinger and bounty hu...</td>\n      <td>12</td>\n      <td>20</td>\n      <td>Josh Brolin gives it his best shot, but he can...</td>\n      <td>152</td>\n      <td>100,000+</td>\n      <td>PG-13</td>\n      <td>mystery and thriller, fantasy, action, western...</td>\n      <td>...</td>\n      <td>Jimmy Hayward</td>\n      <td>Akiva Goldsman, Andrew Lazar</td>\n      <td>Mark Neveldine, Brian Taylor</td>\n      <td>Jun 18, 2010 wide</td>\n      <td>Mar 30, 2012</td>\n      <td>$10.5M</td>\n      <td>1h 21m</td>\n      <td>Mad Chance, Weed Road Pictures</td>\n      <td>Josh Brolin, John Malkovich, Megan Fox, Michae...</td>\n      <td>http://www.rottentomatoes.com/m/jonah_hex</td>\n    </tr>\n    <tr>\n      <th>1609</th>\n      <td>Texas Rangers</td>\n      <td>2001</td>\n      <td>Texas, 1875. In a land without justice, where ...</td>\n      <td>2</td>\n      <td>29</td>\n      <td>As far as westerns go, Texas Rangers is strict...</td>\n      <td>51</td>\n      <td>5,000+</td>\n      <td>PG-13</td>\n      <td>western, adventure</td>\n      <td>...</td>\n      <td>Steve Miner</td>\n      <td>Alan Greisman, Frank Price</td>\n      <td>Scott Busby, Martin Copeland</td>\n      <td>Nov 30, 2001 wide</td>\n      <td>Oct 8, 2016</td>\n      <td>$623.4K</td>\n      <td>1h 30m</td>\n      <td>Greisman Productions, Price Entertainment, Lar...</td>\n      <td>James Van Der Beek, Dylan McDermott, Usher Ray...</td>\n      <td>http://www.rottentomatoes.com/m/1111103-texas_...</td>\n    </tr>\n  </tbody>\n</table>\n<p>977 rows × 21 columns</p>\n</div>"
     },
     "execution_count": 29,
     "metadata": {},
     "output_type": "execute_result"
    }
   ],
   "source": [
    "df2"
   ],
   "metadata": {
    "collapsed": false
   }
  },
  {
   "cell_type": "code",
   "execution_count": 30,
   "outputs": [
    {
     "name": "stderr",
     "output_type": "stream",
     "text": [
      "C:\\Users\\Non\\AppData\\Local\\Temp\\ipykernel_5928\\1479797216.py:5: SettingWithCopyWarning: \n",
      "A value is trying to be set on a copy of a slice from a DataFrame\n",
      "\n",
      "See the caveats in the documentation: https://pandas.pydata.org/pandas-docs/stable/user_guide/indexing.html#returning-a-view-versus-a-copy\n",
      "  df2['release_date_(theaters)'].loc[~df2['release_date_(theaters)'].isna()] = release_date_update\n"
     ]
    }
   ],
   "source": [
    "# change release date theaters to iso format\n",
    "release_date_update = df2['release_date_(theaters)'][~df2['release_date_(theaters)'].isna()]\\\n",
    "                      .apply(lambda x: ' '.join(x.split()[:-1])) \\\n",
    "                      .apply(lambda x: datetime.strptime(x, \"%b %d, %Y\").strftime(\"%Y-%m-%d\"))\n",
    "df2['release_date_(theaters)'].loc[~df2['release_date_(theaters)'].isna()] = release_date_update"
   ],
   "metadata": {
    "collapsed": false
   }
  },
  {
   "cell_type": "code",
   "execution_count": 31,
   "outputs": [
    {
     "name": "stderr",
     "output_type": "stream",
     "text": [
      "C:\\Users\\Non\\AppData\\Local\\Temp\\ipykernel_5928\\1687802130.py:4: SettingWithCopyWarning: \n",
      "A value is trying to be set on a copy of a slice from a DataFrame\n",
      "\n",
      "See the caveats in the documentation: https://pandas.pydata.org/pandas-docs/stable/user_guide/indexing.html#returning-a-view-versus-a-copy\n",
      "  df2['release_date_(streaming)'].loc[~df2['release_date_(streaming)'].isna()] = release_date_update\n"
     ]
    }
   ],
   "source": [
    "# change release date streaming to iso format\n",
    "release_date_update = df2['release_date_(streaming)'][~df2['release_date_(streaming)'].isna()] \\\n",
    "                      .apply(lambda x: datetime.strptime(x, \"%b %d, %Y\").strftime(\"%Y-%m-%d\"))\n",
    "df2['release_date_(streaming)'].loc[~df2['release_date_(streaming)'].isna()] = release_date_update"
   ],
   "metadata": {
    "collapsed": false
   }
  },
  {
   "cell_type": "code",
   "execution_count": 32,
   "outputs": [],
   "source": [
    "# change box_office from string to numeric\n",
    "\n",
    "## create ext_monet function\n",
    "def ext_money(money) :\n",
    "    num = float(money[1:-1])\n",
    "    if money[-1] == 'M' :\n",
    "        num = num * 10**6\n",
    "    else :\n",
    "        num = num * 10**3\n",
    "    num = int(num)\n",
    "    return num"
   ],
   "metadata": {
    "collapsed": false
   }
  },
  {
   "cell_type": "code",
   "execution_count": 33,
   "outputs": [
    {
     "name": "stderr",
     "output_type": "stream",
     "text": [
      "C:\\Users\\Non\\AppData\\Local\\Temp\\ipykernel_5928\\4031061860.py:4: SettingWithCopyWarning: \n",
      "A value is trying to be set on a copy of a slice from a DataFrame\n",
      "\n",
      "See the caveats in the documentation: https://pandas.pydata.org/pandas-docs/stable/user_guide/indexing.html#returning-a-view-versus-a-copy\n",
      "  df2['box_office_(gross_usa)'].loc[~df2['box_office_(gross_usa)'].isna()] = box_office_num\n"
     ]
    }
   ],
   "source": [
    "# change box_office from string to numeric\n",
    "box_office_num = df2['box_office_(gross_usa)'][~df2['box_office_(gross_usa)'].isna()].apply(lambda x:\n",
    "                                                                                            ext_money(x))\n",
    "df2['box_office_(gross_usa)'].loc[~df2['box_office_(gross_usa)'].isna()] = box_office_num"
   ],
   "metadata": {
    "collapsed": false
   }
  },
  {
   "cell_type": "code",
   "execution_count": 34,
   "outputs": [],
   "source": [
    "# change runtime to minutes\n",
    "df2['runtime'] = df2['runtime'].apply(lambda x: int(pd.Timedelta(x).seconds / 60))"
   ],
   "metadata": {
    "collapsed": false
   }
  },
  {
   "cell_type": "code",
   "execution_count": 35,
   "outputs": [
    {
     "data": {
      "text/plain": "                                  title  year  \\\n0                         Black Panther  2018   \n1                     Avengers: Endgame  2019   \n2        Mission: Impossible -- Fallout  2018   \n3                    Mad Max: Fury Road  2015   \n4     Spider-Man: Into the Spider-Verse  2018   \n...                                 ...   ...   \n1605                             Priest  2011   \n1606                     September Dawn  2006   \n1607                   American Outlaws  2001   \n1608                          Jonah Hex  2010   \n1609                      Texas Rangers  2001   \n\n                                               synopsis  critic_score  \\\n0     After the death of his father, T'Challa return...            96   \n1     Adrift in space with no food or water, Tony St...            94   \n2     Ethan Hunt and the IMF team join forces with C...            97   \n3     Years after the collapse of civilization, the ...            97   \n4     Bitten by a radioactive spider in the subway, ...            97   \n...                                                 ...           ...   \n1605  In a society ravaged by centuries of war betwe...            15   \n1606  In 1857 Capt. Alexander Fancher leads a wagon ...            16   \n1607  After the Civil War ends, Confederate soldiers...            14   \n1608  Having cheated death, gunslinger and bounty hu...            12   \n1609  Texas, 1875. In a land without justice, where ...             2   \n\n      people_score                                          consensus  \\\n0               79  Black Panther elevates superhero cinema to thr...   \n1               90  Exciting, entertaining, and emotionally impact...   \n2               88  Fast, sleek, and fun, Mission: Impossible - Fa...   \n3               86  With exhilarating action and a surprising amou...   \n4               93  Spider-Man: Into the Spider-Verse matches bold...   \n...            ...                                                ...   \n1605            46  Sleek and stylish, but those qualities are was...   \n1606            49  With its jarring editing, dull love story, and...   \n1607            68  With corny dialogue, revisionist history, anac...   \n1608            20  Josh Brolin gives it his best shot, but he can...   \n1609            29  As far as westerns go, Texas Rangers is strict...   \n\n      total_reviews total_ratings rating  \\\n0               519       50,000+  PG-13   \n1               538       50,000+  PG-13   \n2               433       10,000+  PG-13   \n3               427      100,000+      R   \n4               387       10,000+     PG   \n...             ...           ...    ...   \n1605            101       50,000+  PG-13   \n1606             55        5,000+      R   \n1607            103       25,000+  PG-13   \n1608            152      100,000+  PG-13   \n1609             51        5,000+  PG-13   \n\n                                                  genre  ...  \\\n0                            adventure, action, fantasy  ...   \n1                    sci fi, adventure, action, fantasy  ...   \n2               action, mystery and thriller, adventure  ...   \n3                                     adventure, action  ...   \n4     action, adventure, fantasy, comedy, kids and f...  ...   \n...                                                 ...  ...   \n1605                            horror, action, fantasy  ...   \n1606                            drama, history, western  ...   \n1607                                    western, action  ...   \n1608  mystery and thriller, fantasy, action, western...  ...   \n1609                                 western, adventure  ...   \n\n                                           director  \\\n0                                      Ryan Coogler   \n1                          Anthony Russo, Joe Russo   \n2                             Christopher McQuarrie   \n3                                     George Miller   \n4     Bob Persichetti, Peter Ramsey, Rodney Rothman   \n...                                             ...   \n1605                                  Scott Stewart   \n1606                               Christopher Cain   \n1607                                   Les Mayfield   \n1608                                  Jimmy Hayward   \n1609                                    Steve Miner   \n\n                                               producer  \\\n0                                           Kevin Feige   \n1                                           Kevin Feige   \n2     Tom Cruise, Christopher McQuarrie, Jake Myers,...   \n3             Doug Mitchell, George Miller, P.J. Voeten   \n4     Avi Arad, Amy Pascal, Phil Lord, Christopher M...   \n...                                                 ...   \n1605       Michael De Luca, Joshua Donen, Mitchell Peck   \n1606    Scott Duthie, Christopher Cain, Kevin Matossian   \n1607                     James G. Robinson, Bill Gerber   \n1608                       Akiva Goldsman, Andrew Lazar   \n1609                         Alan Greisman, Frank Price   \n\n                                               writer release_date_(theaters)  \\\n0                       Ryan Coogler, Joe Robert Cole              2018-02-16   \n1                 Christopher Markus, Stephen McFeely              2019-04-26   \n2                               Christopher McQuarrie              2018-07-27   \n3     George Miller, Brendan McCarthy, Nick Lathouris              2015-05-15   \n4                           Phil Lord, Rodney Rothman              2018-12-14   \n...                                               ...                     ...   \n1605                                     Cory Goodman              2011-05-13   \n1606          Christopher Cain, Carole Whang Schutter              2007-06-22   \n1607                     John Rogers, Roderick Taylor              2001-08-17   \n1608                     Mark Neveldine, Brian Taylor              2010-06-18   \n1609                     Scott Busby, Martin Copeland              2001-11-30   \n\n     release_date_(streaming) box_office_(gross_usa) runtime  \\\n0                  2018-05-02              700200000     134   \n1                  2019-07-30              858400000     181   \n2                  2018-11-20              220100000     147   \n3                  2016-08-10              153600000     120   \n4                  2019-03-07              190200000     117   \n...                       ...                    ...     ...   \n1605               2012-04-16               29100000      87   \n1606               2008-01-01                1100000     110   \n1607               2017-12-01               13300000      93   \n1608               2012-03-30               10500000      81   \n1609               2016-10-08                 623400      90   \n\n                                          production_co  \\\n0                                  Walt Disney Pictures   \n1                  Marvel Studios, Walt Disney Pictures   \n2                                 Bad Robot, Tom Cruise   \n3     Kennedy Miller Mitchell, Village Roadshow Pict...   \n4     Lord Miller, Sony Pictures Animation, Pascal P...   \n...                                                 ...   \n1605          Michael De Luca, Stars Road Entertainment   \n1606            Voice Pictures Inc., September Dawn LLC   \n1607                           Morgan Creek Productions   \n1608                     Mad Chance, Weed Road Pictures   \n1609  Greisman Productions, Price Entertainment, Lar...   \n\n                                                   crew  \\\n0     Chadwick Boseman, Michael B. Jordan, Lupita Ny...   \n1     Robert Downey Jr., Chris Evans, Mark Ruffalo, ...   \n2     Tom Cruise, Henry Cavill, Ving Rhames, Simon P...   \n3     Tom Hardy, Charlize Theron, Nicholas Hoult, Hu...   \n4     Shameik Moore, Hailee Steinfeld, Mahershala Al...   \n...                                                 ...   \n1605  Paul Bettany, Karl Urban, Cam Gigandet, Maggie...   \n1606  Jon Voight, Trent Ford, Tamara Hope, Jon Gries...   \n1607  Colin Farrell, Scott Caan, Ali Larter, Gabriel...   \n1608  Josh Brolin, John Malkovich, Megan Fox, Michae...   \n1609  James Van Der Beek, Dylan McDermott, Usher Ray...   \n\n                                                   link  \n0     http://www.rottentomatoes.com/m/black_panther_...  \n1      http://www.rottentomatoes.com/m/avengers_endgame  \n2     http://www.rottentomatoes.com/m/mission_imposs...  \n3     http://www.rottentomatoes.com/m/mad_max_fury_road  \n4     http://www.rottentomatoes.com/m/spider_man_int...  \n...                                                 ...  \n1605    http://www.rottentomatoes.com/m/10009274-priest  \n1606     http://www.rottentomatoes.com/m/september_dawn  \n1607   http://www.rottentomatoes.com/m/american_outlaws  \n1608          http://www.rottentomatoes.com/m/jonah_hex  \n1609  http://www.rottentomatoes.com/m/1111103-texas_...  \n\n[977 rows x 21 columns]",
      "text/html": "<div>\n<style scoped>\n    .dataframe tbody tr th:only-of-type {\n        vertical-align: middle;\n    }\n\n    .dataframe tbody tr th {\n        vertical-align: top;\n    }\n\n    .dataframe thead th {\n        text-align: right;\n    }\n</style>\n<table border=\"1\" class=\"dataframe\">\n  <thead>\n    <tr style=\"text-align: right;\">\n      <th></th>\n      <th>title</th>\n      <th>year</th>\n      <th>synopsis</th>\n      <th>critic_score</th>\n      <th>people_score</th>\n      <th>consensus</th>\n      <th>total_reviews</th>\n      <th>total_ratings</th>\n      <th>rating</th>\n      <th>genre</th>\n      <th>...</th>\n      <th>director</th>\n      <th>producer</th>\n      <th>writer</th>\n      <th>release_date_(theaters)</th>\n      <th>release_date_(streaming)</th>\n      <th>box_office_(gross_usa)</th>\n      <th>runtime</th>\n      <th>production_co</th>\n      <th>crew</th>\n      <th>link</th>\n    </tr>\n  </thead>\n  <tbody>\n    <tr>\n      <th>0</th>\n      <td>Black Panther</td>\n      <td>2018</td>\n      <td>After the death of his father, T'Challa return...</td>\n      <td>96</td>\n      <td>79</td>\n      <td>Black Panther elevates superhero cinema to thr...</td>\n      <td>519</td>\n      <td>50,000+</td>\n      <td>PG-13</td>\n      <td>adventure, action, fantasy</td>\n      <td>...</td>\n      <td>Ryan Coogler</td>\n      <td>Kevin Feige</td>\n      <td>Ryan Coogler, Joe Robert Cole</td>\n      <td>2018-02-16</td>\n      <td>2018-05-02</td>\n      <td>700200000</td>\n      <td>134</td>\n      <td>Walt Disney Pictures</td>\n      <td>Chadwick Boseman, Michael B. Jordan, Lupita Ny...</td>\n      <td>http://www.rottentomatoes.com/m/black_panther_...</td>\n    </tr>\n    <tr>\n      <th>1</th>\n      <td>Avengers: Endgame</td>\n      <td>2019</td>\n      <td>Adrift in space with no food or water, Tony St...</td>\n      <td>94</td>\n      <td>90</td>\n      <td>Exciting, entertaining, and emotionally impact...</td>\n      <td>538</td>\n      <td>50,000+</td>\n      <td>PG-13</td>\n      <td>sci fi, adventure, action, fantasy</td>\n      <td>...</td>\n      <td>Anthony Russo, Joe Russo</td>\n      <td>Kevin Feige</td>\n      <td>Christopher Markus, Stephen McFeely</td>\n      <td>2019-04-26</td>\n      <td>2019-07-30</td>\n      <td>858400000</td>\n      <td>181</td>\n      <td>Marvel Studios, Walt Disney Pictures</td>\n      <td>Robert Downey Jr., Chris Evans, Mark Ruffalo, ...</td>\n      <td>http://www.rottentomatoes.com/m/avengers_endgame</td>\n    </tr>\n    <tr>\n      <th>2</th>\n      <td>Mission: Impossible -- Fallout</td>\n      <td>2018</td>\n      <td>Ethan Hunt and the IMF team join forces with C...</td>\n      <td>97</td>\n      <td>88</td>\n      <td>Fast, sleek, and fun, Mission: Impossible - Fa...</td>\n      <td>433</td>\n      <td>10,000+</td>\n      <td>PG-13</td>\n      <td>action, mystery and thriller, adventure</td>\n      <td>...</td>\n      <td>Christopher McQuarrie</td>\n      <td>Tom Cruise, Christopher McQuarrie, Jake Myers,...</td>\n      <td>Christopher McQuarrie</td>\n      <td>2018-07-27</td>\n      <td>2018-11-20</td>\n      <td>220100000</td>\n      <td>147</td>\n      <td>Bad Robot, Tom Cruise</td>\n      <td>Tom Cruise, Henry Cavill, Ving Rhames, Simon P...</td>\n      <td>http://www.rottentomatoes.com/m/mission_imposs...</td>\n    </tr>\n    <tr>\n      <th>3</th>\n      <td>Mad Max: Fury Road</td>\n      <td>2015</td>\n      <td>Years after the collapse of civilization, the ...</td>\n      <td>97</td>\n      <td>86</td>\n      <td>With exhilarating action and a surprising amou...</td>\n      <td>427</td>\n      <td>100,000+</td>\n      <td>R</td>\n      <td>adventure, action</td>\n      <td>...</td>\n      <td>George Miller</td>\n      <td>Doug Mitchell, George Miller, P.J. Voeten</td>\n      <td>George Miller, Brendan McCarthy, Nick Lathouris</td>\n      <td>2015-05-15</td>\n      <td>2016-08-10</td>\n      <td>153600000</td>\n      <td>120</td>\n      <td>Kennedy Miller Mitchell, Village Roadshow Pict...</td>\n      <td>Tom Hardy, Charlize Theron, Nicholas Hoult, Hu...</td>\n      <td>http://www.rottentomatoes.com/m/mad_max_fury_road</td>\n    </tr>\n    <tr>\n      <th>4</th>\n      <td>Spider-Man: Into the Spider-Verse</td>\n      <td>2018</td>\n      <td>Bitten by a radioactive spider in the subway, ...</td>\n      <td>97</td>\n      <td>93</td>\n      <td>Spider-Man: Into the Spider-Verse matches bold...</td>\n      <td>387</td>\n      <td>10,000+</td>\n      <td>PG</td>\n      <td>action, adventure, fantasy, comedy, kids and f...</td>\n      <td>...</td>\n      <td>Bob Persichetti, Peter Ramsey, Rodney Rothman</td>\n      <td>Avi Arad, Amy Pascal, Phil Lord, Christopher M...</td>\n      <td>Phil Lord, Rodney Rothman</td>\n      <td>2018-12-14</td>\n      <td>2019-03-07</td>\n      <td>190200000</td>\n      <td>117</td>\n      <td>Lord Miller, Sony Pictures Animation, Pascal P...</td>\n      <td>Shameik Moore, Hailee Steinfeld, Mahershala Al...</td>\n      <td>http://www.rottentomatoes.com/m/spider_man_int...</td>\n    </tr>\n    <tr>\n      <th>...</th>\n      <td>...</td>\n      <td>...</td>\n      <td>...</td>\n      <td>...</td>\n      <td>...</td>\n      <td>...</td>\n      <td>...</td>\n      <td>...</td>\n      <td>...</td>\n      <td>...</td>\n      <td>...</td>\n      <td>...</td>\n      <td>...</td>\n      <td>...</td>\n      <td>...</td>\n      <td>...</td>\n      <td>...</td>\n      <td>...</td>\n      <td>...</td>\n      <td>...</td>\n      <td>...</td>\n    </tr>\n    <tr>\n      <th>1605</th>\n      <td>Priest</td>\n      <td>2011</td>\n      <td>In a society ravaged by centuries of war betwe...</td>\n      <td>15</td>\n      <td>46</td>\n      <td>Sleek and stylish, but those qualities are was...</td>\n      <td>101</td>\n      <td>50,000+</td>\n      <td>PG-13</td>\n      <td>horror, action, fantasy</td>\n      <td>...</td>\n      <td>Scott Stewart</td>\n      <td>Michael De Luca, Joshua Donen, Mitchell Peck</td>\n      <td>Cory Goodman</td>\n      <td>2011-05-13</td>\n      <td>2012-04-16</td>\n      <td>29100000</td>\n      <td>87</td>\n      <td>Michael De Luca, Stars Road Entertainment</td>\n      <td>Paul Bettany, Karl Urban, Cam Gigandet, Maggie...</td>\n      <td>http://www.rottentomatoes.com/m/10009274-priest</td>\n    </tr>\n    <tr>\n      <th>1606</th>\n      <td>September Dawn</td>\n      <td>2006</td>\n      <td>In 1857 Capt. Alexander Fancher leads a wagon ...</td>\n      <td>16</td>\n      <td>49</td>\n      <td>With its jarring editing, dull love story, and...</td>\n      <td>55</td>\n      <td>5,000+</td>\n      <td>R</td>\n      <td>drama, history, western</td>\n      <td>...</td>\n      <td>Christopher Cain</td>\n      <td>Scott Duthie, Christopher Cain, Kevin Matossian</td>\n      <td>Christopher Cain, Carole Whang Schutter</td>\n      <td>2007-06-22</td>\n      <td>2008-01-01</td>\n      <td>1100000</td>\n      <td>110</td>\n      <td>Voice Pictures Inc., September Dawn LLC</td>\n      <td>Jon Voight, Trent Ford, Tamara Hope, Jon Gries...</td>\n      <td>http://www.rottentomatoes.com/m/september_dawn</td>\n    </tr>\n    <tr>\n      <th>1607</th>\n      <td>American Outlaws</td>\n      <td>2001</td>\n      <td>After the Civil War ends, Confederate soldiers...</td>\n      <td>14</td>\n      <td>68</td>\n      <td>With corny dialogue, revisionist history, anac...</td>\n      <td>103</td>\n      <td>25,000+</td>\n      <td>PG-13</td>\n      <td>western, action</td>\n      <td>...</td>\n      <td>Les Mayfield</td>\n      <td>James G. Robinson, Bill Gerber</td>\n      <td>John Rogers, Roderick Taylor</td>\n      <td>2001-08-17</td>\n      <td>2017-12-01</td>\n      <td>13300000</td>\n      <td>93</td>\n      <td>Morgan Creek Productions</td>\n      <td>Colin Farrell, Scott Caan, Ali Larter, Gabriel...</td>\n      <td>http://www.rottentomatoes.com/m/american_outlaws</td>\n    </tr>\n    <tr>\n      <th>1608</th>\n      <td>Jonah Hex</td>\n      <td>2010</td>\n      <td>Having cheated death, gunslinger and bounty hu...</td>\n      <td>12</td>\n      <td>20</td>\n      <td>Josh Brolin gives it his best shot, but he can...</td>\n      <td>152</td>\n      <td>100,000+</td>\n      <td>PG-13</td>\n      <td>mystery and thriller, fantasy, action, western...</td>\n      <td>...</td>\n      <td>Jimmy Hayward</td>\n      <td>Akiva Goldsman, Andrew Lazar</td>\n      <td>Mark Neveldine, Brian Taylor</td>\n      <td>2010-06-18</td>\n      <td>2012-03-30</td>\n      <td>10500000</td>\n      <td>81</td>\n      <td>Mad Chance, Weed Road Pictures</td>\n      <td>Josh Brolin, John Malkovich, Megan Fox, Michae...</td>\n      <td>http://www.rottentomatoes.com/m/jonah_hex</td>\n    </tr>\n    <tr>\n      <th>1609</th>\n      <td>Texas Rangers</td>\n      <td>2001</td>\n      <td>Texas, 1875. In a land without justice, where ...</td>\n      <td>2</td>\n      <td>29</td>\n      <td>As far as westerns go, Texas Rangers is strict...</td>\n      <td>51</td>\n      <td>5,000+</td>\n      <td>PG-13</td>\n      <td>western, adventure</td>\n      <td>...</td>\n      <td>Steve Miner</td>\n      <td>Alan Greisman, Frank Price</td>\n      <td>Scott Busby, Martin Copeland</td>\n      <td>2001-11-30</td>\n      <td>2016-10-08</td>\n      <td>623400</td>\n      <td>90</td>\n      <td>Greisman Productions, Price Entertainment, Lar...</td>\n      <td>James Van Der Beek, Dylan McDermott, Usher Ray...</td>\n      <td>http://www.rottentomatoes.com/m/1111103-texas_...</td>\n    </tr>\n  </tbody>\n</table>\n<p>977 rows × 21 columns</p>\n</div>"
     },
     "execution_count": 35,
     "metadata": {},
     "output_type": "execute_result"
    }
   ],
   "source": [
    "df2"
   ],
   "metadata": {
    "collapsed": false
   }
  },
  {
   "cell_type": "code",
   "execution_count": 36,
   "outputs": [],
   "source": [
    "df2.to_csv('rotten_tomatoes_top_movies_prep.csv', index=False)"
   ],
   "metadata": {
    "collapsed": false
   }
  },
  {
   "cell_type": "code",
   "execution_count": 36,
   "outputs": [],
   "source": [],
   "metadata": {
    "collapsed": false
   }
  }
 ],
 "metadata": {
  "kernelspec": {
   "display_name": "Python 3",
   "language": "python",
   "name": "python3"
  },
  "language_info": {
   "codemirror_mode": {
    "name": "ipython",
    "version": 2
   },
   "file_extension": ".py",
   "mimetype": "text/x-python",
   "name": "python",
   "nbconvert_exporter": "python",
   "pygments_lexer": "ipython2",
   "version": "2.7.6"
  }
 },
 "nbformat": 4,
 "nbformat_minor": 0
}
