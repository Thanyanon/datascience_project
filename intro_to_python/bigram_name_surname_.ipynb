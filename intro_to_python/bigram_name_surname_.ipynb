{
  "cells": [
    {
      "cell_type": "markdown",
      "metadata": {
        "id": "piK1OvWVLDvd"
      },
      "source": [
        "# Bigram of student name and surname"
      ]
    },
    {
      "cell_type": "code",
      "execution_count": 1,
      "metadata": {
        "id": "TM-4Q2lwLAaL"
      },
      "outputs": [],
      "source": [
        "## Library\n",
        "\n",
        "import pandas as pd\n",
        "import numpy as np\n",
        "import re\n",
        "import matplotlib.pyplot as plt"
      ]
    },
    {
      "cell_type": "code",
      "execution_count": 2,
      "metadata": {
        "colab": {
          "base_uri": "https://localhost:8080/"
        },
        "id": "hH7GdtB5MMkb",
        "outputId": "4bccec5f-5062-4e0a-a74d-471d1986c3fe"
      },
      "outputs": [
        {
          "output_type": "stream",
          "name": "stdout",
          "text": [
            "Mounted at /content/gdrive\n"
          ]
        }
      ],
      "source": [
        "## Connect to google drive\n",
        "\n",
        "from google.colab import drive\n",
        "\n",
        "drive.mount('/content/gdrive')"
      ]
    },
    {
      "cell_type": "code",
      "execution_count": 3,
      "metadata": {
        "colab": {
          "base_uri": "https://localhost:8080/"
        },
        "id": "7KbNnzRzMOAq",
        "outputId": "de22eeb4-06a6-4925-a8ea-3800526ddf68"
      },
      "outputs": [
        {
          "output_type": "stream",
          "name": "stdout",
          "text": [
            "        id        name            surname\n",
            "0    101.0    Amornrat          Rattanung\n",
            "1    102.0     analaya           Korsakul\n",
            "2    103.0        Anan          Ubolkomut\n",
            "3    104.0      Anawil  Tangvongsasiriwat\n",
            "4    105.0      Anuwat      Bannaraksakul\n",
            "..     ...         ...                ...\n",
            "125  226.0       เอมอร      สว่างจิตเมตตา\n",
            "126  227.0  Pornchanok      Sukatchasakul\n",
            "127  228.0       พีรศุ        วัฒนศิรางค์\n",
            "128  229.0       จตุพร          นาคเปี่ยม\n",
            "129  230.0     Kanokon              Janda\n",
            "\n",
            "[130 rows x 3 columns]\n"
          ]
        }
      ],
      "source": [
        "## Import week02_workshop.xlsx file\n",
        "\n",
        "df = pd.read_excel(\"/content/gdrive/MyDrive/DataSci/The_data_master/python/week02/week02_workshop.xlsx\")\n",
        "df.columns = ['id', 'name', 'surname']\n",
        "print(df)"
      ]
    },
    {
      "cell_type": "markdown",
      "metadata": {
        "id": "UBr3SiPENo95"
      },
      "source": [
        "## Most apeared thai and english letter in name and surname"
      ]
    },
    {
      "cell_type": "code",
      "execution_count": 4,
      "metadata": {
        "colab": {
          "base_uri": "https://localhost:8080/"
        },
        "id": "fACogv-jV9z-",
        "outputId": "0344decc-f328-40ac-ec3c-596fce9a7cea"
      },
      "outputs": [
        {
          "output_type": "stream",
          "name": "stdout",
          "text": [
            "        id        name            surname\n",
            "0    101.0    Amornrat          Rattanung\n",
            "1    102.0     Analaya           Korsakul\n",
            "2    103.0        Anan          Ubolkomut\n",
            "3    104.0      Anawil  Tangvongsasiriwat\n",
            "4    105.0      Anuwat      Bannaraksakul\n",
            "..     ...         ...                ...\n",
            "125  226.0       เอมอร      สว่างจิตเมตตา\n",
            "126  227.0  Pornchanok      Sukatchasakul\n",
            "127  228.0       พีรศุ        วัฒนศิรางค์\n",
            "128  229.0       จตุพร          นาคเปี่ยม\n",
            "129  230.0     Kanokon              Janda\n",
            "\n",
            "[130 rows x 3 columns]\n"
          ]
        }
      ],
      "source": [
        "# Prep data\n",
        "## make sure name and surname are capitalized\n",
        "\n",
        "df['name'] = df['name'].str.capitalize()\n",
        "df['surname'] = df['surname'].str.capitalize()\n",
        "\n",
        "print(df)"
      ]
    },
    {
      "cell_type": "code",
      "execution_count": 5,
      "metadata": {
        "colab": {
          "base_uri": "https://localhost:8080/"
        },
        "id": "aLo4tp9se3tT",
        "outputId": "b9d35230-5a4e-4d7d-c3fe-1a58fe4ec1f5"
      },
      "outputs": [
        {
          "output_type": "stream",
          "name": "stdout",
          "text": [
            "True\n",
            "False\n"
          ]
        }
      ],
      "source": [
        "# Detect Th and Eng language by using isascii attribute\n",
        "\n",
        "name1 = 'Amornrat'\n",
        "name2 = 'เอมอร'\n",
        "\n",
        "print(name1.isascii())\n",
        "print(name2.isascii())"
      ]
    },
    {
      "cell_type": "code",
      "execution_count": 6,
      "metadata": {
        "colab": {
          "base_uri": "https://localhost:8080/"
        },
        "id": "j_6fvUrIrwCl",
        "outputId": "f231505e-fab3-47d5-f7d4-14ca1ec59af1"
      },
      "outputs": [
        {
          "output_type": "stream",
          "name": "stdout",
          "text": [
            "        id        name            surname  is_eng\n",
            "0    101.0    Amornrat          Rattanung    True\n",
            "1    102.0     Analaya           Korsakul    True\n",
            "2    103.0        Anan          Ubolkomut    True\n",
            "3    104.0      Anawil  Tangvongsasiriwat    True\n",
            "4    105.0      Anuwat      Bannaraksakul    True\n",
            "..     ...         ...                ...     ...\n",
            "125  226.0       เอมอร      สว่างจิตเมตตา   False\n",
            "126  227.0  Pornchanok      Sukatchasakul    True\n",
            "127  228.0       พีรศุ        วัฒนศิรางค์   False\n",
            "128  229.0       จตุพร          นาคเปี่ยม   False\n",
            "129  230.0     Kanokon              Janda    True\n",
            "\n",
            "[130 rows x 4 columns]\n"
          ]
        }
      ],
      "source": [
        "# Create a new column of language list\n",
        "\n",
        "list_lang = [df[['name']].iloc[i][0].isascii() for i in range(len(df[['name']]))]\n",
        "df['is_eng'] = list_lang\n",
        "\n",
        "print(df)"
      ]
    },
    {
      "cell_type": "code",
      "execution_count": 7,
      "metadata": {
        "colab": {
          "base_uri": "https://localhost:8080/"
        },
        "id": "taOt7p_ltE1f",
        "outputId": "520ef7af-be8e-4f68-82f3-a6a2ec0a1273"
      },
      "outputs": [
        {
          "output_type": "stream",
          "name": "stdout",
          "text": [
            "       id        name            surname  is_eng\n",
            "0   101.0    Amornrat          Rattanung    True\n",
            "1   102.0     Analaya           Korsakul    True\n",
            "2   103.0        Anan          Ubolkomut    True\n",
            "3   104.0      Anawil  Tangvongsasiriwat    True\n",
            "4   105.0      Anuwat      Bannaraksakul    True\n",
            "..    ...         ...                ...     ...\n",
            "63  164.0   Tummaprut       Sangpraserth    True\n",
            "64  165.0     Voratat           Piromsuk    True\n",
            "65  166.0     Yuttana           Kaewklam    True\n",
            "66  227.0  Pornchanok      Sukatchasakul    True\n",
            "67  230.0     Kanokon              Janda    True\n",
            "\n",
            "[68 rows x 4 columns]\n",
            "       id         name        surname  is_eng\n",
            "0   167.0       กฤตภาส         ปิงฟอง   False\n",
            "1   168.0         ภเสฐ    โสภาถาวรกิจ   False\n",
            "2   169.0     กัญญาณัฐ      เครือจำปา   False\n",
            "3   170.0  กิตติศักดิ์    เรืองกระโทก   False\n",
            "4   171.0        กีรติ          เตปิน   False\n",
            "..    ...          ...            ...     ...\n",
            "57  224.0      อุกฤษฎ์       รัตนโชติ   False\n",
            "58  225.0        อุเทน    เทียนประทีป   False\n",
            "59  226.0        เอมอร  สว่างจิตเมตตา   False\n",
            "60  228.0        พีรศุ    วัฒนศิรางค์   False\n",
            "61  229.0        จตุพร      นาคเปี่ยม   False\n",
            "\n",
            "[62 rows x 4 columns]\n"
          ]
        }
      ],
      "source": [
        "# find most appeared thai and english letter in name\n",
        "\n",
        "## filter english and thai name and create a dataframe\n",
        "df_en = df.query('is_eng == True').reset_index(drop = True)\n",
        "df_th = df.query('is_eng != True').reset_index(drop = True)\n",
        "\n",
        "print(df_en)\n",
        "print(df_th)"
      ]
    },
    {
      "cell_type": "code",
      "source": [
        "# Create count letter function\n",
        "\n",
        "def countLetter(df, column_name) :\n",
        "    try:\n",
        "        text = df[column_name].str.lower() # convert to lower letter\n",
        "        text_all = ''.join(text) # join all string together\n",
        "        letter_count = {letter : text_all.count(letter) for letter in set(text_all)} # storing distinct set of letter as a key then count the result as value in dictionary\n",
        "        return letter_count\n",
        "    except KeyError:\n",
        "        print(f'{column_name} not found in dataframe')"
      ],
      "metadata": {
        "id": "KTC2qlNlo_Dt"
      },
      "execution_count": 8,
      "outputs": []
    },
    {
      "cell_type": "code",
      "source": [
        "# Count english and thai letter in name\n",
        "\n",
        "en_letter = countLetter(df_en,'name')\n",
        "th_letter = countLetter(df_th,'name')\n",
        "\n",
        "print(en_letter)\n",
        "print(th_letter)"
      ],
      "metadata": {
        "colab": {
          "base_uri": "https://localhost:8080/"
        },
        "id": "8ZPqRyt2pMef",
        "outputId": "24bbb189-237f-44ac-c31a-43ea682436ba"
      },
      "execution_count": 9,
      "outputs": [
        {
          "output_type": "stream",
          "name": "stdout",
          "text": [
            "{'p': 29, 'c': 14, 't': 64, 'n': 52, 'g': 1, 'l': 5, 'k': 26, 'u': 21, 'a': 113, 'b': 2, 'v': 1, 'o': 24, 's': 18, 'j': 2, 'w': 14, 'r': 24, 'd': 4, 'y': 10, 'h': 29, 'm': 11, 'e': 12, 'i': 31}\n",
            "{'น': 23, 'อ': 7, 'ญ': 10, 'ผ': 1, 'ป': 4, 'ฒ': 2, 'พ': 15, 'ฐ': 4, 'ต': 19, 'ม': 7, 'ย': 6, 'ส': 14, 'ั': 25, 'ณ': 8, 'ภ': 14, 'ิ': 39, 'ธ': 11, 'ว': 9, 'ฤ': 3, 'ฉ': 2, 'ล': 3, 'ษ': 3, 'ะ': 3, 'โ': 2, 'ู': 1, '่': 2, 'ฏ': 1, 'ท': 9, 'ร': 37, 'ด': 7, 'ฎ': 1, 'ง': 5, 'จ': 1, 'า': 24, 'ค': 7, 'ี': 4, 'บ': 1, 'ศ': 13, 'ก': 13, 'ช': 17, 'เ': 7, 'ุ': 10, '์': 23}\n"
          ]
        }
      ]
    },
    {
      "cell_type": "code",
      "source": [
        "# create the dataframe\n",
        "\n",
        "enLetter_df = pd.DataFrame(list(en_letter.items()), columns = ['Letter', 'Count'])\n",
        "enLetter_df = enLetter_df.sort_values(by='Count', ascending=False).reset_index(drop = True)\n",
        "thLetter_df = pd.DataFrame(list(th_letter.items()), columns = ['Letter', 'Count'])\n",
        "thLetter_df = thLetter_df.sort_values(by='Count', ascending=False).reset_index(drop = True)"
      ],
      "metadata": {
        "id": "l2YuB-j4sas2"
      },
      "execution_count": 57,
      "outputs": []
    },
    {
      "cell_type": "code",
      "source": [
        "# plot total English letter in name\n",
        "\n",
        "letter = enLetter_df['Letter']\n",
        "count = enLetter_df['Count']\n",
        "\n",
        "fig = plt.figure(figsize = (20, 10))\n",
        "\n",
        "plt.title('Total english letter in name')\n",
        "plt.bar(letter, count, color = 'salmon')\n",
        "plt.xlabel('english letter in name')\n",
        "plt.ylabel('quantity of letter')\n",
        "\n",
        "plt.show()"
      ],
      "metadata": {
        "colab": {
          "base_uri": "https://localhost:8080/",
          "height": 620
        },
        "id": "Jn1RENmg2qi8",
        "outputId": "3d49972a-e56d-4b51-ee1d-4fc194067482"
      },
      "execution_count": 58,
      "outputs": [
        {
          "output_type": "display_data",
          "data": {
            "text/plain": [
              "<Figure size 1440x720 with 1 Axes>"
            ],
            "image/png": "[encoded data removed]"
          },
          "metadata": {
            "needs_background": "light"
          }
        }
      ]
    },
    {
      "cell_type": "code",
      "source": [
        "# Install thsarabunnew-webfont\n",
        "\n",
        "import matplotlib.font_manager as fm\n",
        "\n",
        "!wget https://github.com/Phonbopit/sarabun-webfont/raw/master/fonts/thsarabunnew-webfont.ttf\n",
        "fm.fontManager.ttflist += fm.createFontList(['thsarabunnew-webfont.ttf'])\n",
        "plt.rc('font', family='TH Sarabun New')"
      ],
      "metadata": {
        "colab": {
          "base_uri": "https://localhost:8080/"
        },
        "id": "ja2I8uXLE__w",
        "outputId": "9ea67884-a04a-4cd2-f6d9-eccddde45c1b"
      },
      "execution_count": 12,
      "outputs": [
        {
          "output_type": "stream",
          "name": "stdout",
          "text": [
            "--2023-01-23 13:35:32--  https://github.com/Phonbopit/sarabun-webfont/raw/master/fonts/thsarabunnew-webfont.ttf\n",
            "Resolving github.com (github.com)... 140.82.112.3\n",
            "Connecting to github.com (github.com)|140.82.112.3|:443... connected.\n",
            "HTTP request sent, awaiting response... 302 Found\n",
            "Location: https://raw.githubusercontent.com/Phonbopit/sarabun-webfont/master/fonts/thsarabunnew-webfont.ttf [following]\n",
            "--2023-01-23 13:35:32--  https://raw.githubusercontent.com/Phonbopit/sarabun-webfont/master/fonts/thsarabunnew-webfont.ttf\n",
            "Resolving raw.githubusercontent.com (raw.githubusercontent.com)... 185.199.111.133, 185.199.109.133, 185.199.108.133, ...\n",
            "Connecting to raw.githubusercontent.com (raw.githubusercontent.com)|185.199.111.133|:443... connected.\n",
            "HTTP request sent, awaiting response... 200 OK\n",
            "Length: 98308 (96K) [application/octet-stream]\n",
            "Saving to: ‘thsarabunnew-webfont.ttf’\n",
            "\n",
            "thsarabunnew-webfon 100%[===================>]  96.00K  --.-KB/s    in 0.01s   \n",
            "\n",
            "2023-01-23 13:35:32 (9.74 MB/s) - ‘thsarabunnew-webfont.ttf’ saved [98308/98308]\n",
            "\n"
          ]
        },
        {
          "output_type": "stream",
          "name": "stderr",
          "text": [
            "<ipython-input-12-2fd18264ae67>:6: MatplotlibDeprecationWarning: \n",
            "The createFontList function was deprecated in Matplotlib 3.2 and will be removed two minor releases later. Use FontManager.addfont instead.\n",
            "  fm.fontManager.ttflist += fm.createFontList(['thsarabunnew-webfont.ttf'])\n"
          ]
        }
      ]
    },
    {
      "cell_type": "code",
      "source": [
        "# plot total Thai letter in name\n",
        "\n",
        "letter = thLetter_df['Letter']\n",
        "count = thLetter_df['Count']\n",
        "\n",
        "fig = plt.figure(figsize = (20, 10))\n",
        "\n",
        "plt.title('Total thai letter in name')\n",
        "plt.bar(letter, count, color = 'cadetblue')\n",
        "plt.xlabel('thai letter in name')\n",
        "plt.ylabel('quantity of letter')\n",
        "plt.show()"
      ],
      "metadata": {
        "colab": {
          "base_uri": "https://localhost:8080/",
          "height": 621
        },
        "id": "EfXAiO9_Ev93",
        "outputId": "1a610bbf-0646-46fd-f72f-0fcfd1100dcc"
      },
      "execution_count": 60,
      "outputs": [
        {
          "output_type": "display_data",
          "data": {
            "text/plain": [
              "<Figure size 1440x720 with 1 Axes>"
            ],
            "image/png": "[encoded data removed]"
          },
          "metadata": {
            "needs_background": "light"
          }
        }
      ]
    },
    {
      "cell_type": "code",
      "source": [
        "# create bigram function\n",
        "\n",
        "def bigram(text) :\n",
        "    bigram = []\n",
        "    for i in range(len(text) - 1) :\n",
        "        bigram.append(text[i] + text[i + 1]) # create bigram value\n",
        "        dict_bigram = dict.fromkeys(bigram) # using bigram as key to create dict to avoid duplicated value\n",
        "    for n in dict_bigram :\n",
        "        dict_bigram[n] = bigram.count(n) # count bigram\n",
        "    return(dict_bigram)"
      ],
      "metadata": {
        "id": "rEpcgo5b0g6L"
      },
      "execution_count": 14,
      "outputs": []
    },
    {
      "cell_type": "code",
      "source": [
        "# bigram english name and surname\n",
        "\n",
        "name_en = ''.join(df_en['name'].str.lower())\n",
        "surname_en = ''.join(df_en['surname'].str.lower())\n",
        "\n",
        "bigram_name_en = bigram(name_en)\n",
        "bigram_surname_en = bigram(surname_en)\n",
        "\n",
        "print(bigram_name_en)\n",
        "print(bigram_surname_en)"
      ],
      "metadata": {
        "colab": {
          "base_uri": "https://localhost:8080/"
        },
        "id": "ecmSSsgJ06Wl",
        "outputId": "29af3db2-01c8-4b48-e316-b0dafcb5a2eb"
      },
      "execution_count": 15,
      "outputs": [
        {
          "output_type": "stream",
          "name": "stdout",
          "text": [
            "{'am': 5, 'mo': 2, 'or': 7, 'rn': 7, 'nr': 2, 'ra': 7, 'at': 26, 'ta': 10, 'an': 28, 'na': 13, 'al': 3, 'la': 3, 'ay': 5, 'ya': 9, 'aa': 1, 'aw': 8, 'wi': 1, 'il': 1, 'nu': 4, 'uw': 3, 'wa': 12, 'ar': 7, 'rt': 1, 'tc': 7, 'ch': 14, 'ha': 20, 'ab': 1, 'bh': 1, 'hu': 3, 'ur': 2, 'ri': 7, 'ib': 1, 'bo': 1, 'oo': 2, 'on': 5, 'nk': 2, 'ke': 2, 'ea': 1, 'ak': 11, 'ka': 13, 'nc': 4, 'tp': 7, 'po': 7, 'ol': 1, 'lc': 1, 'ko': 2, 'th': 9, 'ho': 2, 'ot': 1, 'ti': 8, 'it': 13, 'to': 1, 'ou': 1, 'uc': 1, 'hk': 1, 'ae': 1, 'em': 2, 'mm': 2, 'ma': 3, 'tk': 3, 'mi': 1, 'in': 2, 'np': 3, 'oj': 1, 'jk': 1, 'nt': 5, 'ik': 3, 'as': 5, 'sa': 7, 'tt': 9, 'iy': 2, 'en': 1, 'ni': 5, 'kk': 2, 'kh': 2, 'kr': 3, 'is': 1, 'sk': 1, 'ny': 2, 'ts': 3, 'ad': 2, 'da': 4, 'li': 1, 'me': 2, 'et': 3, 'te': 1, 'ee': 3, 'ap': 8, 'ph': 2, 'hi': 2, 'id': 2, 'wu': 1, 'ut': 5, 'tn': 2, 'un': 5, 'nn': 1, 'ip': 3, 'ng': 1, 'gn': 1, 'no': 4, 'op': 2, 'pp': 1, 'pa': 9, 'ru': 2, 'uj': 1, 'jp': 1, 'ne': 2, 'ep': 1, 'su': 6, 'up': 3, 'pe': 1, 'hs': 1, 'sr': 1, 'si': 2, 'pi': 4, 'ic': 1, 'pu': 2, 'tr': 1, 'om': 1, 'ms': 1, 'ah': 1, 'ps': 1, 'ks': 2, 'so': 1, 'ns': 3, 'ao': 1, 'ow': 1, 'es': 1, 'iw': 2, 'pt': 1, 'tu': 1, 'um': 1, 'pr': 1, 'tv': 1, 'vo': 1, 'ty': 1, 'yu': 1, 'ok': 2}\n",
            "{'ra': 11, 'at': 10, 'tt': 10, 'ta': 8, 'an': 22, 'nu': 3, 'un': 8, 'ng': 21, 'gk': 2, 'ko': 6, 'or': 5, 'rs': 1, 'sa': 13, 'ak': 17, 'ku': 9, 'ul': 8, 'lu': 1, 'ub': 3, 'bo': 5, 'ol': 3, 'lk': 2, 'om': 5, 'mu': 1, 'ut': 3, 'gv': 1, 'vo': 1, 'on': 18, 'gs': 6, 'as': 10, 'si': 5, 'ir': 11, 'ri': 11, 'iw': 3, 'wa': 8, 'tb': 3, 'ba': 1, 'nn': 2, 'na': 7, 'ar': 9, 'ks': 3, 'lh': 1, 'ha': 22, 'ss': 1, 'am': 7, 'me': 1, 'et': 8, 'to': 2, 'ot': 4, 'th': 13, 'ns': 8, 'su': 10, 'uw': 2, 'wo': 3, 'no': 3, 'nt': 4, 'tp': 3, 'ph': 6, 'hr': 1, 'ro': 8, 'mp': 2, 'ho': 8, 'oc': 5, 'ch': 19, 'hu': 3, 'ue': 2, 'en': 8, 'nb': 1, 'oo': 3, 'nc': 1, 'pa': 10, 'np': 3, 'gy': 1, 'ye': 1, 'ae': 4, 'tu': 2, 'gt': 3, 'hi': 4, 'ia': 1, 'nj': 3, 'ja': 4, 'oe': 3, 'up': 2, 'al': 4, 'la': 5, 'tj': 2, 'ji': 2, 'av': 2, 'va': 3, 'st': 2, 'ti': 6, 'it': 11, 'tk': 2, 'gg': 2, 'ga': 1, 'aw': 4, 'ai': 6, 'id': 1, 'di': 2, 'kd': 2, 'de': 4, 'ee': 4, 'ek': 1, 'nl': 1, 'li': 1, 'ik': 3, 'ki': 2, 'ty': 2, 'yi': 1, 'in': 3, 'gw': 1, 'kt': 2, 'is': 5, 'so': 4, 'mb': 1, 'nk': 2, 'us': 2, 'um': 1, 'ma': 3, 'le': 1, 'ec': 3, 'rr': 1, 'ac': 2, 'he': 3, 'td': 2, 'ru': 5, 'gr': 1, 'bu': 2, 'bp': 1, 'ap': 5, 'hk': 1, 'ip': 3, 'pr': 3, 'rn': 3, 'nw': 2, 'wu': 1, 'ih': 1, 'mr': 2, 'sr': 3, 'tv': 1, 'vi': 1, 'ic': 2, 'iy': 3, 'ya': 3, 'ur': 2, 'uk': 4, 'kk': 3, 'lj': 2, 'ke': 1, 'ju': 2, 'lo': 1, 'ob': 1, 'lc': 1, 'nd': 3, 'dh': 1, 'aj': 2, 'gu': 1, 'ln': 1, 'bt': 1, 'te': 1, 'es': 1, 'gp': 3, 'pi': 4, 'ts': 2, 'jc': 1, 'ok': 1, 'kw': 1, 'wi': 1, 'ad': 3, 'uv': 1, 'se': 5, 'nm': 1, 'ka': 7, 'yo': 2, 'os': 1, 'ay': 1, 'po': 1, 'pp': 1, 'em': 1, 'mh': 1, 'kh': 2, 'ms': 3, 'ug': 1, 'sp': 1, 'mo': 1, 'lt': 1, 'mi': 1, 'kc': 1, 'uc': 1, 'gc': 1, 'du': 1, 'ua': 1, 'da': 2, 'ao': 1, 'er': 2, 'gb': 1, 'ew': 2, 'wm': 1, 'hs': 1, 'dk': 1, 'rt': 1, 'hp': 1, 'wk': 1, 'kl': 1, 'tc': 1}\n"
          ]
        }
      ]
    },
    {
      "cell_type": "code",
      "source": [
        "# create dataframe\n",
        "\n",
        "biEn_name_df = pd.DataFrame(list(bigram_name_en.items()), columns = ['Bigram', 'Count'])\n",
        "biEn_name_df = biEn_name_df.sort_values(by='Count', ascending=False).reset_index(drop = True)\n",
        "biEn_surname_df = pd.DataFrame(list(bigram_surname_en.items()), columns = ['Bigram', 'Count'])\n",
        "biEn_surname_df = biEn_surname_df.sort_values(by='Count', ascending=False).reset_index(drop = True)"
      ],
      "metadata": {
        "id": "DvjzUcrMbyn9"
      },
      "execution_count": 68,
      "outputs": []
    },
    {
      "cell_type": "code",
      "source": [
        "# plot bigram english name\n",
        "\n",
        "bigram = biEn_name_df['Bigram'][:20]\n",
        "count = biEn_name_df['Count'][:20]\n",
        "\n",
        "fig = plt.figure(figsize = (20, 10))\n",
        "\n",
        "plt.title('Top 20 Bigram letter in english name')\n",
        "plt.bar(bigram, count, color = 'salmon')\n",
        "plt.xlabel('Bigram')\n",
        "plt.ylabel('Bigram quantity')\n",
        "plt.show()"
      ],
      "metadata": {
        "colab": {
          "base_uri": "https://localhost:8080/",
          "height": 620
        },
        "id": "eILoESFB0_BY",
        "outputId": "08a8ff0f-c593-4ded-ea2b-da5efd2bf9ac"
      },
      "execution_count": 67,
      "outputs": [
        {
          "output_type": "display_data",
          "data": {
            "text/plain": [
              "<Figure size 1440x720 with 1 Axes>"
            ],
            "image/png": "[encoded data removed]"
          },
          "metadata": {
            "needs_background": "light"
          }
        }
      ]
    },
    {
      "cell_type": "code",
      "source": [
        "# plot bigram english surname\n",
        "\n",
        "bigram = biEn_surname_df['Bigram'][:20]\n",
        "count = biEn_surname_df['Count'][:20]\n",
        "\n",
        "fig = plt.figure(figsize = (20, 10))\n",
        "\n",
        "plt.title('Top 20 Bigram letter in english surname')\n",
        "plt.bar(bigram, count, color = 'salmon')\n",
        "plt.xlabel('Bigram')\n",
        "plt.ylabel('Bigram quantity')\n",
        "plt.show()"
      ],
      "metadata": {
        "colab": {
          "base_uri": "https://localhost:8080/",
          "height": 620
        },
        "id": "rYaFdOtHe7uO",
        "outputId": "e5d5fbbf-0a85-4e1c-a5bf-f140e1bab53b"
      },
      "execution_count": 69,
      "outputs": [
        {
          "output_type": "display_data",
          "data": {
            "text/plain": [
              "<Figure size 1440x720 with 1 Axes>"
            ],
            "image/png": "[encoded data removed]"
          },
          "metadata": {
            "needs_background": "light"
          }
        }
      ]
    },
    {
      "cell_type": "code",
      "source": [
        "# bigram thai name and surname\n",
        "\n",
        "name_th = ''.join(df_th['name'].str.lower())\n",
        "surname_th = ''.join(df_th['surname'].str.lower())\n",
        "\n",
        "bigram_name_th = bigram(name_th)\n",
        "bigram_surname_th = bigram(surname_th)\n",
        "\n",
        "print(bigram_name_th)\n",
        "print(bigram_surname_th)"
      ],
      "metadata": {
        "colab": {
          "base_uri": "https://localhost:8080/"
        },
        "id": "91h3fwOj09qz",
        "outputId": "150a6363-fc3a-4ff4-d186-676c83095f9c"
      },
      "execution_count": 17,
      "outputs": [
        {
          "output_type": "stream",
          "name": "stdout",
          "text": [
            "{'กฤ': 3, 'ฤต': 2, 'ตภ': 2, 'ภา': 3, 'าส': 3, 'สภ': 1, 'ภเ': 1, 'เส': 1, 'สฐ': 1, 'ฐก': 2, 'กั': 1, 'ัญ': 4, 'ญญ': 2, 'ญา': 3, 'าณ': 2, 'ณั': 4, 'ัฐ': 2, 'กิ': 1, 'ิต': 3, 'ตต': 1, 'ติ': 8, 'ิศ': 3, 'ศั': 3, 'ัก': 4, 'กด': 3, 'ดิ': 3, 'ิ์': 5, '์ก': 1, 'กี': 1, 'ีร': 3, 'รต': 2, 'ิค': 1, 'คม': 2, 'มศ': 1, '์ฉ': 1, 'ฉั': 2, 'ัต': 5, 'ตร': 2, 'รพ': 5, 'พร': 2, 'รช': 2, 'ชว': 1, 'วน': 1, 'นา': 1, 'าก': 1, 'กร': 1, 'ชา': 5, 'าค': 1, 'คร': 2, 'ริ': 5, 'ตช': 1, 'าญ': 3, 'ญณ': 1, 'ณร': 1, 'รง': 1, 'งค': 2, 'ค์': 3, '์ช': 1, 'ญย': 1, 'ยุ': 1, 'ุท': 1, 'ทธ': 4, 'ธช': 1, 'าต': 1, 'ิร': 4, 'รั': 7, 'กษ': 1, 'ษ์': 2, '์โ': 1, 'โช': 2, 'ชต': 2, 'รส': 1, 'สณ': 1, 'ฐพ': 1, 'พล': 1, 'ลต': 1, 'ิณ': 1, 'ณณ': 1, 'ณภ': 1, 'ภพ': 1, 'พท': 1, 'ทิ': 2, 'ิพ': 4, 'พย': 1, 'ย์': 3, '์ว': 3, 'วิ': 2, 'ิม': 2, 'มล': 1, 'ลธ': 1, 'ธน': 3, 'นฉ': 1, 'รธ': 1, 'นเ': 2, 'เด': 2, 'ดช': 2, 'ชธ': 1, 'นิ': 2, 'ิน': 1, 'นธ': 2, 'ธั': 2, 'ญช': 1, 'ชน': 2, 'นก': 1, 'กธ': 1, 'ญม': 1, 'มน': 1, 'ธิ': 4, 'ิด': 1, 'ดา': 1, 'าร': 2, 'ตน': 2, 'น์': 5, '์น': 2, 'นภ': 2, 'ภด': 1, 'ดล': 1, 'ลน': 1, 'ภส': 1, 'สร': 3, 'รน': 1, 'นั': 1, 'ัน': 2, 'นท': 1, 'พั': 3, 'ัฒ': 2, 'ฒน': 2, 'ตย': 1, 'ยา': 2, 'าป': 1, 'ปณ': 1, 'ณิ': 1, 'ิธ': 1, 'ธา': 1, 'าน': 3, 'นป': 1, 'ปร': 3, 'ัช': 3, 'ชญ': 1, 'าว': 3, 'ิท': 4, 'ทย': 1, '์ป': 1, 'รี': 1, 'ีย': 1, 'นุ': 1, 'ุช': 2, 'ชเ': 1, 'เผ': 1, 'ผ่': 1, '่า': 1, 'าพ': 2, '์พ': 1, 'พิ': 3, 'ิช': 1, 'ชช': 1, 'าภ': 1, 'ิภ': 1, 'ภั': 1, 'ัท': 1, 'ทร': 1, 'ิส': 4, 'สา': 1, 'พี': 2, 'รก': 1, 'กา': 1, 'นต': 1, 'ต์': 1, '์ภ': 1, 'ภค': 1, 'มา': 2, 'าศ': 1, 'ศภ': 1, 'ภร': 1, 'ภู': 1, 'ูเ': 1, 'เบ': 1, 'บศ': 1, 'ศน': 1, '์ร': 2, 'ัง': 1, 'งส': 1, 'รร': 1, 'รค': 1, 'รุ': 1, 'ุ่': 1, '่ง': 1, 'งร': 1, 'วร': 3, 'รป': 1, 'ระ': 1, 'ะภ': 1, 'ศว': 1, 'ศร': 2, 'รา': 2, 'วส': 1, 'สุ': 2, 'นม': 1, 'ม์': 1, 'วั': 1, 'ชร': 2, 'พง': 2, 'งษ': 1, '์ศ': 5, 'นย': 1, 'ศศ': 1, 'ศิ': 2, 'ร์': 1, '์ส': 1, 'สิ': 4, 'ศุ': 2, 'ุภ': 2, 'ภก': 1, 'สะ': 1, 'ะค': 1, 'ญส': 1, 'ิว': 1, 'วะ': 1, 'ะโ': 1, 'ภณ': 1, 'ัฏ': 1, 'ฏฐ': 1, 'ฐ์': 1, '์อ': 3, 'อภ': 1, 'ภิ': 1, 'อา': 1, 'ิอ': 1, 'อิ': 1, 'ิเ': 1, 'ชอ': 1, 'อุ': 2, 'ุก': 1, 'ฤษ': 1, 'ษฎ': 1, 'ฎ์': 1, 'ุเ': 1, 'เท': 1, 'ทน': 1, 'เอ': 1, 'อม': 1, 'มอ': 1, 'อร': 1, 'รศ': 1, 'ุจ': 1, 'จต': 1, 'ตุ': 1, 'ุพ': 1}\n",
            "{'ปิ': 3, 'ิง': 2, 'งฟ': 1, 'ฟอ': 1, 'อง': 5, 'งโ': 1, 'โส': 2, 'สภ': 2, 'ภา': 2, 'าถ': 1, 'ถา': 2, 'าว': 6, 'วร': 8, 'รก': 1, 'กิ': 1, 'ิจ': 2, 'จเ': 1, 'เค': 1, 'คร': 1, 'รื': 2, 'ือ': 2, 'อจ': 1, 'จำ': 1, 'ำป': 1, 'ปา': 3, 'าเ': 1, 'เร': 1, 'งก': 2, 'กร': 4, 'ระ': 6, 'ะโ': 1, 'โท': 1, 'ทก': 1, 'กเ': 1, 'เต': 1, 'ตป': 1, 'ิน': 2, 'นส': 1, 'สว': 4, 'ว่': 2, '่า': 2, 'าง': 3, 'งไ': 1, 'ไส': 1, 'วน': 2, 'นา': 4, 'าน': 7, 'นค': 1, 'คง': 3, 'งแ': 2, 'แน': 1, 'นบ': 1, 'บส': 1, 'สร': 1, 'ะท': 2, 'ทอ': 3, 'งเ': 1, 'เอ': 2, 'อก': 2, 'กว': 1, 'รร': 3, 'รธ': 1, 'ธน': 1, 'นะ': 2, 'ะธ': 1, 'ธั': 1, 'ัญ': 1, 'ญญ': 1, 'ญา': 1, 'าพ': 3, 'พล': 1, 'ลศ': 2, 'ศิ': 6, 'ิล': 1, 'ลา': 1, 'าท': 1, 'งท': 1, 'ทั': 1, 'ั่': 2, '่ว': 2, 'วต': 1, 'ตั': 1, 'ั้': 1, '้ง': 1, 'งป': 1, 'ปก': 1, 'กา': 3, 'าศ': 2, 'ิต': 5, 'ตค': 1, 'งส': 2, 'สุ': 6, 'ุข': 4, 'ขก': 2, 'าร': 3, 'รี': 4, 'ีม': 1, 'มี': 1, 'ีื': 1, 'ืท': 1, 'งม': 2, 'มา': 2, 'าก': 2, 'กจ': 1, 'จา': 1, 'รุ': 1, 'ุเ': 1, 'เท': 2, 'ทว': 2, 'วา': 2, 'พิ': 1, 'ิพ': 3, 'พั': 3, 'ัฒ': 5, 'ฒน': 5, 'น์': 2, '์น': 3, 'นิ': 2, 'ิย': 2, 'ยม': 2, 'มศ': 2, 'ศร': 3, 'ีส': 2, 'สก': 1, 'กุ': 1, 'ุล': 1, 'ีด': 1, 'ดา': 1, 'นุ': 2, 'ุช': 1, 'ชต': 2, 'ตร': 2, 'รา': 4, 'าบ': 1, 'บช': 1, 'ชั': 1, 'วก': 1, 'กั': 1, 'ัล': 1, 'ลป': 1, 'ว์': 1, '์ล': 1, 'ลั': 1, 'ัก': 1, 'กษ': 2, 'ษณ': 1, 'ณะ': 2, 'ะน': 1, 'ุว': 1, 'วง': 4, 'งศ': 2, 'ศ์': 2, '์ศ': 2, 'ิร': 4, 'ริ': 2, 'ิก': 1, 'าญ': 1, 'ญจ': 2, 'จน': 1, 'นก': 2, 'กู': 2, 'ูล': 3, 'ลพ': 1, 'พน': 1, 'นม': 1, 'มโ': 1, 'ภณ': 1, 'ณส': 2, 'นแ': 1, 'แก': 3, 'ก้': 3, '้ว': 3, 'วล': 1, 'ลล': 1, 'ลิ': 2, 'ตศ': 1, 'ศศ': 1, 'ิว': 3, 'วิ': 3, 'ิม': 2, 'มล': 1, 'ลจ': 1, 'จิ': 3, 'รณ': 4, 'สถ': 2, 'ถิ': 1, 'ตย': 1, 'ย์': 1, '์ค': 1, 'วส': 1, 'ะส': 3, 'สา': 1, 'นต': 1, 'ติ': 3, 'พร': 3, 'รห': 1, 'หม': 1, 'มณ': 1, 'ณี': 1, 'ีเ': 1, 'เช': 1, 'ชื': 1, 'ื้': 1, '้อ': 2, 'อส': 1, 'ขเ': 1, 'เพ': 1, 'พ็': 1, '็ญ': 1, 'ญส': 1, 'ุภ': 1, 'รม': 1, 'มิ': 1, 'ิ่': 1, '่ง': 1, 'ศว': 1, 'รป': 1, 'าณ': 1, 'ณิ': 1, 'รว': 1, 'ณว': 1, '์ว': 4, 'ิส': 1, 'สิ': 5, 'ิท': 3, 'ทธ': 4, 'ธิ': 4, 'ิ์': 2, 'งษ': 3, 'ษ์': 2, '์ป': 2, 'ปุ': 1, 'ุณ': 2, 'ณโ': 1, 'โณ': 1, 'ณป': 1, 'ปถ': 1, 'ถั': 1, 'ัม': 1, 'มภ': 1, 'ภ์': 1, '์ห': 1, 'หอ': 1, 'อม': 2, 'มด': 1, 'ดอ': 1, 'รั': 3, 'ัง': 2, 'ิโ': 1, 'โย': 1, 'ยด': 1, 'ดี': 1, 'ีว': 1, 'วั': 4, 'นน': 2, 'นท': 4, 'ท์': 3, '์ฐ': 1, 'ฐา': 1, 'าค': 2, 'คว': 1, 'ัช': 1, 'ชร': 1, 'ะเ': 2, 'อน': 1, 'กบ': 1, 'บุ': 2, 'ุญ': 1, 'ญท': 1, 'วี': 1, 'ีโ': 2, 'โช': 2, 'ชค': 1, 'คส': 1, 'รบ': 1, 'ณย': 1, 'ยส': 1, 'ขา': 1, '์แ': 1, 'วโ': 1, 'โอ': 2, 'อว': 1, '์เ': 1, 'เบ': 1, 'บญ': 1, 'จพ': 1, 'ณร': 1, 'รง': 1, 'งค': 2, 'ค์': 2, '์พ': 1, 'ัน': 2, 'นธ': 1, 'ธุ': 1, 'ุ์': 1, '์บ': 1, 'บู': 1, 'ูร': 1, 'ะจ': 1, 'จั': 1, 'ทร': 1, 'ร์': 1, 'รต': 1, 'ตะ': 1, 'เล': 1, 'ลส': 1, 'ิช': 2, 'ชฌ': 1, 'ฌร': 1, 'ษี': 1, 'อบ': 1, 'บอ': 1, 'อ้': 1, 'ุท': 1, 'ยา': 1, 'รค': 1, 'คม': 1, 'มพ': 1, 'พย': 1, 'ยั': 1, 'ัค': 1, 'คฆ': 1, 'ฆ์': 1, 'นพ': 1, 'พา': 1, 'ชม': 1, 'มะ': 1, 'ะต': 1, 'มุ': 1, 'ุพ': 1, 'พู': 1, 'ลเ': 1, 'เก': 1, 'ษม': 1, 'มร': 1, 'ัต': 1, 'ตน': 1, 'นโ': 1, 'ิเ': 1, 'ที': 2, 'ีย': 1, 'ยน': 1, 'นป': 1, 'ปร': 1, 'ีป': 1, 'ปส': 1, 'งจ': 1, 'ตเ': 1, 'เม': 1, 'มต': 1, 'ตต': 1, 'ตา': 1, 'นศ': 1, 'คเ': 1, 'เป': 1, 'ปี': 1, 'ี่': 1, '่ย': 1}\n"
          ]
        }
      ]
    },
    {
      "cell_type": "code",
      "source": [
        "# create dataframe\n",
        "\n",
        "biTh_name_df = pd.DataFrame(list(bigram_name_th.items()), columns = ['Bigram', 'Count'])\n",
        "biTh_name_df = biTh_name_df.sort_values(by='Count', ascending=False).reset_index(drop = True)\n",
        "biTh_surname_df = pd.DataFrame(list(bigram_surname_th.items()), columns = ['Bigram', 'Count'])\n",
        "biTh_surname_df = biTh_surname_df.sort_values(by='Count', ascending=False).reset_index(drop = True)"
      ],
      "metadata": {
        "id": "AupRfyReeoya"
      },
      "execution_count": 70,
      "outputs": []
    },
    {
      "cell_type": "code",
      "source": [
        "# plot bigram thai name\n",
        "\n",
        "bigram = biTh_name_df['Bigram'][:20]\n",
        "count = biTh_name_df['Count'][:20]\n",
        "\n",
        "fig = plt.figure(figsize = (20, 10))\n",
        "\n",
        "plt.title('Top 20 Bigram letter in Thai name')\n",
        "plt.bar(bigram, count, color = 'cadetblue')\n",
        "plt.xlabel('Bigram')\n",
        "plt.ylabel('Bigram quantity')\n",
        "plt.show()"
      ],
      "metadata": {
        "colab": {
          "base_uri": "https://localhost:8080/",
          "height": 623
        },
        "id": "rGeexmQDfJ_f",
        "outputId": "9308f8bc-cbc8-4a2e-cf07-84baf33576da"
      },
      "execution_count": 71,
      "outputs": [
        {
          "output_type": "display_data",
          "data": {
            "text/plain": [
              "<Figure size 1440x720 with 1 Axes>"
            ],
            "image/png": "[encoded data removed]"
          },
          "metadata": {
            "needs_background": "light"
          }
        }
      ]
    },
    {
      "cell_type": "code",
      "source": [
        "# plot bigram thai surname\n",
        "\n",
        "bigram = biTh_surname_df['Bigram'][:20]\n",
        "count = biTh_surname_df['Count'][:20]\n",
        "\n",
        "fig = plt.figure(figsize = (20, 10))\n",
        "\n",
        "plt.title('Top 20 Bigram letter in Thai surname')\n",
        "plt.bar(bigram, count, color = 'cadetblue')\n",
        "plt.xlabel('Bigram')\n",
        "plt.ylabel('Bigram quantity')\n",
        "plt.show()"
      ],
      "metadata": {
        "colab": {
          "base_uri": "https://localhost:8080/",
          "height": 622
        },
        "id": "diyW-6A7fnm6",
        "outputId": "c8b86111-333c-47c0-bf2d-654b8c90035f"
      },
      "execution_count": 72,
      "outputs": [
        {
          "output_type": "display_data",
          "data": {
            "text/plain": [
              "<Figure size 1440x720 with 1 Axes>"
            ],
            "image/png": "[encoded data removed]"
          },
          "metadata": {
            "needs_background": "light"
          }
        }
      ]
    }
  ],
  "metadata": {
    "colab": {
      "provenance": []
    },
    "kernelspec": {
      "display_name": "Python 3 (ipykernel)",
      "language": "python",
      "name": "python3"
    },
    "language_info": {
      "codemirror_mode": {
        "name": "ipython",
        "version": 3
      },
      "file_extension": ".py",
      "mimetype": "text/x-python",
      "name": "python",
      "nbconvert_exporter": "python",
      "pygments_lexer": "ipython3",
      "version": "3.9.13"
    }
  },
  "nbformat": 4,
  "nbformat_minor": 0
}