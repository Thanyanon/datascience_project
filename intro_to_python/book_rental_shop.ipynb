{
  "nbformat": 4,
  "nbformat_minor": 0,
  "metadata": {
    "colab": {
      "provenance": []
    },
    "kernelspec": {
      "name": "python3",
      "display_name": "Python 3"
    },
    "language_info": {
      "name": "python"
    }
  },
  "cells": [
    {
      "cell_type": "markdown",
      "source": [
        "# Book rental shop\n",
        "\n",
        "## Input\n",
        "- Book types and price\n",
        "    1. novel: 50 thb\n",
        "    2. documentary: 30 thb\n",
        "    3. journey: 40 thb\n",
        "    4. comic: 20 thb\n",
        "- Book price input: 50 30 40 20\n",
        "- Book types rent quantity in: Mon Tue Wed Thu Fri\n",
        "    - novel rent quantity: 20 50 10 15 20\n",
        "    - documentary rent quantity: 30 40 20 65 35\n",
        "    - journey rent quantity: 75 35 42 70 45\n",
        "    - comic rent quantity: 40 25 35 22 55\n",
        "\n",
        "## Output\n",
        "First line: Most rent days and quantities\n",
        "- Thu 172\n",
        "\n",
        "Seconds line: Total rent prices for each day\n",
        "- 5700 5400 3480 5940 4950\n"
      ],
      "metadata": {
        "id": "4x7wUuiFf0cv"
      }
    },
    {
      "cell_type": "code",
      "source": [
        "# Library\n",
        "\n",
        "import pandas as pd\n",
        "import numpy as np"
      ],
      "metadata": {
        "id": "NyPX9YIwkVDR"
      },
      "execution_count": null,
      "outputs": []
    },
    {
      "cell_type": "code",
      "execution_count": null,
      "metadata": {
        "id": "K6pLky2RAUtL",
        "colab": {
          "base_uri": "https://localhost:8080/"
        },
        "outputId": "01a5658d-7e58-4c45-d48d-bf811d9c4982"
      },
      "outputs": [
        {
          "output_type": "stream",
          "name": "stdout",
          "text": [
            "   novel  documentary  journey  comic\n",
            "0     50           30       40     20\n"
          ]
        }
      ],
      "source": [
        "# Create a dictionary of book types and prices\n",
        "\n",
        "## input\n",
        "\n",
        "book_price_in = \"50 30 40 20\" \n",
        "\n",
        "## create a book prices dataframe\n",
        "\n",
        "list_price = list(map(int, book_price_in.split())) # convert string to int and stored in list\n",
        "list_book = [\"novel\", \"documentary\", \"journey\", \"comic\"]\n",
        "dict_book = { list_book[i] : list_price[i] for i in range(0, len(list_book))}\n",
        "df_book = pd.DataFrame(dict_book, index = [0])\n",
        "\n",
        "print(df_book)"
      ]
    },
    {
      "cell_type": "code",
      "source": [
        "# Create a dataframe of a book's rental quantity in a week\n",
        "\n",
        "## create read input quantity function\n",
        "\n",
        "def read_qty(book, qty) :\n",
        "    book_qty = list(map(int, qty.split())) # convert string to int and stored in list\n",
        "    dict_qty = {book : book_qty}\n",
        "    return dict_qty\n",
        "\n",
        "## input\n",
        "\n",
        "novel_qty_in = \"20 50 10 15 20\"\n",
        "docu_qty_in = \"30 40 20 65 35\"\n",
        "jour_qty_in = \"75 35 42 70 45\"\n",
        "comic_qty_in = \"40 25 35 22 55\"\n",
        "\n",
        "## store input to dictionary\n",
        "\n",
        "dict_qty = {}\n",
        "dict_qty.update(read_qty('novel', novel_qty_in))\n",
        "dict_qty.update(read_qty('documentary', docu_qty_in))\n",
        "dict_qty.update(read_qty('journey', jour_qty_in))\n",
        "dict_qty.update(read_qty('comic', comic_qty_in))\n",
        "dict_qty['total'] = list(map(sum, zip(*dict_qty.values()))) #  insert column of total rent in each day \n",
        "\n",
        "df_qty = pd.DataFrame(dict_qty) # create dataframe\n",
        "\n",
        "days = [\"Mon\", \"Tue\", \"Wed\", \"Thu\", \"Fri\"] # insert days column to dataframe\n",
        "df_qty.insert(loc = 0, column = 'days', value = days) \n",
        "\n",
        "print(df_qty)\n"
      ],
      "metadata": {
        "colab": {
          "base_uri": "https://localhost:8080/"
        },
        "id": "wBy0PGhaqhVr",
        "outputId": "1165d62f-7ac0-4524-f14d-06af6928c6dc"
      },
      "execution_count": null,
      "outputs": [
        {
          "output_type": "stream",
          "name": "stdout",
          "text": [
            "  days  novel  documentary  journey  comic  total\n",
            "0  Mon     20           30       75     40    165\n",
            "1  Tue     50           40       35     25    150\n",
            "2  Wed     10           20       42     35    107\n",
            "3  Thu     15           65       70     22    172\n",
            "4  Fri     20           35       45     55    155\n"
          ]
        }
      ]
    },
    {
      "cell_type": "code",
      "source": [
        "# Create book prices dataframe\n",
        "\n",
        "df_price = df_qty.iloc[:, 1:5]*list_price\n",
        "df_price['total'] = df_price.sum(axis = 1)\n",
        "df_price.insert(loc = 0, column = 'days', value = days)  # insert days column to dataframe\n",
        "\n",
        "print(df_price)"
      ],
      "metadata": {
        "colab": {
          "base_uri": "https://localhost:8080/"
        },
        "id": "GLDuXzexpSbG",
        "outputId": "2590d36a-7f3c-4371-f5f6-5d6ff33f0180"
      },
      "execution_count": null,
      "outputs": [
        {
          "output_type": "stream",
          "name": "stdout",
          "text": [
            "  days  novel  documentary  journey  comic  total\n",
            "0  Mon   1000          900     3000    800   5700\n",
            "1  Tue   2500         1200     1400    500   5600\n",
            "2  Wed    500          600     1680    700   3480\n",
            "3  Thu    750         1950     2800    440   5940\n",
            "4  Fri   1000         1050     1800   1100   4950\n"
          ]
        }
      ]
    },
    {
      "cell_type": "code",
      "source": [
        "# Find the most rent day and total rent prices in each day\n",
        "\n",
        "## most rent day and it's quantity\n",
        "\n",
        "df_most_rent = df_qty[['days', 'total']].loc[df_qty['total'].idxmax()]\n",
        "print(df_most_rent['days'], df_most_rent['total']) \n",
        "\n",
        "## total rent prices in each day\n",
        "\n",
        "df_price = df_qty.iloc[:, 1:5]*list_price\n",
        "df_price['total'] = df_price.sum(axis = 1)\n",
        "str_price = \"\"\n",
        "\n",
        "for i in range(0, 5) :\n",
        "    str_price = str_price + str(df_price.iloc[i, 4]) + ' '\n",
        "\n",
        "print(str_price) "
      ],
      "metadata": {
        "colab": {
          "base_uri": "https://localhost:8080/"
        },
        "id": "1mfIv0-iL3Qa",
        "outputId": "946c2ed5-d662-4de5-c356-bbcf4774af12"
      },
      "execution_count": null,
      "outputs": [
        {
          "output_type": "stream",
          "name": "stdout",
          "text": [
            "Thu 172\n",
            "5700 5600 3480 5940 4950 \n"
          ]
        }
      ]
    }
  ]
}